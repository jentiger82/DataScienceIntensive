{
 "cells": [
  {
   "cell_type": "markdown",
   "metadata": {},
   "source": [
    "# Predicting Parkinson's disease using phonetic features extracted from voice recordings of patient and control subjects\n",
    "\n"
   ]
  },
  {
   "cell_type": "markdown",
   "metadata": {},
   "source": [
    "Parkinson's disease (PD) is a progressive, incurable neurodegenerative disorder of the central nervous system that causes partial or full loss in motor reflexes, speech, behavior, mental processing, and other important functions. After Alzheimer's disease, PD is the second most common neurodegenerative disease. In general, PD occurs in one out of every hundred people over 65 years of age. Currently, there are only symptomatic treatments available and monitoring of disease progression requires special testing. The three data sets I will analyse in my Capstone Project were produced in order to determine if PD-associate speech impairments can be used to telediagnose PD or to telemonitor PD progression. PD is associated with speech impairments like dysphonia (defective use of voice), hypophonia (reduced volume), monotone (reduced pitch range), and dysarthia (difficulty with articulation of sounds).  \n",
    "\n",
    "For my first milestone of my Capstone Project, I selected the dataset provided by Betul Erdogdu Sakar et al. 2013 in the UCI Machine Learning Repository. The data set consists of 26 voice samples for each of the 20 PD patients and 20 healthy individuals selected for this study. In addition, there is an independent validation data set available from 28 additional PD patients with 6 sound recordings each. From each voice sample 26 different time-frequency-based features were extracted and will be used for the prediction. The main data set also includes the Unified Parkinson's Disease Rating Scale (UPDRS) as a measure of PD progression for each subject. In their original analysis Sakar et al. compared different cross-validation techniques in classification algorithms built for PD diagnosis. They used k-nearest neighbour and support vector machines as classification algorithms and evaluated the success of the models discriminating healthy subjects from PD patients according to accuracy, specificity, sensitivity, and Matthews correlation coefficient scores. \n",
    "\n",
    "In detail, Sakar et al. compared classification with Leave-One-Subject-Out (leaving out all 26 voice recordings of one subject for model building) to classification with Summarized Leave-One-Out (feature values of each subject were summarized using central tendency and dispersion metrics like mean and standard deviation). For the latter, the different metrics were used for model building in groups of two or six using the leave-one-out cross-validation technique. They found that representing samples of a subject with mean and standard deviation improves generalization of the predictive model. \n",
    "\n",
    "The main aim of my analysis will be to identify features from the voice recordings that best differentiates Parkinson’s disease patients from healthy individuals. For this I will apply different feature selection techniques. In addition, I will apply other classification algorithms to identify the best generalizable model differentiating PD patients and healthy control subjects.\n",
    "\n",
    "Clients for my study could be the Parkinson's Voice Initiative (http://www.parkinsonsvoice.org/index.php) and potentially Intel and other companies producing automatic telemonitoring devices, as those companies may become interested to introduce their devices as general option to diagnose and monitor progression of Parkinson’s disease in the patients’ home.\n",
    "\n",
    "For my milestone, I will explore the dataset by different visualization techniques to learn more about the features used in the analysis. In addition, I will persue some of the classification algorithms described by Sakar et al. 2013 in order to set the stage for my own analysis, which will culminate in a paper describing results and recommendations for my clients and be the finalization of my Capstone Project for the Springboard Data Science Intensive course.\n"
   ]
  },
  {
   "cell_type": "code",
   "execution_count": 1,
   "metadata": {
    "collapsed": true
   },
   "outputs": [],
   "source": [
    "# Load dataset (CSV file) into a Pandas dataframe\n",
    "import pandas as pd\n",
    "pd_s1 = pd.read_csv(\"train_data1.csv\",header=False) "
   ]
  },
  {
   "cell_type": "code",
   "execution_count": 2,
   "metadata": {
    "collapsed": false
   },
   "outputs": [
    {
     "data": {
      "text/html": [
       "<div>\n",
       "<table border=\"1\" class=\"dataframe\">\n",
       "  <thead>\n",
       "    <tr style=\"text-align: right;\">\n",
       "      <th></th>\n",
       "      <th>sample</th>\n",
       "      <th>d1</th>\n",
       "      <th>d2</th>\n",
       "      <th>d3</th>\n",
       "      <th>d4</th>\n",
       "      <th>d5</th>\n",
       "      <th>d6</th>\n",
       "      <th>d7</th>\n",
       "      <th>d8</th>\n",
       "      <th>d9</th>\n",
       "      <th>...</th>\n",
       "      <th>d19</th>\n",
       "      <th>d20</th>\n",
       "      <th>d21</th>\n",
       "      <th>d22</th>\n",
       "      <th>d23</th>\n",
       "      <th>d24</th>\n",
       "      <th>d25</th>\n",
       "      <th>d26</th>\n",
       "      <th>udprs</th>\n",
       "      <th>group</th>\n",
       "    </tr>\n",
       "  </thead>\n",
       "  <tbody>\n",
       "    <tr>\n",
       "      <th>0</th>\n",
       "      <td>1_1</td>\n",
       "      <td>1.488</td>\n",
       "      <td>0.000090</td>\n",
       "      <td>0.900</td>\n",
       "      <td>0.794</td>\n",
       "      <td>2.699</td>\n",
       "      <td>8.334</td>\n",
       "      <td>0.779</td>\n",
       "      <td>4.517</td>\n",
       "      <td>4.609</td>\n",
       "      <td>...</td>\n",
       "      <td>187.576</td>\n",
       "      <td>160</td>\n",
       "      <td>159</td>\n",
       "      <td>0.006065</td>\n",
       "      <td>0.000416</td>\n",
       "      <td>0.000</td>\n",
       "      <td>0</td>\n",
       "      <td>0.000</td>\n",
       "      <td>23</td>\n",
       "      <td>1</td>\n",
       "    </tr>\n",
       "    <tr>\n",
       "      <th>1</th>\n",
       "      <td>1_2</td>\n",
       "      <td>0.728</td>\n",
       "      <td>0.000038</td>\n",
       "      <td>0.353</td>\n",
       "      <td>0.376</td>\n",
       "      <td>1.059</td>\n",
       "      <td>5.864</td>\n",
       "      <td>0.642</td>\n",
       "      <td>2.058</td>\n",
       "      <td>3.180</td>\n",
       "      <td>...</td>\n",
       "      <td>234.505</td>\n",
       "      <td>170</td>\n",
       "      <td>169</td>\n",
       "      <td>0.005181</td>\n",
       "      <td>0.000403</td>\n",
       "      <td>2.247</td>\n",
       "      <td>0</td>\n",
       "      <td>0.000</td>\n",
       "      <td>23</td>\n",
       "      <td>1</td>\n",
       "    </tr>\n",
       "    <tr>\n",
       "      <th>2</th>\n",
       "      <td>1_3</td>\n",
       "      <td>1.220</td>\n",
       "      <td>0.000074</td>\n",
       "      <td>0.732</td>\n",
       "      <td>0.670</td>\n",
       "      <td>2.196</td>\n",
       "      <td>8.719</td>\n",
       "      <td>0.875</td>\n",
       "      <td>4.347</td>\n",
       "      <td>5.166</td>\n",
       "      <td>...</td>\n",
       "      <td>211.442</td>\n",
       "      <td>1431</td>\n",
       "      <td>1427</td>\n",
       "      <td>0.006071</td>\n",
       "      <td>0.000474</td>\n",
       "      <td>10.656</td>\n",
       "      <td>1</td>\n",
       "      <td>0.178</td>\n",
       "      <td>23</td>\n",
       "      <td>1</td>\n",
       "    </tr>\n",
       "    <tr>\n",
       "      <th>3</th>\n",
       "      <td>1_4</td>\n",
       "      <td>2.502</td>\n",
       "      <td>0.000123</td>\n",
       "      <td>1.156</td>\n",
       "      <td>1.634</td>\n",
       "      <td>3.469</td>\n",
       "      <td>13.513</td>\n",
       "      <td>1.273</td>\n",
       "      <td>5.263</td>\n",
       "      <td>8.771</td>\n",
       "      <td>...</td>\n",
       "      <td>220.230</td>\n",
       "      <td>94</td>\n",
       "      <td>92</td>\n",
       "      <td>0.004910</td>\n",
       "      <td>0.000320</td>\n",
       "      <td>0.000</td>\n",
       "      <td>0</td>\n",
       "      <td>0.000</td>\n",
       "      <td>23</td>\n",
       "      <td>1</td>\n",
       "    </tr>\n",
       "    <tr>\n",
       "      <th>4</th>\n",
       "      <td>1_5</td>\n",
       "      <td>3.509</td>\n",
       "      <td>0.000167</td>\n",
       "      <td>1.715</td>\n",
       "      <td>1.539</td>\n",
       "      <td>5.145</td>\n",
       "      <td>9.112</td>\n",
       "      <td>1.040</td>\n",
       "      <td>3.102</td>\n",
       "      <td>4.927</td>\n",
       "      <td>...</td>\n",
       "      <td>225.162</td>\n",
       "      <td>117</td>\n",
       "      <td>114</td>\n",
       "      <td>0.004757</td>\n",
       "      <td>0.000380</td>\n",
       "      <td>18.182</td>\n",
       "      <td>1</td>\n",
       "      <td>13.318</td>\n",
       "      <td>23</td>\n",
       "      <td>1</td>\n",
       "    </tr>\n",
       "  </tbody>\n",
       "</table>\n",
       "<p>5 rows × 29 columns</p>\n",
       "</div>"
      ],
      "text/plain": [
       "  sample     d1        d2     d3     d4     d5      d6     d7     d8     d9  \\\n",
       "0    1_1  1.488  0.000090  0.900  0.794  2.699   8.334  0.779  4.517  4.609   \n",
       "1    1_2  0.728  0.000038  0.353  0.376  1.059   5.864  0.642  2.058  3.180   \n",
       "2    1_3  1.220  0.000074  0.732  0.670  2.196   8.719  0.875  4.347  5.166   \n",
       "3    1_4  2.502  0.000123  1.156  1.634  3.469  13.513  1.273  5.263  8.771   \n",
       "4    1_5  3.509  0.000167  1.715  1.539  5.145   9.112  1.040  3.102  4.927   \n",
       "\n",
       "   ...        d19   d20   d21       d22       d23     d24  d25     d26  udprs  \\\n",
       "0  ...    187.576   160   159  0.006065  0.000416   0.000    0   0.000     23   \n",
       "1  ...    234.505   170   169  0.005181  0.000403   2.247    0   0.000     23   \n",
       "2  ...    211.442  1431  1427  0.006071  0.000474  10.656    1   0.178     23   \n",
       "3  ...    220.230    94    92  0.004910  0.000320   0.000    0   0.000     23   \n",
       "4  ...    225.162   117   114  0.004757  0.000380  18.182    1  13.318     23   \n",
       "\n",
       "   group  \n",
       "0      1  \n",
       "1      1  \n",
       "2      1  \n",
       "3      1  \n",
       "4      1  \n",
       "\n",
       "[5 rows x 29 columns]"
      ]
     },
     "execution_count": 2,
     "metadata": {},
     "output_type": "execute_result"
    }
   ],
   "source": [
    "pd_s1.head()"
   ]
  },
  {
   "cell_type": "markdown",
   "metadata": {},
   "source": [
    "Overview on the time-frequency-based features extracted from the collected voice samples:\n",
    "Features d1-d5 are frequency parameters based on Jitter, i.e. frequency of voice amplitudes.\n",
    "Features d6-d11 are amplitude (shimmer) based parameters.\n",
    "Features d12-d14 are harmonicity parameters and include autocorrelation, noise-to-harmonic and harmonic-to-noise.\n",
    "Features d15-d19 are parameters describing different elements of pitch.\n",
    "Features d20-d23 are pulse parameters, while features d24-d26 are voice parameters. "
   ]
  },
  {
   "cell_type": "markdown",
   "metadata": {},
   "source": [
    "d1\tJitter (local)  \n",
    "d2\tJitter (local, absolute)  \n",
    "d3\tJitter (RAP)  \n",
    "d4\tJitter (PPQ5)  \n",
    "d5\tJitter (DDP)  \n",
    "d6\tShimmer (local)  \n",
    "d7\tShimmer (local, dB)  \n",
    "d8\tShimmer (APQ3)  \n",
    "d9\tShimmer (APQ5)  \n",
    "d10\tShimmer (APQ11)  \n",
    "d11\tShimmer (DDA)  \n",
    "d12\tAutocorrelation (AC)  \n",
    "d13\tNoise-To-Harmonic (NTH)  \n",
    "d14\tHarmonic-To-Noise (HTN)  \n",
    "d15\tMedian pitch  \n",
    "d16\tMean pitch  \n",
    "d17\tPitch standard deviation  \n",
    "d18\tMinimum pitch  \n",
    "d19\tMaximum pitch  \n",
    "d20\tNumber of pulses  \n",
    "d21\tNumber of periods  \n",
    "d22\tMean period  \n",
    "d23\tPeriod standard deviation  \n",
    "d24\tFraction of locally unvoiced frames  \n",
    "d25\tNumber of voice breaks  \n",
    "d26\tDegree of voice breaks  "
   ]
  },
  {
   "cell_type": "code",
   "execution_count": 3,
   "metadata": {
    "collapsed": true
   },
   "outputs": [],
   "source": [
    "%matplotlib inline\n",
    "import matplotlib\n",
    "import matplotlib.pyplot as plt\n",
    "import numpy as np"
   ]
  },
  {
   "cell_type": "code",
   "execution_count": 4,
   "metadata": {
    "collapsed": false
   },
   "outputs": [],
   "source": [
    "#Identify relationship between variables by calculating Spearman rank correlations between each feature\n",
    "v_f = pd_s1.iloc[0:,1:27]\n",
    "corr_df = v_f.corr(method=\"spearman\")"
   ]
  },
  {
   "cell_type": "code",
   "execution_count": 5,
   "metadata": {
    "collapsed": false
   },
   "outputs": [
    {
     "name": "stdout",
     "output_type": "stream",
     "text": [
      "HEATMAP\n"
     ]
    },
    {
     "data": {
      "image/png": "[encoded data removed]",
      "text/plain": [
       "<matplotlib.figure.Figure at 0x182aa3c8>"
      ]
     },
     "metadata": {},
     "output_type": "display_data"
    }
   ],
   "source": [
    "#Create heatmap of correlation values calculated for each pair of features\n",
    "import seaborn\n",
    "print(\"HEATMAP\")\n",
    "# Create the heatmap using seaborn library\n",
    "seaborn.heatmap(corr_df, cmap='RdYlGn_r', vmax=1.0, vmin=-1.0 , linewidths=2.5)\n",
    "# Show the plot we reorient the labels for each column and row to make them easier to read.\n",
    "plt.yticks(rotation=0) \n",
    "plt.xticks(rotation=90) \n",
    "plt.show()"
   ]
  },
  {
   "cell_type": "markdown",
   "metadata": {},
   "source": [
    "It can be noted that a number of vocal measures are highly correlated with the others, because some measures indicated similar characteristics of the acoustic signals in the data set. The similar vocal measure groups are frequency parameters (d1-d5), amplitude parameters (d6-d11), pairs of pitch parameters (d12 and d14, d15 and d16), pitch parameters d20 and d21, as well as voice characteristics d25 and d26. Interestingly, certain feature pairs show strong anti-correlation such as d12 and d13, d13 and d14 as well as d15 and d22 and d16 and d22. Sakar et al. did not perform any feature selection. Therefore, I will apply feature selection techniques to identify the dominant features and exclude measures that contribute redundant information. Using less features may improve performance of the classifier and may reduce problems with overfitting."
   ]
  },
  {
   "cell_type": "markdown",
   "metadata": {},
   "source": [
    "Many of the features are characterized by different scales. Therefore, all the feature values were normalized, such that each feature has a zero mean and standard deviation of one. "
   ]
  },
  {
   "cell_type": "code",
   "execution_count": 6,
   "metadata": {
    "collapsed": false
   },
   "outputs": [
    {
     "data": {
      "text/html": [
       "<div>\n",
       "<table border=\"1\" class=\"dataframe\">\n",
       "  <thead>\n",
       "    <tr style=\"text-align: right;\">\n",
       "      <th></th>\n",
       "      <th>d1</th>\n",
       "      <th>d2</th>\n",
       "      <th>d3</th>\n",
       "      <th>d4</th>\n",
       "      <th>d5</th>\n",
       "      <th>d6</th>\n",
       "      <th>d7</th>\n",
       "      <th>d8</th>\n",
       "      <th>d9</th>\n",
       "      <th>d10</th>\n",
       "      <th>...</th>\n",
       "      <th>d19</th>\n",
       "      <th>d20</th>\n",
       "      <th>d21</th>\n",
       "      <th>d22</th>\n",
       "      <th>d23</th>\n",
       "      <th>d24</th>\n",
       "      <th>d25</th>\n",
       "      <th>d26</th>\n",
       "      <th>udprs</th>\n",
       "      <th>group</th>\n",
       "    </tr>\n",
       "  </thead>\n",
       "  <tbody>\n",
       "    <tr>\n",
       "      <th>0</th>\n",
       "      <td>-0.675064</td>\n",
       "      <td>-0.753234</td>\n",
       "      <td>-0.354330</td>\n",
       "      <td>-0.486789</td>\n",
       "      <td>-0.354665</td>\n",
       "      <td>-0.840833</td>\n",
       "      <td>-0.990060</td>\n",
       "      <td>-0.392215</td>\n",
       "      <td>-0.697093</td>\n",
       "      <td>-0.899786</td>\n",
       "      <td>...</td>\n",
       "      <td>-0.389168</td>\n",
       "      <td>0.334977</td>\n",
       "      <td>0.354918</td>\n",
       "      <td>-0.256961</td>\n",
       "      <td>-0.589505</td>\n",
       "      <td>-1.319784</td>\n",
       "      <td>-0.702651</td>\n",
       "      <td>-0.815863</td>\n",
       "      <td>0.629139</td>\n",
       "      <td>0.999519</td>\n",
       "    </tr>\n",
       "    <tr>\n",
       "      <th>1</th>\n",
       "      <td>-1.105646</td>\n",
       "      <td>-1.246545</td>\n",
       "      <td>-0.912800</td>\n",
       "      <td>-0.853861</td>\n",
       "      <td>-0.912783</td>\n",
       "      <td>-1.293860</td>\n",
       "      <td>-1.316195</td>\n",
       "      <td>-1.207754</td>\n",
       "      <td>-0.992287</td>\n",
       "      <td>-0.834629</td>\n",
       "      <td>...</td>\n",
       "      <td>-0.003052</td>\n",
       "      <td>0.401631</td>\n",
       "      <td>0.421844</td>\n",
       "      <td>-0.728068</td>\n",
       "      <td>-0.607183</td>\n",
       "      <td>-1.212658</td>\n",
       "      <td>-0.702651</td>\n",
       "      <td>-0.815863</td>\n",
       "      <td>0.629139</td>\n",
       "      <td>0.999519</td>\n",
       "    </tr>\n",
       "    <tr>\n",
       "      <th>2</th>\n",
       "      <td>-0.826900</td>\n",
       "      <td>-0.905149</td>\n",
       "      <td>-0.525853</td>\n",
       "      <td>-0.595681</td>\n",
       "      <td>-0.525844</td>\n",
       "      <td>-0.770219</td>\n",
       "      <td>-0.761527</td>\n",
       "      <td>-0.448596</td>\n",
       "      <td>-0.582032</td>\n",
       "      <td>-0.775788</td>\n",
       "      <td>...</td>\n",
       "      <td>-0.192807</td>\n",
       "      <td>8.806745</td>\n",
       "      <td>8.841230</td>\n",
       "      <td>-0.253749</td>\n",
       "      <td>-0.509274</td>\n",
       "      <td>-0.811758</td>\n",
       "      <td>-0.083365</td>\n",
       "      <td>-0.804123</td>\n",
       "      <td>0.629139</td>\n",
       "      <td>0.999519</td>\n",
       "    </tr>\n",
       "    <tr>\n",
       "      <th>3</th>\n",
       "      <td>-0.100576</td>\n",
       "      <td>-0.446896</td>\n",
       "      <td>-0.092962</td>\n",
       "      <td>0.250867</td>\n",
       "      <td>-0.092621</td>\n",
       "      <td>0.109059</td>\n",
       "      <td>0.185932</td>\n",
       "      <td>-0.144801</td>\n",
       "      <td>0.162666</td>\n",
       "      <td>0.758553</td>\n",
       "      <td>...</td>\n",
       "      <td>-0.120502</td>\n",
       "      <td>-0.104942</td>\n",
       "      <td>-0.093492</td>\n",
       "      <td>-0.872702</td>\n",
       "      <td>-0.722939</td>\n",
       "      <td>-1.319784</td>\n",
       "      <td>-0.702651</td>\n",
       "      <td>-0.815863</td>\n",
       "      <td>0.629139</td>\n",
       "      <td>0.999519</td>\n",
       "    </tr>\n",
       "    <tr>\n",
       "      <th>4</th>\n",
       "      <td>0.469945</td>\n",
       "      <td>-0.032605</td>\n",
       "      <td>0.477759</td>\n",
       "      <td>0.167442</td>\n",
       "      <td>0.477749</td>\n",
       "      <td>-0.698138</td>\n",
       "      <td>-0.368736</td>\n",
       "      <td>-0.861507</td>\n",
       "      <td>-0.631403</td>\n",
       "      <td>0.101002</td>\n",
       "      <td>...</td>\n",
       "      <td>-0.079923</td>\n",
       "      <td>0.048363</td>\n",
       "      <td>0.053747</td>\n",
       "      <td>-0.954174</td>\n",
       "      <td>-0.639680</td>\n",
       "      <td>-0.452955</td>\n",
       "      <td>-0.083365</td>\n",
       "      <td>0.062522</td>\n",
       "      <td>0.629139</td>\n",
       "      <td>0.999519</td>\n",
       "    </tr>\n",
       "  </tbody>\n",
       "</table>\n",
       "<p>5 rows × 28 columns</p>\n",
       "</div>"
      ],
      "text/plain": [
       "         d1        d2        d3        d4        d5        d6        d7  \\\n",
       "0 -0.675064 -0.753234 -0.354330 -0.486789 -0.354665 -0.840833 -0.990060   \n",
       "1 -1.105646 -1.246545 -0.912800 -0.853861 -0.912783 -1.293860 -1.316195   \n",
       "2 -0.826900 -0.905149 -0.525853 -0.595681 -0.525844 -0.770219 -0.761527   \n",
       "3 -0.100576 -0.446896 -0.092962  0.250867 -0.092621  0.109059  0.185932   \n",
       "4  0.469945 -0.032605  0.477759  0.167442  0.477749 -0.698138 -0.368736   \n",
       "\n",
       "         d8        d9       d10    ...          d19       d20       d21  \\\n",
       "0 -0.392215 -0.697093 -0.899786    ...    -0.389168  0.334977  0.354918   \n",
       "1 -1.207754 -0.992287 -0.834629    ...    -0.003052  0.401631  0.421844   \n",
       "2 -0.448596 -0.582032 -0.775788    ...    -0.192807  8.806745  8.841230   \n",
       "3 -0.144801  0.162666  0.758553    ...    -0.120502 -0.104942 -0.093492   \n",
       "4 -0.861507 -0.631403  0.101002    ...    -0.079923  0.048363  0.053747   \n",
       "\n",
       "        d22       d23       d24       d25       d26     udprs     group  \n",
       "0 -0.256961 -0.589505 -1.319784 -0.702651 -0.815863  0.629139  0.999519  \n",
       "1 -0.728068 -0.607183 -1.212658 -0.702651 -0.815863  0.629139  0.999519  \n",
       "2 -0.253749 -0.509274 -0.811758 -0.083365 -0.804123  0.629139  0.999519  \n",
       "3 -0.872702 -0.722939 -1.319784 -0.702651 -0.815863  0.629139  0.999519  \n",
       "4 -0.954174 -0.639680 -0.452955 -0.083365  0.062522  0.629139  0.999519  \n",
       "\n",
       "[5 rows x 28 columns]"
      ]
     },
     "execution_count": 6,
     "metadata": {},
     "output_type": "execute_result"
    }
   ],
   "source": [
    "pd1 = pd_s1.iloc[:,1:]\n",
    "pd1_norm = (pd1 - pd1.mean())/pd1.std()\n",
    "pd1_norm.head()"
   ]
  },
  {
   "cell_type": "markdown",
   "metadata": {},
   "source": [
    "Using unbiased dimensionality reduction approaches such as PCA, I tried to determine if using just three features, will give good descrimination of voice sample of PD patients and healthy controls. However, there is no clear separation between the two groups. "
   ]
  },
  {
   "cell_type": "code",
   "execution_count": 7,
   "metadata": {
    "collapsed": false
   },
   "outputs": [
    {
     "data": {
      "text/plain": [
       "<matplotlib.text.Text at 0x18d7b780>"
      ]
     },
     "execution_count": 7,
     "metadata": {},
     "output_type": "execute_result"
    },
    {
     "data": {
      "image/png": "[encoded data removed]",
      "text/plain": [
       "<matplotlib.figure.Figure at 0x18d11fd0>"
      ]
     },
     "metadata": {},
     "output_type": "display_data"
    }
   ],
   "source": [
    "from mpl_toolkits.mplot3d import Axes3D\n",
    "from sklearn import datasets\n",
    "from sklearn.decomposition import PCA\n",
    "pd1_n_data = pd1_norm.iloc[:,:26]\n",
    "x_red = PCA(n_components=3).fit_transform(pd1_n_data)\n",
    "pd = pd1.group == 1\n",
    "fig = plt.figure()\n",
    "ax = Axes3D(fig)\n",
    "ax.set_title('PCA',size=14)\n",
    "ax.scatter(x_red[:,0],x_red[:,1],x_red[:,2],c=pd)\n",
    "ax.set_xlabel('First eigenvector')\n",
    "ax.set_ylabel('Second eigenvector')\n",
    "ax.set_zlabel('Third eigenvector')"
   ]
  },
  {
   "cell_type": "code",
   "execution_count": 8,
   "metadata": {
    "collapsed": false
   },
   "outputs": [
    {
     "data": {
      "text/plain": [
       "<matplotlib.text.Text at 0x18f62f60>"
      ]
     },
     "execution_count": 8,
     "metadata": {},
     "output_type": "execute_result"
    },
    {
     "data": {
      "image/png": "[encoded data removed]",
      "text/plain": [
       "<matplotlib.figure.Figure at 0x48795f8>"
      ]
     },
     "metadata": {},
     "output_type": "display_data"
    }
   ],
   "source": [
    "from sklearn import manifold\n",
    "clf = manifold.LocallyLinearEmbedding(n_neighbors=30, n_components=3,\n",
    "                                      method='standard')\n",
    "X_lle = clf.fit_transform(pd1_n_data)\n",
    "pd = pd1.group == 1\n",
    "fig = plt.figure()\n",
    "ax = Axes3D(fig)\n",
    "ax.set_title('LLE',size=14)\n",
    "ax.scatter(X_lle[:,0],X_lle[:,1],X_lle[:,2],c=pd)\n",
    "ax.set_xlabel('First eigenvector')\n",
    "ax.set_ylabel('Second eigenvector')\n",
    "ax.set_zlabel('Third eigenvector')"
   ]
  },
  {
   "cell_type": "markdown",
   "metadata": {},
   "source": [
    "The difficulty in separating the two groups may be the underlying variations between different voice samples of a subject. The variations could originate from the fact that not all the voice samples of a PD patient show indications of speech impairment. To decrease the effect of this variations Sakar et al. summarized feature values of the 26 voice samples of each subject using central tendency and dispersion metrics such as mean, median, trimmed mean, standard deviation, interquartile range, and mean absolute deviation. "
   ]
  },
  {
   "cell_type": "markdown",
   "metadata": {},
   "source": [
    "I exported the feature table to excel and summarized the 26 voice samples of each subject according to the described metrics. Next I imported the resulting table back into this notebook."
   ]
  },
  {
   "cell_type": "code",
   "execution_count": 9,
   "metadata": {
    "collapsed": false
   },
   "outputs": [
    {
     "data": {
      "text/html": [
       "<div>\n",
       "<table border=\"1\" class=\"dataframe\">\n",
       "  <thead>\n",
       "    <tr style=\"text-align: right;\">\n",
       "      <th></th>\n",
       "      <th>sample</th>\n",
       "      <th>d1</th>\n",
       "      <th>d2</th>\n",
       "      <th>d3</th>\n",
       "      <th>d4</th>\n",
       "      <th>d5</th>\n",
       "      <th>d6</th>\n",
       "      <th>d7</th>\n",
       "      <th>d8</th>\n",
       "      <th>d9</th>\n",
       "      <th>...</th>\n",
       "      <th>d18</th>\n",
       "      <th>d19</th>\n",
       "      <th>d20</th>\n",
       "      <th>d21</th>\n",
       "      <th>d22</th>\n",
       "      <th>d23</th>\n",
       "      <th>d24</th>\n",
       "      <th>d25</th>\n",
       "      <th>d26</th>\n",
       "      <th>group</th>\n",
       "    </tr>\n",
       "  </thead>\n",
       "  <tbody>\n",
       "    <tr>\n",
       "      <th>0</th>\n",
       "      <td>1_1</td>\n",
       "      <td>-0.203995</td>\n",
       "      <td>-0.524940</td>\n",
       "      <td>-0.141694</td>\n",
       "      <td>-0.075201</td>\n",
       "      <td>-0.141692</td>\n",
       "      <td>-0.434702</td>\n",
       "      <td>-0.303912</td>\n",
       "      <td>-0.500768</td>\n",
       "      <td>-0.344154</td>\n",
       "      <td>...</td>\n",
       "      <td>0.611605</td>\n",
       "      <td>-0.067034</td>\n",
       "      <td>0.411629</td>\n",
       "      <td>0.424419</td>\n",
       "      <td>-0.813985</td>\n",
       "      <td>-0.574418</td>\n",
       "      <td>-0.494137</td>\n",
       "      <td>-0.250096</td>\n",
       "      <td>-0.365661</td>\n",
       "      <td>1</td>\n",
       "    </tr>\n",
       "    <tr>\n",
       "      <th>1</th>\n",
       "      <td>2_1</td>\n",
       "      <td>-0.274792</td>\n",
       "      <td>-0.587957</td>\n",
       "      <td>-0.196590</td>\n",
       "      <td>-0.082834</td>\n",
       "      <td>-0.196588</td>\n",
       "      <td>-0.525639</td>\n",
       "      <td>-0.380639</td>\n",
       "      <td>-0.510118</td>\n",
       "      <td>-0.458914</td>\n",
       "      <td>...</td>\n",
       "      <td>0.723572</td>\n",
       "      <td>-0.039336</td>\n",
       "      <td>-0.061617</td>\n",
       "      <td>-0.049989</td>\n",
       "      <td>-0.871653</td>\n",
       "      <td>-0.611231</td>\n",
       "      <td>-0.561296</td>\n",
       "      <td>-0.393008</td>\n",
       "      <td>-0.809993</td>\n",
       "      <td>1</td>\n",
       "    </tr>\n",
       "    <tr>\n",
       "      <th>2</th>\n",
       "      <td>3_1</td>\n",
       "      <td>-0.266605</td>\n",
       "      <td>-0.567582</td>\n",
       "      <td>-0.175456</td>\n",
       "      <td>-0.118049</td>\n",
       "      <td>-0.175454</td>\n",
       "      <td>-0.448936</td>\n",
       "      <td>-0.302081</td>\n",
       "      <td>-0.528210</td>\n",
       "      <td>-0.389082</td>\n",
       "      <td>...</td>\n",
       "      <td>0.674655</td>\n",
       "      <td>-0.072676</td>\n",
       "      <td>0.039698</td>\n",
       "      <td>0.052074</td>\n",
       "      <td>-0.842487</td>\n",
       "      <td>-0.580278</td>\n",
       "      <td>-0.534205</td>\n",
       "      <td>-0.362044</td>\n",
       "      <td>-0.499415</td>\n",
       "      <td>1</td>\n",
       "    </tr>\n",
       "    <tr>\n",
       "      <th>3</th>\n",
       "      <td>4_1</td>\n",
       "      <td>0.572402</td>\n",
       "      <td>0.424184</td>\n",
       "      <td>0.463871</td>\n",
       "      <td>0.522391</td>\n",
       "      <td>0.463874</td>\n",
       "      <td>0.490906</td>\n",
       "      <td>0.554996</td>\n",
       "      <td>0.432066</td>\n",
       "      <td>0.469324</td>\n",
       "      <td>...</td>\n",
       "      <td>0.491145</td>\n",
       "      <td>0.177804</td>\n",
       "      <td>1.750148</td>\n",
       "      <td>1.754059</td>\n",
       "      <td>0.215338</td>\n",
       "      <td>0.190838</td>\n",
       "      <td>0.642607</td>\n",
       "      <td>0.569142</td>\n",
       "      <td>0.633545</td>\n",
       "      <td>1</td>\n",
       "    </tr>\n",
       "    <tr>\n",
       "      <th>4</th>\n",
       "      <td>5_1</td>\n",
       "      <td>0.409244</td>\n",
       "      <td>0.303281</td>\n",
       "      <td>0.346247</td>\n",
       "      <td>0.373198</td>\n",
       "      <td>0.346241</td>\n",
       "      <td>0.400195</td>\n",
       "      <td>0.457517</td>\n",
       "      <td>0.330099</td>\n",
       "      <td>0.375250</td>\n",
       "      <td>...</td>\n",
       "      <td>0.371086</td>\n",
       "      <td>0.149569</td>\n",
       "      <td>0.767807</td>\n",
       "      <td>0.767123</td>\n",
       "      <td>0.167476</td>\n",
       "      <td>0.148125</td>\n",
       "      <td>0.516585</td>\n",
       "      <td>0.452555</td>\n",
       "      <td>0.518575</td>\n",
       "      <td>1</td>\n",
       "    </tr>\n",
       "  </tbody>\n",
       "</table>\n",
       "<p>5 rows × 28 columns</p>\n",
       "</div>"
      ],
      "text/plain": [
       "  sample        d1        d2        d3        d4        d5        d6  \\\n",
       "0    1_1 -0.203995 -0.524940 -0.141694 -0.075201 -0.141692 -0.434702   \n",
       "1    2_1 -0.274792 -0.587957 -0.196590 -0.082834 -0.196588 -0.525639   \n",
       "2    3_1 -0.266605 -0.567582 -0.175456 -0.118049 -0.175454 -0.448936   \n",
       "3    4_1  0.572402  0.424184  0.463871  0.522391  0.463874  0.490906   \n",
       "4    5_1  0.409244  0.303281  0.346247  0.373198  0.346241  0.400195   \n",
       "\n",
       "         d7        d8        d9  ...         d18       d19       d20  \\\n",
       "0 -0.303912 -0.500768 -0.344154  ...    0.611605 -0.067034  0.411629   \n",
       "1 -0.380639 -0.510118 -0.458914  ...    0.723572 -0.039336 -0.061617   \n",
       "2 -0.302081 -0.528210 -0.389082  ...    0.674655 -0.072676  0.039698   \n",
       "3  0.554996  0.432066  0.469324  ...    0.491145  0.177804  1.750148   \n",
       "4  0.457517  0.330099  0.375250  ...    0.371086  0.149569  0.767807   \n",
       "\n",
       "        d21       d22       d23       d24       d25       d26  group  \n",
       "0  0.424419 -0.813985 -0.574418 -0.494137 -0.250096 -0.365661      1  \n",
       "1 -0.049989 -0.871653 -0.611231 -0.561296 -0.393008 -0.809993      1  \n",
       "2  0.052074 -0.842487 -0.580278 -0.534205 -0.362044 -0.499415      1  \n",
       "3  1.754059  0.215338  0.190838  0.642607  0.569142  0.633545      1  \n",
       "4  0.767123  0.167476  0.148125  0.516585  0.452555  0.518575      1  \n",
       "\n",
       "[5 rows x 28 columns]"
      ]
     },
     "execution_count": 9,
     "metadata": {},
     "output_type": "execute_result"
    }
   ],
   "source": [
    "import pandas as pd\n",
    "pd_sf = pd.read_csv(\"PD1_sumFeatures.csv\",header=False)\n",
    "pd_sf.head()"
   ]
  },
  {
   "cell_type": "code",
   "execution_count": 10,
   "metadata": {
    "collapsed": false
   },
   "outputs": [
    {
     "name": "stdout",
     "output_type": "stream",
     "text": [
      "         d1        d2        d3        d4        d5        d6        d7  \\\n",
      "0 -0.203995 -0.524940 -0.141694 -0.075201 -0.141692 -0.434702 -0.303912   \n",
      "1 -0.274792 -0.587957 -0.196590 -0.082834 -0.196588 -0.525639 -0.380639   \n",
      "2 -0.266605 -0.567582 -0.175456 -0.118049 -0.175454 -0.448936 -0.302081   \n",
      "3  0.572402  0.424184  0.463871  0.522391  0.463874  0.490906  0.554996   \n",
      "4  0.409244  0.303281  0.346247  0.373198  0.346241  0.400195  0.457517   \n",
      "\n",
      "         d8        d9       d10    ...          d17       d18       d19  \\\n",
      "0 -0.500768 -0.344154 -0.053042    ...    -0.337666  0.611605 -0.067034   \n",
      "1 -0.510118 -0.458914 -0.127296    ...    -0.332077  0.723572 -0.039336   \n",
      "2 -0.528210 -0.389082 -0.107682    ...    -0.346713  0.674655 -0.072676   \n",
      "3  0.432066  0.469324  0.761485    ...     0.176098  0.491145  0.177804   \n",
      "4  0.330099  0.375250  0.645334    ...     0.143939  0.371086  0.149569   \n",
      "\n",
      "        d20       d21       d22       d23       d24       d25       d26  \n",
      "0  0.411629  0.424419 -0.813985 -0.574418 -0.494137 -0.250096 -0.365661  \n",
      "1 -0.061617 -0.049989 -0.871653 -0.611231 -0.561296 -0.393008 -0.809993  \n",
      "2  0.039698  0.052074 -0.842487 -0.580278 -0.534205 -0.362044 -0.499415  \n",
      "3  1.750148  1.754059  0.215338  0.190838  0.642607  0.569142  0.633545  \n",
      "4  0.767807  0.767123  0.167476  0.148125  0.516585  0.452555  0.518575  \n",
      "\n",
      "[5 rows x 26 columns]\n",
      "0    1\n",
      "1    1\n",
      "2    1\n",
      "3    1\n",
      "4    1\n",
      "Name: group, dtype: int64\n",
      "240\n"
     ]
    }
   ],
   "source": [
    "#get a table with all the feature data\n",
    "pd1_sf_f = pd_sf.iloc[:,1:27]\n",
    "print(pd1_sf_f.head())\n",
    "#get an array with all the labels\n",
    "pd1_sf_l = pd_sf.iloc[:,-1]\n",
    "print(pd1_sf_l[0:5])\n",
    "print(len(pd1_sf_l))"
   ]
  },
  {
   "cell_type": "code",
   "execution_count": 11,
   "metadata": {
    "collapsed": false
   },
   "outputs": [
    {
     "name": "stdout",
     "output_type": "stream",
     "text": [
      "0    1\n",
      "1    1\n",
      "2    1\n",
      "3    1\n",
      "4    1\n",
      "Name: group, dtype: int64\n",
      "1040\n"
     ]
    }
   ],
   "source": [
    "#Get features and labels for the original normalized dataset including the 26 separate voice samples of each subject\n",
    "pd1_features = pd1_norm.iloc[:,0:26]\n",
    "pd1_features.head()\n",
    "pd1_labels = pd_s1.iloc[:,-1]\n",
    "print(pd1_labels[0:5])\n",
    "print(len(pd1_labels))"
   ]
  },
  {
   "cell_type": "markdown",
   "metadata": {},
   "source": [
    "## k-Nearest neighbour classification"
   ]
  },
  {
   "cell_type": "markdown",
   "metadata": {},
   "source": [
    "K-nearest neighbour classifier: Euclidean distance metric and k parameters of 1, 3, 5, and 7\n",
    "\n",
    "I will use accuracy and Matthews Correlation Coefficient (MCC) as evaluation metrics of each classifier."
   ]
  },
  {
   "cell_type": "markdown",
   "metadata": {},
   "source": [
    "###Leave-one-subject-out (LOSO)"
   ]
  },
  {
   "cell_type": "markdown",
   "metadata": {},
   "source": [
    "If the majority of the voice samples of a test individual are classified as PD, then the individual is classified as PD (1) and otherwise as healthy (0)."
   ]
  },
  {
   "cell_type": "code",
   "execution_count": 12,
   "metadata": {
    "collapsed": true
   },
   "outputs": [],
   "source": [
    "from sklearn import neighbors\n",
    "from sklearn.metrics import accuracy_score,matthews_corrcoef\n",
    "import numpy as np\n",
    "from scipy import interp"
   ]
  },
  {
   "cell_type": "code",
   "execution_count": 13,
   "metadata": {
    "collapsed": false
   },
   "outputs": [
    {
     "name": "stdout",
     "output_type": "stream",
     "text": [
      "[1, 1, 1, 1, 1, 1, 1, 1, 1, 1, 1, 1, 1, 1, 1, 1, 1, 1, 1, 1, 0, 0, 0, 0, 0, 0, 0, 0, 0, 0, 0, 0, 0, 0, 0, 0, 0, 0, 0, 0]\n"
     ]
    }
   ],
   "source": [
    "true_labels = [1]*20+[0]*20\n",
    "print(true_labels)"
   ]
  },
  {
   "cell_type": "code",
   "execution_count": 16,
   "metadata": {
    "collapsed": false
   },
   "outputs": [
    {
     "name": "stdout",
     "output_type": "stream",
     "text": [
      "[1, 1, 1, 1, 1, 1, 1, 1, 1, 1, 1, 1, 1, 1, 1, 1, 1, 1, 1, 1, 0, 0, 0, 0, 0, 0, 0, 0, 0, 0, 0, 0, 0, 0, 0, 0, 0, 0, 0, 0]\n",
      "[1, 1, 1, 0, 1, 0, 1, 1, 0, 0, 1, 1, 1, 1, 0, 0, 0, 1, 0, 0, 1, 1, 1, 1, 0, 0, 1, 1, 1, 0, 0, 0, 0, 1, 0, 0, 0, 0, 0, 1]\n",
      "('Accuracy:', '55.00')\n",
      "('MCC:', '0.1000')\n"
     ]
    }
   ],
   "source": [
    "## K-nearest neighbour with k=1\n",
    "pred_labels = []\n",
    "for i in range(0,40):\n",
    "    s = i*26\n",
    "    e = i*26+26\n",
    "    r = range(s,e)\n",
    "    pd1_test = pd1_features[pd1_features.index.isin(r)]\n",
    "    pd1_train = pd1_features[pd1_features.index.isin(r)==False]\n",
    "    pd1_test_l = pd1_labels[pd1_features.index.isin(r)]\n",
    "    pd1_train_l = pd1_labels[pd1_features.index.isin(r)==False]\n",
    "    clf = neighbors.KNeighborsClassifier(1, weights='uniform')\n",
    "    clf.fit(pd1_train, pd1_train_l)\n",
    "    pred = clf.predict(pd1_test)\n",
    "    if(sum(pred)>13):\n",
    "        pred_labels.append(1)\n",
    "    else:\n",
    "        pred_labels.append(0)\n",
    "print(true_labels)\n",
    "print(pred_labels)\n",
    "print(\"Accuracy:\",format(accuracy_score(true_labels,pred_labels)*100,'.2f'))\n",
    "print(\"MCC:\",format(matthews_corrcoef(true_labels,pred_labels),'.4f'))"
   ]
  },
  {
   "cell_type": "code",
   "execution_count": 18,
   "metadata": {
    "collapsed": false
   },
   "outputs": [
    {
     "name": "stdout",
     "output_type": "stream",
     "text": [
      "[1, 1, 1, 1, 1, 1, 1, 1, 1, 1, 1, 1, 1, 1, 1, 1, 1, 1, 1, 1, 0, 0, 0, 0, 0, 0, 0, 0, 0, 0, 0, 0, 0, 0, 0, 0, 0, 0, 0, 0]\n",
      "[1, 1, 1, 0, 0, 1, 1, 0, 0, 0, 1, 1, 1, 1, 0, 0, 0, 1, 1, 0, 1, 0, 1, 1, 0, 1, 1, 1, 1, 0, 0, 0, 0, 1, 0, 0, 1, 0, 0, 1]\n",
      "('Accuracy:', '52.50')\n",
      "('MCC:', '0.0501')\n"
     ]
    }
   ],
   "source": [
    "## K-nearest neighbour with k=3\n",
    "pred_labels = []\n",
    "for i in range(0,40):\n",
    "    s = i*26\n",
    "    e = i*26+26\n",
    "    r = range(s,e)\n",
    "    pd1_test = pd1_features[pd1_features.index.isin(r)]\n",
    "    pd1_train = pd1_features[pd1_features.index.isin(r)==False]\n",
    "    pd1_test_l = pd1_labels[pd1_features.index.isin(r)]\n",
    "    pd1_train_l = pd1_labels[pd1_features.index.isin(r)==False]\n",
    "    clf = neighbors.KNeighborsClassifier(3, weights='uniform')\n",
    "    clf.fit(pd1_train, pd1_train_l)\n",
    "    pred = clf.predict(pd1_test)\n",
    "    if(sum(pred)>13):\n",
    "        pred_labels.append(1)\n",
    "    else:\n",
    "        pred_labels.append(0)\n",
    "        \n",
    "print(true_labels)\n",
    "print(pred_labels)\n",
    "print(\"Accuracy:\",format(accuracy_score(true_labels,pred_labels)*100,'.2f'))\n",
    "print(\"MCC:\",format(matthews_corrcoef(true_labels,pred_labels),'.4f'))"
   ]
  },
  {
   "cell_type": "code",
   "execution_count": 19,
   "metadata": {
    "collapsed": false
   },
   "outputs": [
    {
     "name": "stdout",
     "output_type": "stream",
     "text": [
      "[1, 1, 1, 1, 1, 1, 1, 1, 1, 1, 1, 1, 1, 1, 1, 1, 1, 1, 1, 1, 0, 0, 0, 0, 0, 0, 0, 0, 0, 0, 0, 0, 0, 0, 0, 0, 0, 0, 0, 0]\n",
      "[1, 1, 1, 0, 1, 1, 1, 0, 1, 0, 1, 1, 1, 1, 0, 0, 0, 1, 1, 0, 1, 0, 1, 0, 0, 1, 1, 1, 1, 0, 0, 0, 0, 1, 0, 0, 1, 0, 0, 1]\n",
      "('Accuracy:', '60.00')\n",
      "('MCC:', '0.2010')\n"
     ]
    }
   ],
   "source": [
    "true_labels = [1]*20+[0]*20\n",
    "#print(true_labels)\n",
    "## K-nearest neighbour with k=5\n",
    "pred_labels = []\n",
    "for i in range(0,40):\n",
    "    s = i*26\n",
    "    e = i*26+26\n",
    "    r = range(s,e)\n",
    "    pd1_test = pd1_features[pd1_features.index.isin(r)]\n",
    "    pd1_train = pd1_features[pd1_features.index.isin(r)==False]\n",
    "    pd1_test_l = pd1_labels[pd1_features.index.isin(r)]\n",
    "    pd1_train_l = pd1_labels[pd1_features.index.isin(r)==False]\n",
    "    clf = neighbors.KNeighborsClassifier(5, weights='uniform')\n",
    "    clf.fit(pd1_train, pd1_train_l)\n",
    "    pred = clf.predict(pd1_test)\n",
    "    if(sum(pred)>13):\n",
    "        pred_labels.append(1)\n",
    "    else:\n",
    "        pred_labels.append(0)\n",
    "print(true_labels)\n",
    "print(pred_labels)\n",
    "print(\"Accuracy:\",format(accuracy_score(true_labels,pred_labels)*100,'.2f'))\n",
    "print(\"MCC:\",format(matthews_corrcoef(true_labels,pred_labels),'.4f'))"
   ]
  },
  {
   "cell_type": "code",
   "execution_count": 20,
   "metadata": {
    "collapsed": false
   },
   "outputs": [
    {
     "name": "stdout",
     "output_type": "stream",
     "text": [
      "[1, 1, 1, 1, 1, 1, 1, 1, 1, 1, 1, 1, 1, 1, 1, 1, 1, 1, 1, 1, 0, 0, 0, 0, 0, 0, 0, 0, 0, 0, 0, 0, 0, 0, 0, 0, 0, 0, 0, 0]\n",
      "[1, 1, 1, 0, 1, 1, 1, 1, 0, 0, 1, 1, 1, 1, 1, 0, 0, 1, 1, 0, 1, 0, 1, 1, 0, 1, 1, 1, 1, 0, 0, 0, 0, 1, 1, 0, 1, 0, 0, 1]\n",
      "('Accuracy:', '57.50')\n",
      "('MCC:', '0.1549')\n"
     ]
    }
   ],
   "source": [
    "## K-nearest neighbour with k=7\n",
    "pred_labels = []\n",
    "for i in range(0,40):\n",
    "    s = i*26\n",
    "    e = i*26+26\n",
    "    r = range(s,e)\n",
    "    pd1_test = pd1_features[pd1_features.index.isin(r)]\n",
    "    pd1_train = pd1_features[pd1_features.index.isin(r)==False]\n",
    "    pd1_test_l = pd1_labels[pd1_features.index.isin(r)]\n",
    "    pd1_train_l = pd1_labels[pd1_features.index.isin(r)==False]\n",
    "    clf = neighbors.KNeighborsClassifier(7, weights='uniform')\n",
    "    clf.fit(pd1_train, pd1_train_l)\n",
    "    pred = clf.predict(pd1_test)\n",
    "    if(sum(pred)>13):\n",
    "        pred_labels.append(1)\n",
    "    else:\n",
    "        pred_labels.append(0)\n",
    "print(true_labels)\n",
    "print(pred_labels)\n",
    "print(\"Accuracy:\",format(accuracy_score(true_labels,pred_labels)*100,'.2f'))\n",
    "print(\"MCC:\",format(matthews_corrcoef(true_labels,pred_labels),'.4f'))"
   ]
  },
  {
   "cell_type": "markdown",
   "metadata": {},
   "source": [
    "The highest accuracy of 60% and highest MCC of 0.201 is achieved with k=5, when using LOSO cross-validation."
   ]
  },
  {
   "cell_type": "markdown",
   "metadata": {},
   "source": [
    "###Summarized Leave-One-Out (s-LOO)"
   ]
  },
  {
   "cell_type": "markdown",
   "metadata": {},
   "source": [
    "Summary Metrics:\n",
    "1 - mean\n",
    "2 - median\n",
    "3 - trimmed mean (25% removed)\n",
    "4 - standard deviation\n",
    "5 - mean absolute deviation\n",
    "6 - interquartile range"
   ]
  },
  {
   "cell_type": "code",
   "execution_count": 21,
   "metadata": {
    "collapsed": false,
    "scrolled": true
   },
   "outputs": [
    {
     "name": "stdout",
     "output_type": "stream",
     "text": [
      "[1, 1, 1, 1, 1, 1, 1, 1, 1, 1, 1, 1, 1, 1, 1, 1, 1, 1, 1, 1, 1, 1, 1, 1, 1, 1, 1, 1, 1, 1, 1, 1, 1, 1, 1, 1, 1, 1, 1, 1, 1, 1, 1, 1, 1, 1, 1, 1, 1, 1, 1, 1, 1, 1, 1, 1, 1, 1, 1, 1, 1, 1, 1, 1, 1, 1, 1, 1, 1, 1, 1, 1, 1, 1, 1, 1, 1, 1, 1, 1, 1, 1, 1, 1, 1, 1, 1, 1, 1, 1, 1, 1, 1, 1, 1, 1, 1, 1, 1, 1, 1, 1, 1, 1, 1, 1, 1, 1, 1, 1, 1, 1, 1, 1, 1, 1, 1, 1, 1, 1, 0, 0, 0, 0, 0, 0, 0, 0, 0, 0, 0, 0, 0, 0, 0, 0, 0, 0, 0, 0, 0, 0, 0, 0, 0, 0, 0, 0, 0, 0, 0, 0, 0, 0, 0, 0, 0, 0, 0, 0, 0, 0, 0, 0, 0, 0, 0, 0, 0, 0, 0, 0, 0, 0, 0, 0, 0, 0, 0, 0, 0, 0, 0, 0, 0, 0, 0, 0, 0, 0, 0, 0, 0, 0, 0, 0, 0, 0, 0, 0, 0, 0, 0, 0, 0, 0, 0, 0, 0, 0, 0, 0, 0, 0, 0, 0, 0, 0, 0, 0, 0, 0, 0, 0, 0, 0, 0, 0, 0, 0, 0, 0, 0, 0, 0, 0, 0, 0, 0, 0]\n",
      "[1, 1, 1, 1, 1, 0, 1, 1, 1, 1, 1, 0, 1, 1, 1, 1, 0, 1, 1, 1, 1, 1, 0, 0, 1, 1, 1, 1, 1, 1, 1, 1, 1, 1, 1, 1, 1, 1, 1, 1, 1, 1, 1, 1, 1, 0, 0, 1, 1, 1, 1, 1, 1, 0, 1, 1, 1, 1, 1, 0, 1, 1, 1, 1, 1, 1, 1, 1, 1, 1, 1, 1, 1, 1, 1, 1, 1, 1, 1, 1, 1, 1, 1, 1, 1, 1, 1, 0, 0, 1, 1, 1, 1, 0, 0, 0, 1, 1, 1, 1, 0, 1, 1, 1, 1, 1, 1, 1, 1, 1, 1, 1, 1, 1, 1, 1, 1, 0, 0, 0, 0, 0, 0, 0, 0, 1, 0, 1, 0, 0, 1, 1, 0, 0, 0, 1, 1, 0, 0, 0, 0, 0, 0, 0, 0, 0, 0, 0, 0, 0, 0, 0, 0, 0, 0, 0, 0, 0, 0, 1, 1, 0, 0, 0, 0, 0, 0, 0, 0, 0, 0, 1, 0, 1, 0, 0, 0, 0, 0, 1, 0, 0, 0, 0, 0, 0, 0, 0, 0, 0, 0, 0, 0, 0, 0, 0, 1, 0, 0, 0, 0, 1, 0, 1, 0, 0, 0, 0, 0, 1, 0, 0, 0, 0, 1, 0, 0, 0, 0, 0, 0, 1, 0, 0, 0, 0, 0, 1, 0, 0, 0, 1, 1, 0, 0, 0, 0, 1, 1, 0]\n",
      "('Accuracy:', '83.33')\n",
      "('MCC:', '0.6670')\n"
     ]
    }
   ],
   "source": [
    "true_labels = [1]*120+[0]*120\n",
    "## K-nearest neighbour with k=1; s-LOO all summary metrics\n",
    "pred_labels = []\n",
    "for i in range(0,len(true_labels)):\n",
    "    #s = i*6\n",
    "    #e = i*6+6\n",
    "    #r = range(s,e)\n",
    "    pd1_test = pd1_sf_f[pd1_sf_f.index.isin([i])]\n",
    "    pd1_train = pd1_sf_f[pd1_sf_f.index.isin([i])==False]\n",
    "    pd1_test_l = pd1_sf_l[pd1_sf_f.index.isin([i])]\n",
    "    pd1_train_l = pd1_sf_l[pd1_sf_f.index.isin([i])==False]\n",
    "    clf = neighbors.KNeighborsClassifier(1, weights='uniform')\n",
    "    clf.fit(pd1_train, pd1_train_l)\n",
    "    pred = clf.predict(pd1_test)\n",
    "    pred_labels.append(pred[0])\n",
    "print(true_labels)\n",
    "print(pred_labels)\n",
    "print(\"Accuracy:\",format(accuracy_score(true_labels,pred_labels)*100,'.2f'))\n",
    "print(\"MCC:\",format(matthews_corrcoef(true_labels,pred_labels),'.4f'))"
   ]
  },
  {
   "cell_type": "code",
   "execution_count": 22,
   "metadata": {
    "collapsed": false
   },
   "outputs": [
    {
     "name": "stdout",
     "output_type": "stream",
     "text": [
      "[1, 1, 1, 1, 1, 1, 1, 1, 1, 1, 1, 1, 1, 1, 1, 1, 1, 1, 1, 1, 1, 1, 1, 1, 1, 1, 1, 1, 1, 1, 1, 1, 1, 1, 1, 1, 1, 1, 1, 1, 1, 1, 1, 1, 1, 1, 1, 1, 1, 1, 1, 1, 1, 1, 1, 1, 1, 1, 1, 1, 1, 1, 1, 1, 1, 1, 1, 1, 1, 1, 1, 1, 1, 1, 1, 1, 1, 1, 1, 1, 1, 1, 1, 1, 1, 1, 1, 1, 1, 1, 1, 1, 1, 1, 1, 1, 1, 1, 1, 1, 1, 1, 1, 1, 1, 1, 1, 1, 1, 1, 1, 1, 1, 1, 1, 1, 1, 1, 1, 1, 0, 0, 0, 0, 0, 0, 0, 0, 0, 0, 0, 0, 0, 0, 0, 0, 0, 0, 0, 0, 0, 0, 0, 0, 0, 0, 0, 0, 0, 0, 0, 0, 0, 0, 0, 0, 0, 0, 0, 0, 0, 0, 0, 0, 0, 0, 0, 0, 0, 0, 0, 0, 0, 0, 0, 0, 0, 0, 0, 0, 0, 0, 0, 0, 0, 0, 0, 0, 0, 0, 0, 0, 0, 0, 0, 0, 0, 0, 0, 0, 0, 0, 0, 0, 0, 0, 0, 0, 0, 0, 0, 0, 0, 0, 0, 0, 0, 0, 0, 0, 0, 0, 0, 0, 0, 0, 0, 0, 0, 0, 0, 0, 0, 0, 0, 0, 0, 0, 0, 0]\n",
      "[1, 1, 1, 1, 1, 0, 0, 1, 1, 1, 1, 0, 1, 1, 1, 1, 0, 0, 1, 1, 1, 1, 1, 0, 1, 1, 1, 0, 0, 1, 1, 1, 1, 1, 1, 1, 1, 1, 1, 1, 1, 1, 1, 1, 1, 0, 0, 1, 1, 1, 1, 1, 1, 0, 1, 1, 1, 0, 0, 0, 1, 1, 1, 1, 0, 1, 1, 1, 1, 0, 1, 1, 1, 1, 1, 1, 1, 1, 1, 1, 1, 1, 1, 1, 1, 1, 1, 0, 0, 1, 0, 0, 0, 0, 0, 0, 1, 1, 1, 1, 0, 1, 1, 1, 1, 0, 0, 1, 1, 1, 1, 1, 1, 1, 1, 1, 1, 1, 1, 0, 0, 1, 0, 0, 0, 1, 0, 1, 0, 0, 0, 1, 0, 0, 0, 1, 0, 1, 0, 0, 0, 0, 1, 1, 0, 0, 0, 0, 0, 0, 0, 0, 0, 1, 0, 0, 1, 0, 0, 1, 1, 1, 0, 0, 0, 0, 0, 0, 0, 0, 0, 1, 1, 1, 0, 0, 0, 0, 0, 0, 0, 0, 0, 0, 0, 0, 0, 0, 0, 0, 0, 0, 0, 0, 0, 0, 1, 1, 0, 0, 0, 1, 1, 1, 0, 0, 0, 0, 0, 0, 0, 0, 0, 0, 0, 0, 0, 0, 0, 0, 1, 1, 0, 0, 0, 0, 0, 1, 0, 1, 0, 1, 1, 0, 0, 0, 0, 0, 1, 1]\n",
      "('Accuracy:', '76.25')\n",
      "('MCC:', '0.5250')\n"
     ]
    }
   ],
   "source": [
    "## K-nearest neighbour with k=3; s-LOO all summary metrics\n",
    "pred_labels = []\n",
    "for i in range(0,len(true_labels)):\n",
    "    #s = i*6\n",
    "    #e = i*6+6\n",
    "    #r = range(s,e)\n",
    "    pd1_test = pd1_sf_f[pd1_sf_f.index.isin([i])]\n",
    "    pd1_train = pd1_sf_f[pd1_sf_f.index.isin([i])==False]\n",
    "    pd1_test_l = pd1_sf_l[pd1_sf_f.index.isin([i])]\n",
    "    pd1_train_l = pd1_sf_l[pd1_sf_f.index.isin([i])==False]\n",
    "    clf = neighbors.KNeighborsClassifier(3, weights='uniform')\n",
    "    clf.fit(pd1_train, pd1_train_l)\n",
    "    pred = clf.predict(pd1_test)\n",
    "    pred_labels.append(pred[0])\n",
    "print(true_labels)\n",
    "print(pred_labels)\n",
    "print(\"Accuracy:\",format(accuracy_score(true_labels,pred_labels)*100,'.2f'))\n",
    "print(\"MCC:\",format(matthews_corrcoef(true_labels,pred_labels),'.4f'))"
   ]
  },
  {
   "cell_type": "code",
   "execution_count": 23,
   "metadata": {
    "collapsed": false
   },
   "outputs": [
    {
     "name": "stdout",
     "output_type": "stream",
     "text": [
      "[1, 1, 1, 1, 1, 1, 1, 1, 1, 1, 1, 1, 1, 1, 1, 1, 1, 1, 1, 1, 1, 1, 1, 1, 1, 1, 1, 1, 1, 1, 1, 1, 1, 1, 1, 1, 1, 1, 1, 1, 1, 1, 1, 1, 1, 1, 1, 1, 1, 1, 1, 1, 1, 1, 1, 1, 1, 1, 1, 1, 1, 1, 1, 1, 1, 1, 1, 1, 1, 1, 1, 1, 1, 1, 1, 1, 1, 1, 1, 1, 1, 1, 1, 1, 1, 1, 1, 1, 1, 1, 1, 1, 1, 1, 1, 1, 1, 1, 1, 1, 1, 1, 1, 1, 1, 1, 1, 1, 1, 1, 1, 1, 1, 1, 1, 1, 1, 1, 1, 1, 0, 0, 0, 0, 0, 0, 0, 0, 0, 0, 0, 0, 0, 0, 0, 0, 0, 0, 0, 0, 0, 0, 0, 0, 0, 0, 0, 0, 0, 0, 0, 0, 0, 0, 0, 0, 0, 0, 0, 0, 0, 0, 0, 0, 0, 0, 0, 0, 0, 0, 0, 0, 0, 0, 0, 0, 0, 0, 0, 0, 0, 0, 0, 0, 0, 0, 0, 0, 0, 0, 0, 0, 0, 0, 0, 0, 0, 0, 0, 0, 0, 0, 0, 0, 0, 0, 0, 0, 0, 0, 0, 0, 0, 0, 0, 0, 0, 0, 0, 0, 0, 0, 0, 0, 0, 0, 0, 0, 0, 0, 0, 0, 0, 0, 0, 0, 0, 0, 0, 0]\n",
      "[1, 1, 1, 1, 1, 0, 0, 1, 0, 1, 1, 0, 1, 1, 1, 0, 0, 0, 0, 0, 0, 0, 0, 0, 1, 0, 1, 0, 0, 1, 1, 1, 1, 1, 1, 1, 0, 1, 0, 0, 0, 1, 0, 0, 0, 0, 0, 1, 0, 0, 0, 1, 1, 1, 1, 1, 1, 0, 0, 0, 0, 0, 0, 1, 0, 1, 1, 1, 1, 0, 1, 1, 1, 1, 1, 1, 1, 1, 1, 1, 1, 1, 1, 1, 1, 1, 1, 0, 1, 1, 0, 0, 0, 1, 0, 0, 1, 1, 1, 1, 0, 1, 1, 1, 1, 0, 1, 1, 1, 1, 1, 1, 1, 1, 0, 0, 0, 1, 1, 0, 1, 1, 1, 0, 0, 0, 0, 1, 1, 0, 0, 1, 1, 1, 1, 1, 0, 0, 1, 1, 1, 0, 1, 1, 0, 0, 0, 0, 0, 0, 0, 0, 0, 1, 1, 0, 0, 1, 1, 1, 0, 1, 0, 1, 0, 0, 0, 0, 0, 1, 0, 1, 0, 1, 0, 0, 0, 0, 0, 0, 0, 0, 0, 0, 0, 0, 0, 0, 0, 0, 0, 0, 0, 0, 0, 0, 1, 1, 0, 0, 0, 0, 1, 0, 0, 0, 0, 0, 1, 0, 0, 0, 0, 0, 0, 0, 0, 0, 0, 0, 1, 1, 0, 1, 0, 0, 0, 0, 0, 1, 0, 1, 1, 0, 0, 0, 0, 1, 1, 1]\n",
      "('Accuracy:', '64.17')\n",
      "('MCC:', '0.2843')\n"
     ]
    }
   ],
   "source": [
    "## K-nearest neighbour with k=5; s-LOO all summary metrics\n",
    "pred_labels = []\n",
    "for i in range(0,len(true_labels)):\n",
    "    #s = i*6\n",
    "    #e = i*6+6\n",
    "    #r = range(s,e)\n",
    "    pd1_test = pd1_sf_f[pd1_sf_f.index.isin([i])]\n",
    "    pd1_train = pd1_sf_f[pd1_sf_f.index.isin([i])==False]\n",
    "    pd1_test_l = pd1_sf_l[pd1_sf_f.index.isin([i])]\n",
    "    pd1_train_l = pd1_sf_l[pd1_sf_f.index.isin([i])==False]\n",
    "    clf = neighbors.KNeighborsClassifier(5, weights='uniform')\n",
    "    clf.fit(pd1_train, pd1_train_l)\n",
    "    pred = clf.predict(pd1_test)\n",
    "    pred_labels.append(pred[0])\n",
    "print(true_labels)\n",
    "print(pred_labels)\n",
    "print(\"Accuracy:\",format(accuracy_score(true_labels,pred_labels)*100,'.2f'))\n",
    "print(\"MCC:\",format(matthews_corrcoef(true_labels,pred_labels),'.4f'))"
   ]
  },
  {
   "cell_type": "code",
   "execution_count": 24,
   "metadata": {
    "collapsed": false
   },
   "outputs": [
    {
     "name": "stdout",
     "output_type": "stream",
     "text": [
      "[1, 1, 1, 1, 1, 1, 1, 1, 1, 1, 1, 1, 1, 1, 1, 1, 1, 1, 1, 1, 1, 1, 1, 1, 1, 1, 1, 1, 1, 1, 1, 1, 1, 1, 1, 1, 1, 1, 1, 1, 1, 1, 1, 1, 1, 1, 1, 1, 1, 1, 1, 1, 1, 1, 1, 1, 1, 1, 1, 1, 1, 1, 1, 1, 1, 1, 1, 1, 1, 1, 1, 1, 1, 1, 1, 1, 1, 1, 1, 1, 1, 1, 1, 1, 1, 1, 1, 1, 1, 1, 1, 1, 1, 1, 1, 1, 1, 1, 1, 1, 1, 1, 1, 1, 1, 1, 1, 1, 1, 1, 1, 1, 1, 1, 1, 1, 1, 1, 1, 1, 0, 0, 0, 0, 0, 0, 0, 0, 0, 0, 0, 0, 0, 0, 0, 0, 0, 0, 0, 0, 0, 0, 0, 0, 0, 0, 0, 0, 0, 0, 0, 0, 0, 0, 0, 0, 0, 0, 0, 0, 0, 0, 0, 0, 0, 0, 0, 0, 0, 0, 0, 0, 0, 0, 0, 0, 0, 0, 0, 0, 0, 0, 0, 0, 0, 0, 0, 0, 0, 0, 0, 0, 0, 0, 0, 0, 0, 0, 0, 0, 0, 0, 0, 0, 0, 0, 0, 0, 0, 0, 0, 0, 0, 0, 0, 0, 0, 0, 0, 0, 0, 0, 0, 0, 0, 0, 0, 0, 0, 0, 0, 0, 0, 0, 0, 0, 0, 0, 0, 0]\n",
      "[1, 1, 1, 1, 1, 0, 0, 1, 0, 1, 1, 1, 1, 1, 1, 1, 0, 0, 0, 0, 0, 0, 0, 0, 0, 0, 0, 0, 0, 1, 1, 1, 1, 1, 1, 1, 0, 1, 0, 1, 1, 1, 0, 0, 0, 0, 0, 1, 0, 0, 0, 0, 0, 1, 1, 0, 1, 0, 0, 0, 0, 0, 0, 0, 0, 1, 1, 1, 1, 1, 1, 1, 1, 0, 1, 1, 1, 0, 1, 1, 1, 1, 1, 1, 1, 1, 1, 0, 0, 1, 0, 0, 0, 1, 0, 0, 1, 1, 1, 1, 0, 1, 0, 1, 1, 0, 1, 1, 1, 1, 1, 1, 1, 1, 0, 0, 0, 1, 1, 0, 1, 1, 1, 0, 0, 0, 0, 1, 0, 0, 0, 0, 1, 1, 1, 0, 0, 0, 0, 0, 0, 0, 1, 1, 0, 0, 0, 0, 0, 0, 0, 0, 0, 1, 1, 0, 1, 0, 1, 1, 1, 1, 0, 0, 0, 0, 0, 0, 0, 1, 0, 1, 1, 1, 0, 0, 0, 0, 0, 0, 0, 0, 0, 0, 0, 0, 0, 0, 0, 0, 0, 0, 0, 0, 0, 0, 0, 1, 0, 0, 0, 1, 0, 0, 0, 0, 0, 1, 1, 0, 0, 0, 0, 0, 0, 0, 0, 0, 0, 0, 1, 0, 0, 1, 1, 1, 0, 0, 0, 0, 0, 1, 1, 0, 0, 0, 0, 1, 1, 1]\n",
      "('Accuracy:', '64.17')\n",
      "('MCC:', '0.2874')\n"
     ]
    }
   ],
   "source": [
    "## K-nearest neighbour with k=7; s-LOO all summary metrics\n",
    "pred_labels = []\n",
    "for i in range(0,len(true_labels)):\n",
    "    #s = i*6\n",
    "    #e = i*6+6\n",
    "    #r = range(s,e)\n",
    "    pd1_test = pd1_sf_f[pd1_sf_f.index.isin([i])]\n",
    "    pd1_train = pd1_sf_f[pd1_sf_f.index.isin([i])==False]\n",
    "    pd1_test_l = pd1_sf_l[pd1_sf_f.index.isin([i])]\n",
    "    pd1_train_l = pd1_sf_l[pd1_sf_f.index.isin([i])==False]\n",
    "    clf = neighbors.KNeighborsClassifier(7, weights='uniform')\n",
    "    clf.fit(pd1_train, pd1_train_l)\n",
    "    pred = clf.predict(pd1_test)\n",
    "    pred_labels.append(pred[0])\n",
    "print(true_labels)\n",
    "print(pred_labels)\n",
    "print(\"Accuracy:\",format(accuracy_score(true_labels,pred_labels)*100,'.2f'))\n",
    "print(\"MCC:\",format(matthews_corrcoef(true_labels,pred_labels),'.4f'))"
   ]
  },
  {
   "cell_type": "code",
   "execution_count": 25,
   "metadata": {
    "collapsed": false
   },
   "outputs": [
    {
     "name": "stdout",
     "output_type": "stream",
     "text": [
      "         d1        d2        d3        d4        d5        d6        d7  \\\n",
      "0 -0.203995 -0.524940 -0.141694 -0.075201 -0.141692 -0.434702 -0.303912   \n",
      "2 -0.266605 -0.567582 -0.175456 -0.118049 -0.175454 -0.448936 -0.302081   \n",
      "3  0.572402  0.424184  0.463871  0.522391  0.463874  0.490906  0.554996   \n",
      "4  0.409244  0.303281  0.346247  0.373198  0.346241  0.400195  0.457517   \n",
      "5  0.555366  0.370716  0.511250  0.554120  0.511155  0.653314  0.897468   \n",
      "\n",
      "         d8        d9       d10    ...          d17       d18       d19  \\\n",
      "0 -0.500768 -0.344154 -0.053042    ...    -0.337666  0.611605 -0.067034   \n",
      "2 -0.528210 -0.389082 -0.107682    ...    -0.346713  0.674655 -0.072676   \n",
      "3  0.432066  0.469324  0.761485    ...     0.176098  0.491145  0.177804   \n",
      "4  0.330099  0.375250  0.645334    ...     0.143939  0.371086  0.149569   \n",
      "5  0.576002  0.579800  1.325740    ...     0.248448  0.598968  0.289083   \n",
      "\n",
      "        d20       d21       d22       d23       d24       d25       d26  \n",
      "0  0.411629  0.424419 -0.813985 -0.574418 -0.494137 -0.250096 -0.365661  \n",
      "2  0.039698  0.052074 -0.842487 -0.580278 -0.534205 -0.362044 -0.499415  \n",
      "3  1.750148  1.754059  0.215338  0.190838  0.642607  0.569142  0.633545  \n",
      "4  0.767807  0.767123  0.167476  0.148125  0.516585  0.452555  0.518575  \n",
      "5  0.373264  0.373117  0.269551  0.211247  0.984658  0.619286  0.702715  \n",
      "\n",
      "[5 rows x 26 columns]\n"
     ]
    }
   ],
   "source": [
    "pd1_train = pd1_sf_f[pd1_sf_f.index.isin([1])==False]\n",
    "print(pd1_train.head())"
   ]
  },
  {
   "cell_type": "code",
   "execution_count": 26,
   "metadata": {
    "collapsed": false
   },
   "outputs": [],
   "source": [
    "true_labels = [1]*40+[0]*40\n",
    "\n",
    "r =[]\n",
    "for i in range(0,40):\n",
    "    s = i*6\n",
    "    e = i*6+3\n",
    "    r.append(s)\n",
    "    r.append(e)\n",
    "pd1_sf_f1 = pd1_sf_f[pd1_sf_f.index.isin(r)]\n",
    "pd1_sf_l1 = pd1_sf_l[pd1_sf_f.index.isin(r)]\n"
   ]
  },
  {
   "cell_type": "code",
   "execution_count": 27,
   "metadata": {
    "collapsed": false
   },
   "outputs": [
    {
     "name": "stdout",
     "output_type": "stream",
     "text": [
      "[1, 1, 1, 1, 1, 1, 1, 1, 1, 1, 1, 1, 1, 1, 1, 1, 1, 1, 1, 1, 1, 1, 1, 1, 1, 1, 1, 1, 1, 1, 1, 1, 1, 1, 1, 1, 1, 1, 1, 1, 0, 0, 0, 0, 0, 0, 0, 0, 0, 0, 0, 0, 0, 0, 0, 0, 0, 0, 0, 0, 0, 0, 0, 0, 0, 0, 0, 0, 0, 0, 0, 0, 0, 0, 0, 0, 0, 0, 0, 0]\n",
      "[1, 1, 0, 1, 0, 0, 0, 0, 0, 1, 1, 1, 0, 1, 0, 0, 0, 0, 0, 0, 0, 1, 0, 0, 1, 1, 1, 1, 1, 0, 0, 0, 0, 0, 0, 1, 0, 1, 0, 0, 1, 0, 1, 1, 1, 1, 1, 0, 0, 0, 1, 0, 1, 1, 1, 0, 0, 1, 0, 0, 0, 0, 0, 0, 0, 1, 0, 1, 0, 0, 0, 1, 0, 1, 1, 0, 0, 1, 0, 1]\n",
      "('Accuracy:', '46.25')\n",
      "('MCC:', '-0.0762')\n"
     ]
    }
   ],
   "source": [
    "# K-nearest neighbour with k=1; s-LOO summary metrics 1 and 4\n",
    "pred_labels = []\n",
    "for j in range(0,len(r)):\n",
    "    pd1_test = pd1_sf_f1[pd1_sf_f1.index.isin([r[j]])]\n",
    "    pd1_train = pd1_sf_f1[pd1_sf_f1.index.isin([r[j]])==False]\n",
    "    pd1_test_l = pd1_sf_l1[pd1_sf_f1.index.isin([r[j]])]\n",
    "    pd1_train_l = pd1_sf_l1[pd1_sf_f1.index.isin([r[j]])==False]\n",
    "    clf = neighbors.KNeighborsClassifier(1, weights='uniform')\n",
    "    clf.fit(pd1_train, pd1_train_l)\n",
    "    pred = clf.predict(pd1_test)\n",
    "    pred_labels.append(pred[0])\n",
    "print(true_labels)\n",
    "print(pred_labels)\n",
    "print(\"Accuracy:\",format(accuracy_score(true_labels,pred_labels)*100,'.2f'))\n",
    "print(\"MCC:\",format(matthews_corrcoef(true_labels,pred_labels),'.4f'))"
   ]
  },
  {
   "cell_type": "code",
   "execution_count": 28,
   "metadata": {
    "collapsed": false
   },
   "outputs": [
    {
     "name": "stdout",
     "output_type": "stream",
     "text": [
      "[1, 1, 1, 1, 1, 1, 1, 1, 1, 1, 1, 1, 1, 1, 1, 1, 1, 1, 1, 1, 1, 1, 1, 1, 1, 1, 1, 1, 1, 1, 1, 1, 1, 1, 1, 1, 1, 1, 1, 1, 0, 0, 0, 0, 0, 0, 0, 0, 0, 0, 0, 0, 0, 0, 0, 0, 0, 0, 0, 0, 0, 0, 0, 0, 0, 0, 0, 0, 0, 0, 0, 0, 0, 0, 0, 0, 0, 0, 0, 0]\n",
      "[1, 1, 0, 1, 0, 0, 0, 0, 0, 0, 0, 1, 0, 1, 1, 0, 0, 0, 0, 0, 0, 0, 1, 0, 1, 1, 1, 1, 0, 0, 0, 0, 1, 0, 0, 0, 0, 1, 0, 0, 1, 1, 1, 0, 1, 1, 0, 0, 0, 0, 1, 1, 0, 1, 0, 0, 0, 1, 0, 0, 0, 1, 0, 0, 0, 0, 1, 1, 1, 1, 0, 0, 1, 0, 0, 0, 0, 1, 1, 1]\n",
      "('Accuracy:', '43.75')\n",
      "('MCC:', '-0.1283')\n"
     ]
    }
   ],
   "source": [
    "# K-nearest neighbour with k=3; s-LOO summary metrics 1 and 4\n",
    "pred_labels = []\n",
    "for j in range(0,len(r)):\n",
    "    pd1_test = pd1_sf_f1[pd1_sf_f1.index.isin([r[j]])]\n",
    "    pd1_train = pd1_sf_f1[pd1_sf_f1.index.isin([r[j]])==False]\n",
    "    pd1_test_l = pd1_sf_l1[pd1_sf_f1.index.isin([r[j]])]\n",
    "    pd1_train_l = pd1_sf_l1[pd1_sf_f1.index.isin([r[j]])==False]\n",
    "    clf = neighbors.KNeighborsClassifier(3, weights='uniform')\n",
    "    clf.fit(pd1_train, pd1_train_l)\n",
    "    pred = clf.predict(pd1_test)\n",
    "    pred_labels.append(pred[0])\n",
    "print(true_labels)\n",
    "print(pred_labels)\n",
    "print(\"Accuracy:\",format(accuracy_score(true_labels,pred_labels)*100,'.2f'))\n",
    "print(\"MCC:\",format(matthews_corrcoef(true_labels,pred_labels),'.4f'))"
   ]
  },
  {
   "cell_type": "code",
   "execution_count": 29,
   "metadata": {
    "collapsed": false
   },
   "outputs": [
    {
     "name": "stdout",
     "output_type": "stream",
     "text": [
      "[1, 1, 1, 1, 1, 1, 1, 1, 1, 1, 1, 1, 1, 1, 1, 1, 1, 1, 1, 1, 1, 1, 1, 1, 1, 1, 1, 1, 1, 1, 1, 1, 1, 1, 1, 1, 1, 1, 1, 1, 0, 0, 0, 0, 0, 0, 0, 0, 0, 0, 0, 0, 0, 0, 0, 0, 0, 0, 0, 0, 0, 0, 0, 0, 0, 0, 0, 0, 0, 0, 0, 0, 0, 0, 0, 0, 0, 0, 0, 0]\n",
      "[0, 1, 0, 1, 1, 1, 0, 0, 0, 0, 0, 1, 0, 0, 0, 0, 0, 1, 0, 0, 0, 0, 1, 0, 0, 1, 1, 1, 0, 0, 0, 1, 1, 0, 0, 0, 0, 1, 0, 0, 0, 0, 0, 0, 1, 1, 0, 0, 0, 0, 0, 1, 0, 1, 1, 0, 1, 1, 0, 0, 0, 1, 0, 0, 0, 0, 1, 0, 1, 1, 0, 0, 1, 0, 0, 1, 0, 1, 1, 1]\n",
      "('Accuracy:', '46.25')\n",
      "('MCC:', '-0.0780')\n"
     ]
    }
   ],
   "source": [
    "# K-nearest neighbour with k=5; s-LOO summary metrics 1 and 4\n",
    "pred_labels = []\n",
    "for j in range(0,len(r)):\n",
    "    pd1_test = pd1_sf_f1[pd1_sf_f1.index.isin([r[j]])]\n",
    "    pd1_train = pd1_sf_f1[pd1_sf_f1.index.isin([r[j]])==False]\n",
    "    pd1_test_l = pd1_sf_l1[pd1_sf_f1.index.isin([r[j]])]\n",
    "    pd1_train_l = pd1_sf_l1[pd1_sf_f1.index.isin([r[j]])==False]\n",
    "    clf = neighbors.KNeighborsClassifier(5, weights='uniform')\n",
    "    clf.fit(pd1_train, pd1_train_l)\n",
    "    pred = clf.predict(pd1_test)\n",
    "    pred_labels.append(pred[0])\n",
    "print(true_labels)\n",
    "print(pred_labels)\n",
    "print(\"Accuracy:\",format(accuracy_score(true_labels,pred_labels)*100,'.2f'))\n",
    "print(\"MCC:\",format(matthews_corrcoef(true_labels,pred_labels),'.4f'))"
   ]
  },
  {
   "cell_type": "code",
   "execution_count": 30,
   "metadata": {
    "collapsed": false
   },
   "outputs": [
    {
     "name": "stdout",
     "output_type": "stream",
     "text": [
      "[1, 1, 1, 1, 1, 1, 1, 1, 1, 1, 1, 1, 1, 1, 1, 1, 1, 1, 1, 1, 1, 1, 1, 1, 1, 1, 1, 1, 1, 1, 1, 1, 1, 1, 1, 1, 1, 1, 1, 1, 0, 0, 0, 0, 0, 0, 0, 0, 0, 0, 0, 0, 0, 0, 0, 0, 0, 0, 0, 0, 0, 0, 0, 0, 0, 0, 0, 0, 0, 0, 0, 0, 0, 0, 0, 0, 0, 0, 0, 0]\n",
      "[0, 1, 1, 1, 0, 0, 0, 0, 0, 0, 0, 1, 1, 0, 0, 0, 0, 1, 0, 0, 0, 0, 1, 0, 0, 1, 1, 1, 0, 1, 0, 1, 0, 0, 1, 0, 1, 1, 0, 0, 0, 0, 0, 0, 1, 0, 1, 1, 0, 0, 1, 1, 0, 1, 1, 0, 1, 1, 0, 0, 0, 0, 1, 1, 0, 1, 1, 0, 0, 0, 0, 0, 0, 0, 0, 0, 1, 1, 1, 1]\n",
      "('Accuracy:', '47.50')\n",
      "('MCC:', '-0.0510')\n"
     ]
    }
   ],
   "source": [
    "# K-nearest neighbour with k=7; s-LOO summary metrics 1 and 4\n",
    "pred_labels = []\n",
    "for j in range(0,len(r)):\n",
    "    pd1_test = pd1_sf_f1[pd1_sf_f1.index.isin([r[j]])]\n",
    "    pd1_train = pd1_sf_f1[pd1_sf_f1.index.isin([r[j]])==False]\n",
    "    pd1_test_l = pd1_sf_l1[pd1_sf_f1.index.isin([r[j]])]\n",
    "    pd1_train_l = pd1_sf_l1[pd1_sf_f1.index.isin([r[j]])==False]\n",
    "    clf = neighbors.KNeighborsClassifier(7, weights='uniform')\n",
    "    clf.fit(pd1_train, pd1_train_l)\n",
    "    pred = clf.predict(pd1_test)\n",
    "    pred_labels.append(pred[0])\n",
    "print(true_labels)\n",
    "print(pred_labels)\n",
    "print(\"Accuracy:\",format(accuracy_score(true_labels,pred_labels)*100,'.2f'))\n",
    "print(\"MCC:\",format(matthews_corrcoef(true_labels,pred_labels),'.4f'))"
   ]
  },
  {
   "cell_type": "code",
   "execution_count": 31,
   "metadata": {
    "collapsed": false
   },
   "outputs": [
    {
     "name": "stdout",
     "output_type": "stream",
     "text": [
      "[1, 4, 7, 10, 13, 16, 19, 22, 25, 28, 31, 34, 37, 40, 43, 46, 49, 52, 55, 58, 61, 64, 67, 70, 73, 76, 79, 82, 85, 88, 91, 94, 97, 100, 103, 106, 109, 112, 115, 118, 121, 124, 127, 130, 133, 136, 139, 142, 145, 148, 151, 154, 157, 160, 163, 166, 169, 172, 175, 178, 181, 184, 187, 190, 193, 196, 199, 202, 205, 208, 211, 214, 217, 220, 223, 226, 229, 232, 235, 238]\n"
     ]
    }
   ],
   "source": [
    "r =[]\n",
    "for i in range(0,40):\n",
    "    s = (i)*6+1\n",
    "    e = (i)*6+4\n",
    "    r.append(s)\n",
    "    r.append(e)\n",
    "print(r)\n",
    "pd1_sf_f1 = pd1_sf_f[pd1_sf_f.index.isin(r)]\n",
    "pd1_sf_l1 = pd1_sf_l[pd1_sf_f.index.isin(r)]\n"
   ]
  },
  {
   "cell_type": "code",
   "execution_count": 32,
   "metadata": {
    "collapsed": false
   },
   "outputs": [
    {
     "name": "stdout",
     "output_type": "stream",
     "text": [
      "[1, 1, 1, 1, 1, 1, 1, 1, 1, 1, 1, 1, 1, 1, 1, 1, 1, 1, 1, 1, 1, 1, 1, 1, 1, 1, 1, 1, 1, 1, 1, 1, 1, 1, 1, 1, 1, 1, 1, 1, 0, 0, 0, 0, 0, 0, 0, 0, 0, 0, 0, 0, 0, 0, 0, 0, 0, 0, 0, 0, 0, 0, 0, 0, 0, 0, 0, 0, 0, 0, 0, 0, 0, 0, 0, 0, 0, 0, 0, 0]\n",
      "[1, 1, 0, 1, 1, 0, 0, 0, 0, 1, 0, 1, 1, 1, 0, 0, 0, 1, 1, 0, 0, 1, 1, 0, 1, 1, 0, 1, 1, 0, 0, 0, 0, 0, 1, 0, 1, 1, 0, 0, 1, 0, 1, 1, 1, 1, 1, 0, 1, 0, 0, 0, 1, 0, 1, 0, 1, 1, 0, 0, 0, 0, 0, 0, 0, 0, 0, 0, 0, 0, 0, 1, 0, 0, 1, 1, 1, 1, 0, 1]\n",
      "('Accuracy:', '52.50')\n",
      "('MCC:', '0.0503')\n"
     ]
    }
   ],
   "source": [
    "# K-nearest neighbour with k=1; s-LOO summary metrics 2 and 5\n",
    "pred_labels = []\n",
    "for j in range(0,len(r)):\n",
    "    pd1_test = pd1_sf_f1[pd1_sf_f1.index.isin([r[j]])]\n",
    "    pd1_train = pd1_sf_f1[pd1_sf_f1.index.isin([r[j]])==False]\n",
    "    pd1_test_l = pd1_sf_l1[pd1_sf_f1.index.isin([r[j]])]\n",
    "    pd1_train_l = pd1_sf_l1[pd1_sf_f1.index.isin([r[j]])==False]\n",
    "    clf = neighbors.KNeighborsClassifier(1, weights='uniform')\n",
    "    clf.fit(pd1_train, pd1_train_l)\n",
    "    pred = clf.predict(pd1_test)\n",
    "    pred_labels.append(pred[0])\n",
    "print(true_labels)\n",
    "print(pred_labels)\n",
    "print(\"Accuracy:\",format(accuracy_score(true_labels,pred_labels)*100,'.2f'))\n",
    "print(\"MCC:\",format(matthews_corrcoef(true_labels,pred_labels),'.4f'))"
   ]
  },
  {
   "cell_type": "code",
   "execution_count": 33,
   "metadata": {
    "collapsed": false
   },
   "outputs": [
    {
     "name": "stdout",
     "output_type": "stream",
     "text": [
      "[1, 1, 1, 1, 1, 1, 1, 1, 1, 1, 1, 1, 1, 1, 1, 1, 1, 1, 1, 1, 1, 1, 1, 1, 1, 1, 1, 1, 1, 1, 1, 1, 1, 1, 1, 1, 1, 1, 1, 1, 0, 0, 0, 0, 0, 0, 0, 0, 0, 0, 0, 0, 0, 0, 0, 0, 0, 0, 0, 0, 0, 0, 0, 0, 0, 0, 0, 0, 0, 0, 0, 0, 0, 0, 0, 0, 0, 0, 0, 0]\n",
      "[1, 1, 0, 1, 0, 0, 0, 0, 0, 0, 0, 1, 1, 1, 0, 0, 0, 1, 0, 0, 0, 0, 1, 0, 0, 1, 0, 1, 1, 0, 0, 0, 0, 0, 1, 0, 1, 1, 0, 1, 1, 0, 0, 0, 1, 1, 0, 1, 0, 0, 0, 1, 1, 0, 0, 0, 1, 1, 0, 0, 0, 1, 0, 0, 0, 1, 0, 1, 1, 1, 0, 0, 0, 1, 1, 0, 1, 1, 0, 1]\n",
      "('Accuracy:', '46.25')\n",
      "('MCC:', '-0.0762')\n"
     ]
    }
   ],
   "source": [
    "# K-nearest neighbour with k=3; s-LOO summary metrics 2 and 5\n",
    "pred_labels = []\n",
    "for j in range(0,len(r)):\n",
    "    pd1_test = pd1_sf_f1[pd1_sf_f1.index.isin([r[j]])]\n",
    "    pd1_train = pd1_sf_f1[pd1_sf_f1.index.isin([r[j]])==False]\n",
    "    pd1_test_l = pd1_sf_l1[pd1_sf_f1.index.isin([r[j]])]\n",
    "    pd1_train_l = pd1_sf_l1[pd1_sf_f1.index.isin([r[j]])==False]\n",
    "    clf = neighbors.KNeighborsClassifier(3, weights='uniform')\n",
    "    clf.fit(pd1_train, pd1_train_l)\n",
    "    pred = clf.predict(pd1_test)\n",
    "    pred_labels.append(pred[0])\n",
    "print(true_labels)\n",
    "print(pred_labels)\n",
    "print(\"Accuracy:\",format(accuracy_score(true_labels,pred_labels)*100,'.2f'))\n",
    "print(\"MCC:\",format(matthews_corrcoef(true_labels,pred_labels),'.4f'))"
   ]
  },
  {
   "cell_type": "code",
   "execution_count": 34,
   "metadata": {
    "collapsed": false
   },
   "outputs": [
    {
     "name": "stdout",
     "output_type": "stream",
     "text": [
      "[1, 1, 1, 1, 1, 1, 1, 1, 1, 1, 1, 1, 1, 1, 1, 1, 1, 1, 1, 1, 1, 1, 1, 1, 1, 1, 1, 1, 1, 1, 1, 1, 1, 1, 1, 1, 1, 1, 1, 1, 0, 0, 0, 0, 0, 0, 0, 0, 0, 0, 0, 0, 0, 0, 0, 0, 0, 0, 0, 0, 0, 0, 0, 0, 0, 0, 0, 0, 0, 0, 0, 0, 0, 0, 0, 0, 0, 0, 0, 0]\n",
      "[0, 1, 0, 1, 0, 0, 0, 0, 1, 0, 0, 1, 0, 1, 0, 0, 0, 0, 0, 0, 0, 0, 1, 1, 0, 1, 0, 1, 0, 1, 0, 0, 0, 0, 1, 0, 1, 1, 0, 1, 1, 0, 0, 0, 1, 1, 0, 1, 0, 0, 0, 1, 0, 0, 1, 0, 1, 1, 0, 0, 1, 1, 0, 1, 0, 1, 0, 1, 1, 1, 0, 0, 0, 1, 0, 0, 0, 1, 1, 1]\n",
      "('Accuracy:', '43.75')\n",
      "('MCC:', '-0.1270')\n"
     ]
    }
   ],
   "source": [
    "# K-nearest neighbour with k=5; s-LOO summary metrics 2 and 5\n",
    "pred_labels = []\n",
    "for j in range(0,len(r)):\n",
    "    pd1_test = pd1_sf_f1[pd1_sf_f1.index.isin([r[j]])]\n",
    "    pd1_train = pd1_sf_f1[pd1_sf_f1.index.isin([r[j]])==False]\n",
    "    pd1_test_l = pd1_sf_l1[pd1_sf_f1.index.isin([r[j]])]\n",
    "    pd1_train_l = pd1_sf_l1[pd1_sf_f1.index.isin([r[j]])==False]\n",
    "    clf = neighbors.KNeighborsClassifier(5, weights='uniform')\n",
    "    clf.fit(pd1_train, pd1_train_l)\n",
    "    pred = clf.predict(pd1_test)\n",
    "    pred_labels.append(pred[0])\n",
    "print(true_labels)\n",
    "print(pred_labels)\n",
    "print(\"Accuracy:\",format(accuracy_score(true_labels,pred_labels)*100,'.2f'))\n",
    "print(\"MCC:\",format(matthews_corrcoef(true_labels,pred_labels),'.4f'))"
   ]
  },
  {
   "cell_type": "code",
   "execution_count": 35,
   "metadata": {
    "collapsed": false
   },
   "outputs": [
    {
     "name": "stdout",
     "output_type": "stream",
     "text": [
      "[1, 1, 1, 1, 1, 1, 1, 1, 1, 1, 1, 1, 1, 1, 1, 1, 1, 1, 1, 1, 1, 1, 1, 1, 1, 1, 1, 1, 1, 1, 1, 1, 1, 1, 1, 1, 1, 1, 1, 1, 0, 0, 0, 0, 0, 0, 0, 0, 0, 0, 0, 0, 0, 0, 0, 0, 0, 0, 0, 0, 0, 0, 0, 0, 0, 0, 0, 0, 0, 0, 0, 0, 0, 0, 0, 0, 0, 0, 0, 0]\n",
      "[1, 1, 1, 1, 0, 0, 0, 0, 1, 0, 0, 1, 1, 1, 0, 0, 0, 1, 0, 0, 0, 0, 1, 1, 0, 1, 0, 1, 0, 1, 0, 0, 0, 0, 1, 0, 0, 1, 0, 1, 1, 1, 0, 0, 1, 0, 0, 1, 0, 0, 0, 1, 0, 1, 1, 0, 1, 1, 0, 0, 0, 0, 0, 1, 0, 1, 1, 1, 0, 1, 0, 0, 1, 1, 0, 0, 1, 1, 1, 1]\n",
      "('Accuracy:', '46.25')\n",
      "('MCC:', '-0.0752')\n"
     ]
    }
   ],
   "source": [
    "# K-nearest neighbour with k=7; s-LOO summary metrics 2 and 5\n",
    "pred_labels = []\n",
    "for j in range(0,len(r)):\n",
    "    pd1_test = pd1_sf_f1[pd1_sf_f1.index.isin([r[j]])]\n",
    "    pd1_train = pd1_sf_f1[pd1_sf_f1.index.isin([r[j]])==False]\n",
    "    pd1_test_l = pd1_sf_l1[pd1_sf_f1.index.isin([r[j]])]\n",
    "    pd1_train_l = pd1_sf_l1[pd1_sf_f1.index.isin([r[j]])==False]\n",
    "    clf = neighbors.KNeighborsClassifier(7, weights='uniform')\n",
    "    clf.fit(pd1_train, pd1_train_l)\n",
    "    pred = clf.predict(pd1_test)\n",
    "    pred_labels.append(pred[0])\n",
    "print(true_labels)\n",
    "print(pred_labels)\n",
    "print(\"Accuracy:\",format(accuracy_score(true_labels,pred_labels)*100,'.2f'))\n",
    "print(\"MCC:\",format(matthews_corrcoef(true_labels,pred_labels),'.4f'))"
   ]
  },
  {
   "cell_type": "code",
   "execution_count": 36,
   "metadata": {
    "collapsed": true
   },
   "outputs": [],
   "source": [
    "r =[]\n",
    "for i in range(0,40):\n",
    "    s = i*6+2\n",
    "    e = i*6+5\n",
    "    r.append(s)\n",
    "    r.append(e)\n",
    "pd1_sf_f1 = pd1_sf_f[pd1_sf_f.index.isin(r)]\n",
    "pd1_sf_l1 = pd1_sf_l[pd1_sf_f.index.isin(r)]\n"
   ]
  },
  {
   "cell_type": "code",
   "execution_count": 37,
   "metadata": {
    "collapsed": false
   },
   "outputs": [
    {
     "name": "stdout",
     "output_type": "stream",
     "text": [
      "[1, 1, 1, 1, 1, 1, 1, 1, 1, 1, 1, 1, 1, 1, 1, 1, 1, 1, 1, 1, 1, 1, 1, 1, 1, 1, 1, 1, 1, 1, 1, 1, 1, 1, 1, 1, 1, 1, 1, 1, 0, 0, 0, 0, 0, 0, 0, 0, 0, 0, 0, 0, 0, 0, 0, 0, 0, 0, 0, 0, 0, 0, 0, 0, 0, 0, 0, 0, 0, 0, 0, 0, 0, 0, 0, 0, 0, 0, 0, 0]\n",
      "[1, 0, 0, 1, 1, 0, 0, 0, 0, 1, 1, 1, 0, 1, 0, 1, 0, 0, 1, 0, 0, 1, 1, 1, 1, 0, 1, 1, 1, 1, 0, 0, 1, 0, 0, 1, 1, 1, 0, 0, 1, 1, 1, 0, 1, 0, 1, 1, 0, 0, 0, 0, 1, 0, 1, 0, 1, 1, 0, 1, 0, 0, 0, 0, 0, 0, 0, 0, 0, 1, 0, 1, 0, 1, 1, 1, 1, 0, 1, 1]\n",
      "('Accuracy:', '52.50')\n",
      "('MCC:', '0.0500')\n"
     ]
    }
   ],
   "source": [
    "# K-nearest neighbour with k=1; s-LOO summary metrics 3 and 6\n",
    "pred_labels = []\n",
    "for j in range(0,len(r)):\n",
    "    pd1_test = pd1_sf_f1[pd1_sf_f1.index.isin([r[j]])]\n",
    "    pd1_train = pd1_sf_f1[pd1_sf_f1.index.isin([r[j]])==False]\n",
    "    pd1_test_l = pd1_sf_l1[pd1_sf_f1.index.isin([r[j]])]\n",
    "    pd1_train_l = pd1_sf_l1[pd1_sf_f1.index.isin([r[j]])==False]\n",
    "    clf = neighbors.KNeighborsClassifier(1, weights='uniform')\n",
    "    clf.fit(pd1_train, pd1_train_l)\n",
    "    pred = clf.predict(pd1_test)\n",
    "    pred_labels.append(pred[0])\n",
    "print(true_labels)\n",
    "print(pred_labels)\n",
    "print(\"Accuracy:\",format(accuracy_score(true_labels,pred_labels)*100,'.2f'))\n",
    "print(\"MCC:\",format(matthews_corrcoef(true_labels,pred_labels),'.4f'))"
   ]
  },
  {
   "cell_type": "code",
   "execution_count": 38,
   "metadata": {
    "collapsed": false
   },
   "outputs": [
    {
     "name": "stdout",
     "output_type": "stream",
     "text": [
      "[1, 1, 1, 1, 1, 1, 1, 1, 1, 1, 1, 1, 1, 1, 1, 1, 1, 1, 1, 1, 1, 1, 1, 1, 1, 1, 1, 1, 1, 1, 1, 1, 1, 1, 1, 1, 1, 1, 1, 1, 0, 0, 0, 0, 0, 0, 0, 0, 0, 0, 0, 0, 0, 0, 0, 0, 0, 0, 0, 0, 0, 0, 0, 0, 0, 0, 0, 0, 0, 0, 0, 0, 0, 0, 0, 0, 0, 0, 0, 0]\n",
      "[1, 1, 0, 1, 0, 0, 0, 0, 0, 1, 0, 1, 0, 1, 1, 1, 0, 0, 0, 0, 0, 1, 1, 1, 0, 1, 1, 1, 1, 1, 0, 0, 1, 1, 0, 0, 0, 1, 0, 0, 1, 1, 1, 1, 1, 1, 0, 1, 0, 1, 0, 0, 1, 1, 0, 0, 0, 1, 0, 1, 0, 0, 0, 0, 0, 0, 0, 0, 1, 0, 0, 1, 0, 1, 0, 0, 0, 0, 0, 1]\n",
      "('Accuracy:', '53.75')\n",
      "('MCC:', '0.0756')\n"
     ]
    }
   ],
   "source": [
    "# K-nearest neighbour with k=3; s-LOO summary metrics 3 and 6\n",
    "pred_labels = []\n",
    "for j in range(0,len(r)):\n",
    "    pd1_test = pd1_sf_f1[pd1_sf_f1.index.isin([r[j]])]\n",
    "    pd1_train = pd1_sf_f1[pd1_sf_f1.index.isin([r[j]])==False]\n",
    "    pd1_test_l = pd1_sf_l1[pd1_sf_f1.index.isin([r[j]])]\n",
    "    pd1_train_l = pd1_sf_l1[pd1_sf_f1.index.isin([r[j]])==False]\n",
    "    clf = neighbors.KNeighborsClassifier(3, weights='uniform')\n",
    "    clf.fit(pd1_train, pd1_train_l)\n",
    "    pred = clf.predict(pd1_test)\n",
    "    pred_labels.append(pred[0])\n",
    "print(true_labels)\n",
    "print(pred_labels)\n",
    "print(\"Accuracy:\",format(accuracy_score(true_labels,pred_labels)*100,'.2f'))\n",
    "print(\"MCC:\",format(matthews_corrcoef(true_labels,pred_labels),'.4f'))"
   ]
  },
  {
   "cell_type": "code",
   "execution_count": 39,
   "metadata": {
    "collapsed": false
   },
   "outputs": [
    {
     "name": "stdout",
     "output_type": "stream",
     "text": [
      "[1, 1, 1, 1, 1, 1, 1, 1, 1, 1, 1, 1, 1, 1, 1, 1, 1, 1, 1, 1, 1, 1, 1, 1, 1, 1, 1, 1, 1, 1, 1, 1, 1, 1, 1, 1, 1, 1, 1, 1, 0, 0, 0, 0, 0, 0, 0, 0, 0, 0, 0, 0, 0, 0, 0, 0, 0, 0, 0, 0, 0, 0, 0, 0, 0, 0, 0, 0, 0, 0, 0, 0, 0, 0, 0, 0, 0, 0, 0, 0]\n",
      "[0, 1, 0, 1, 1, 0, 0, 1, 0, 1, 0, 1, 0, 1, 0, 1, 0, 1, 0, 0, 0, 0, 1, 1, 0, 1, 0, 1, 0, 1, 0, 0, 0, 1, 1, 0, 0, 1, 0, 0, 1, 0, 1, 1, 1, 0, 0, 1, 0, 0, 0, 0, 1, 1, 1, 0, 1, 1, 0, 0, 1, 0, 1, 0, 0, 0, 1, 1, 1, 1, 0, 1, 1, 1, 1, 0, 0, 0, 1, 1]\n",
      "('Accuracy:', '43.75')\n",
      "('MCC:', '-0.1250')\n"
     ]
    }
   ],
   "source": [
    "# K-nearest neighbour with k=5; s-LOO summary metrics 3 and 6\n",
    "pred_labels = []\n",
    "for j in range(0,len(r)):\n",
    "    pd1_test = pd1_sf_f1[pd1_sf_f1.index.isin([r[j]])]\n",
    "    pd1_train = pd1_sf_f1[pd1_sf_f1.index.isin([r[j]])==False]\n",
    "    pd1_test_l = pd1_sf_l1[pd1_sf_f1.index.isin([r[j]])]\n",
    "    pd1_train_l = pd1_sf_l1[pd1_sf_f1.index.isin([r[j]])==False]\n",
    "    clf = neighbors.KNeighborsClassifier(5, weights='uniform')\n",
    "    clf.fit(pd1_train, pd1_train_l)\n",
    "    pred = clf.predict(pd1_test)\n",
    "    pred_labels.append(pred[0])\n",
    "print(true_labels)\n",
    "print(pred_labels)\n",
    "print(\"Accuracy:\",format(accuracy_score(true_labels,pred_labels)*100,'.2f'))\n",
    "print(\"MCC:\",format(matthews_corrcoef(true_labels,pred_labels),'.4f'))"
   ]
  },
  {
   "cell_type": "code",
   "execution_count": 40,
   "metadata": {
    "collapsed": false
   },
   "outputs": [
    {
     "name": "stdout",
     "output_type": "stream",
     "text": [
      "[1, 1, 1, 1, 1, 1, 1, 1, 1, 1, 1, 1, 1, 1, 1, 1, 1, 1, 1, 1, 1, 1, 1, 1, 1, 1, 1, 1, 1, 1, 1, 1, 1, 1, 1, 1, 1, 1, 1, 1, 0, 0, 0, 0, 0, 0, 0, 0, 0, 0, 0, 0, 0, 0, 0, 0, 0, 0, 0, 0, 0, 0, 0, 0, 0, 0, 0, 0, 0, 0, 0, 0, 0, 0, 0, 0, 0, 0, 0, 0]\n",
      "[0, 1, 1, 1, 1, 0, 0, 1, 1, 1, 0, 1, 1, 1, 0, 1, 0, 1, 0, 0, 1, 1, 1, 1, 0, 1, 0, 1, 0, 1, 0, 0, 0, 1, 1, 0, 1, 1, 0, 1, 0, 0, 0, 0, 1, 0, 1, 1, 0, 0, 0, 1, 0, 1, 1, 0, 1, 1, 0, 0, 0, 0, 1, 0, 0, 0, 1, 1, 0, 1, 0, 1, 0, 1, 0, 0, 1, 0, 1, 1]\n",
      "('Accuracy:', '58.75')\n",
      "('MCC:', '0.1751')\n"
     ]
    }
   ],
   "source": [
    "# K-nearest neighbour with k=7; s-LOO summary metrics 3 and 6\n",
    "pred_labels = []\n",
    "for j in range(0,len(r)):\n",
    "    pd1_test = pd1_sf_f1[pd1_sf_f1.index.isin([r[j]])]\n",
    "    pd1_train = pd1_sf_f1[pd1_sf_f1.index.isin([r[j]])==False]\n",
    "    pd1_test_l = pd1_sf_l1[pd1_sf_f1.index.isin([r[j]])]\n",
    "    pd1_train_l = pd1_sf_l1[pd1_sf_f1.index.isin([r[j]])==False]\n",
    "    clf = neighbors.KNeighborsClassifier(7, weights='uniform')\n",
    "    clf.fit(pd1_train, pd1_train_l)\n",
    "    pred = clf.predict(pd1_test)\n",
    "    pred_labels.append(pred[0])\n",
    "print(true_labels)\n",
    "print(pred_labels)\n",
    "print(\"Accuracy:\",format(accuracy_score(true_labels,pred_labels)*100,'.2f'))\n",
    "print(\"MCC:\",format(matthews_corrcoef(true_labels,pred_labels),'.4f'))"
   ]
  },
  {
   "cell_type": "markdown",
   "metadata": {},
   "source": [
    "In contrast, to what Sakar et al. reported, I get the highest accuracy for s-LOO with all six metrics (64-83% with decreasing k). When using only two of the six metrics, I get the highest accuracy, when using metrics 3 and 6 (trimmed mean and interquartile range) at k=7 (58.75%). Sakar et al. reported that they get the highest accuracy when using metrics 1 and 4 (mean and standard deviation). I assume this difference is due to me using the normalized data when determining the summery metrics. I will test this in another set of classifications."
   ]
  },
  {
   "cell_type": "markdown",
   "metadata": {},
   "source": [
    "## Support Vector Machine"
   ]
  },
  {
   "cell_type": "markdown",
   "metadata": {},
   "source": [
    "Linear vs. RBF kernel"
   ]
  },
  {
   "cell_type": "code",
   "execution_count": 41,
   "metadata": {
    "collapsed": true
   },
   "outputs": [],
   "source": [
    "from sklearn.svm import SVC"
   ]
  },
  {
   "cell_type": "markdown",
   "metadata": {},
   "source": [
    "### Leave-One-Subject-Out (LOSO)"
   ]
  },
  {
   "cell_type": "code",
   "execution_count": 42,
   "metadata": {
    "collapsed": false
   },
   "outputs": [
    {
     "name": "stdout",
     "output_type": "stream",
     "text": [
      "[1, 1, 1, 1, 1, 1, 1, 1, 1, 1, 1, 1, 1, 1, 1, 1, 1, 1, 1, 1, 0, 0, 0, 0, 0, 0, 0, 0, 0, 0, 0, 0, 0, 0, 0, 0, 0, 0, 0, 0]\n"
     ]
    }
   ],
   "source": [
    "true_labels = [1]*20+[0]*20\n",
    "print(true_labels)"
   ]
  },
  {
   "cell_type": "code",
   "execution_count": 43,
   "metadata": {
    "collapsed": false
   },
   "outputs": [
    {
     "name": "stdout",
     "output_type": "stream",
     "text": [
      "[1, 1, 1, 1, 1, 1, 1, 1, 1, 1, 1, 1, 1, 1, 1, 1, 1, 1, 1, 1, 0, 0, 0, 0, 0, 0, 0, 0, 0, 0, 0, 0, 0, 0, 0, 0, 0, 0, 0, 0]\n",
      "[0, 1, 0, 0, 0, 1, 1, 1, 0, 0, 0, 1, 1, 1, 0, 0, 0, 0, 1, 0, 0, 0, 1, 1, 0, 1, 1, 1, 1, 0, 0, 0, 0, 1, 0, 0, 0, 0, 0, 1]\n",
      "('Accuracy:', '50.00')\n",
      "('MCC:', '-0.0000')\n"
     ]
    }
   ],
   "source": [
    "## SVM with linear kernel\n",
    "pred_labels = []\n",
    "for i in range(0,40):\n",
    "    s = i*26\n",
    "    e = i*26+26\n",
    "    r = range(s,e)\n",
    "    pd1_test = pd1_features[pd1_features.index.isin(r)]\n",
    "    pd1_train = pd1_features[pd1_features.index.isin(r)==False]\n",
    "    pd1_test_l = pd1_labels[pd1_features.index.isin(r)]\n",
    "    pd1_train_l = pd1_labels[pd1_features.index.isin(r)==False]\n",
    "    clf = SVC(kernel=\"linear\")\n",
    "    clf.fit(pd1_train, pd1_train_l)\n",
    "    pred = clf.predict(pd1_test)\n",
    "    if(sum(pred)>13):\n",
    "        pred_labels.append(1)\n",
    "    else:\n",
    "        pred_labels.append(0)\n",
    "print(true_labels)\n",
    "print(pred_labels)\n",
    "print(\"Accuracy:\",format(accuracy_score(true_labels,pred_labels)*100,'.2f'))\n",
    "print(\"MCC:\",format(matthews_corrcoef(true_labels,pred_labels),'.4f'))"
   ]
  },
  {
   "cell_type": "code",
   "execution_count": 44,
   "metadata": {
    "collapsed": false
   },
   "outputs": [
    {
     "name": "stdout",
     "output_type": "stream",
     "text": [
      "[1, 1, 1, 1, 1, 1, 1, 1, 1, 1, 1, 1, 1, 1, 1, 1, 1, 1, 1, 1, 0, 0, 0, 0, 0, 0, 0, 0, 0, 0, 0, 0, 0, 0, 0, 0, 0, 0, 0, 0]\n",
      "[1, 1, 1, 0, 0, 1, 1, 0, 0, 0, 1, 1, 1, 1, 1, 0, 0, 1, 1, 0, 1, 1, 1, 1, 0, 1, 1, 0, 1, 0, 0, 0, 0, 1, 0, 0, 0, 0, 0, 1]\n",
      "('Accuracy:', '57.50')\n",
      "('MCC:', '0.1502')\n"
     ]
    }
   ],
   "source": [
    "## SVM with RBF kernel\n",
    "pred_labels = []\n",
    "for i in range(0,40):\n",
    "    s = i*26\n",
    "    e = i*26+26\n",
    "    r = range(s,e)\n",
    "    pd1_test = pd1_features[pd1_features.index.isin(r)]\n",
    "    pd1_train = pd1_features[pd1_features.index.isin(r)==False]\n",
    "    pd1_test_l = pd1_labels[pd1_features.index.isin(r)]\n",
    "    pd1_train_l = pd1_labels[pd1_features.index.isin(r)==False]\n",
    "    clf = SVC(kernel=\"rbf\")\n",
    "    clf.fit(pd1_train, pd1_train_l)\n",
    "    pred = clf.predict(pd1_test)\n",
    "    if(sum(pred)>13):\n",
    "        pred_labels.append(1)\n",
    "    else:\n",
    "        pred_labels.append(0)\n",
    "print(true_labels)\n",
    "print(pred_labels)\n",
    "print(\"Accuracy:\",format(accuracy_score(true_labels,pred_labels)*100,'.2f'))\n",
    "print(\"MCC:\",format(matthews_corrcoef(true_labels,pred_labels),'.4f'))"
   ]
  },
  {
   "cell_type": "markdown",
   "metadata": {},
   "source": [
    "###summarized Leave-One-Out (s-LOO)"
   ]
  },
  {
   "cell_type": "markdown",
   "metadata": {},
   "source": [
    "Summary Metrics:\n",
    "1 - mean\n",
    "2 - median\n",
    "3 - trimmed mean (25% removed)\n",
    "4 - standard deviation\n",
    "5 - mean absolute deviation\n",
    "6 - interquartile range"
   ]
  },
  {
   "cell_type": "code",
   "execution_count": 45,
   "metadata": {
    "collapsed": false
   },
   "outputs": [
    {
     "name": "stdout",
     "output_type": "stream",
     "text": [
      "[1, 1, 1, 1, 1, 1, 1, 1, 1, 1, 1, 1, 1, 1, 1, 1, 1, 1, 1, 1, 1, 1, 1, 1, 1, 1, 1, 1, 1, 1, 1, 1, 1, 1, 1, 1, 1, 1, 1, 1, 1, 1, 1, 1, 1, 1, 1, 1, 1, 1, 1, 1, 1, 1, 1, 1, 1, 1, 1, 1, 1, 1, 1, 1, 1, 1, 1, 1, 1, 1, 1, 1, 1, 1, 1, 1, 1, 1, 1, 1, 1, 1, 1, 1, 1, 1, 1, 1, 1, 1, 1, 1, 1, 1, 1, 1, 1, 1, 1, 1, 1, 1, 1, 1, 1, 1, 1, 1, 1, 1, 1, 1, 1, 1, 1, 1, 1, 1, 1, 1, 0, 0, 0, 0, 0, 0, 0, 0, 0, 0, 0, 0, 0, 0, 0, 0, 0, 0, 0, 0, 0, 0, 0, 0, 0, 0, 0, 0, 0, 0, 0, 0, 0, 0, 0, 0, 0, 0, 0, 0, 0, 0, 0, 0, 0, 0, 0, 0, 0, 0, 0, 0, 0, 0, 0, 0, 0, 0, 0, 0, 0, 0, 0, 0, 0, 0, 0, 0, 0, 0, 0, 0, 0, 0, 0, 0, 0, 0, 0, 0, 0, 0, 0, 0, 0, 0, 0, 0, 0, 0, 0, 0, 0, 0, 0, 0, 0, 0, 0, 0, 0, 0, 0, 0, 0, 0, 0, 0, 0, 0, 0, 0, 0, 0, 0, 0, 0, 0, 0, 0]\n",
      "[1, 1, 1, 1, 1, 0, 1, 1, 1, 1, 1, 1, 1, 1, 1, 1, 0, 0, 0, 1, 1, 0, 0, 0, 1, 1, 1, 1, 1, 1, 1, 1, 1, 1, 1, 1, 1, 1, 1, 1, 1, 1, 1, 1, 1, 1, 1, 1, 0, 1, 0, 1, 1, 1, 0, 0, 1, 0, 0, 0, 1, 1, 1, 1, 1, 1, 1, 1, 1, 1, 1, 1, 1, 1, 1, 1, 1, 1, 1, 1, 1, 1, 1, 1, 0, 1, 1, 1, 1, 1, 0, 0, 0, 1, 1, 1, 0, 1, 0, 0, 0, 1, 1, 1, 1, 0, 1, 1, 1, 1, 1, 1, 1, 0, 0, 0, 0, 1, 1, 0, 0, 0, 0, 0, 0, 1, 0, 0, 0, 1, 1, 1, 1, 1, 1, 0, 0, 0, 0, 1, 1, 0, 0, 1, 0, 0, 0, 0, 0, 0, 1, 0, 0, 1, 1, 0, 0, 0, 0, 1, 1, 0, 0, 1, 1, 0, 0, 0, 1, 1, 1, 1, 1, 1, 0, 0, 0, 0, 0, 0, 0, 0, 0, 0, 0, 0, 0, 0, 0, 1, 1, 0, 0, 0, 0, 0, 0, 0, 0, 0, 0, 0, 0, 0, 0, 0, 0, 0, 0, 1, 0, 0, 0, 0, 0, 0, 0, 0, 0, 0, 0, 0, 0, 1, 0, 0, 0, 1, 0, 1, 0, 0, 0, 0, 1, 1, 1, 1, 1, 1]\n",
      "('Accuracy:', '73.75')\n",
      "('MCC:', '0.4758')\n"
     ]
    }
   ],
   "source": [
    "true_labels = [1]*120+[0]*120\n",
    "## SVM with linear kernel, all summary metrics\n",
    "pred_labels = []\n",
    "for i in range(0,len(true_labels)):\n",
    "    #s = i*6\n",
    "    #e = i*6+6\n",
    "    #r = range(s,e)\n",
    "    pd1_test = pd1_sf_f[pd1_sf_f.index.isin([i])]\n",
    "    pd1_train = pd1_sf_f[pd1_sf_f.index.isin([i])==False]\n",
    "    pd1_test_l = pd1_sf_l[pd1_sf_f.index.isin([i])]\n",
    "    pd1_train_l = pd1_sf_l[pd1_sf_f.index.isin([i])==False]\n",
    "    clf = SVC(kernel=\"linear\")\n",
    "    clf.fit(pd1_train, pd1_train_l)\n",
    "    pred = clf.predict(pd1_test)\n",
    "    pred_labels.append(pred[0])\n",
    "print(true_labels)\n",
    "print(pred_labels)\n",
    "print(\"Accuracy:\",format(accuracy_score(true_labels,pred_labels)*100,'.2f'))\n",
    "print(\"MCC:\",format(matthews_corrcoef(true_labels,pred_labels),'.4f'))"
   ]
  },
  {
   "cell_type": "code",
   "execution_count": 46,
   "metadata": {
    "collapsed": false
   },
   "outputs": [
    {
     "name": "stdout",
     "output_type": "stream",
     "text": [
      "[1, 1, 1, 1, 1, 1, 1, 1, 1, 1, 1, 1, 1, 1, 1, 1, 1, 1, 1, 1, 1, 1, 1, 1, 1, 1, 1, 1, 1, 1, 1, 1, 1, 1, 1, 1, 1, 1, 1, 1, 1, 1, 1, 1, 1, 1, 1, 1, 1, 1, 1, 1, 1, 1, 1, 1, 1, 1, 1, 1, 1, 1, 1, 1, 1, 1, 1, 1, 1, 1, 1, 1, 1, 1, 1, 1, 1, 1, 1, 1, 1, 1, 1, 1, 1, 1, 1, 1, 1, 1, 1, 1, 1, 1, 1, 1, 1, 1, 1, 1, 1, 1, 1, 1, 1, 1, 1, 1, 1, 1, 1, 1, 1, 1, 1, 1, 1, 1, 1, 1, 0, 0, 0, 0, 0, 0, 0, 0, 0, 0, 0, 0, 0, 0, 0, 0, 0, 0, 0, 0, 0, 0, 0, 0, 0, 0, 0, 0, 0, 0, 0, 0, 0, 0, 0, 0, 0, 0, 0, 0, 0, 0, 0, 0, 0, 0, 0, 0, 0, 0, 0, 0, 0, 0, 0, 0, 0, 0, 0, 0, 0, 0, 0, 0, 0, 0, 0, 0, 0, 0, 0, 0, 0, 0, 0, 0, 0, 0, 0, 0, 0, 0, 0, 0, 0, 0, 0, 0, 0, 0, 0, 0, 0, 0, 0, 0, 0, 0, 0, 0, 0, 0, 0, 0, 0, 0, 0, 0, 0, 0, 0, 0, 0, 0, 0, 0, 0, 0, 0, 0]\n",
      "[1, 1, 1, 1, 1, 1, 1, 1, 1, 1, 1, 1, 1, 1, 1, 0, 0, 0, 1, 1, 1, 1, 1, 0, 1, 1, 1, 1, 1, 1, 1, 1, 1, 1, 1, 1, 1, 1, 1, 1, 1, 1, 0, 1, 1, 1, 1, 1, 0, 0, 0, 1, 1, 0, 0, 0, 0, 0, 0, 0, 1, 1, 1, 1, 1, 1, 1, 1, 1, 1, 1, 1, 1, 1, 1, 1, 1, 1, 1, 1, 1, 1, 1, 1, 1, 1, 1, 1, 1, 1, 0, 0, 0, 1, 1, 1, 0, 0, 0, 1, 1, 1, 1, 1, 1, 0, 0, 0, 1, 1, 1, 1, 1, 1, 1, 0, 0, 1, 1, 0, 0, 1, 0, 0, 0, 1, 0, 0, 0, 0, 0, 0, 1, 1, 1, 0, 1, 0, 0, 0, 0, 1, 1, 1, 0, 0, 0, 0, 0, 0, 1, 1, 1, 1, 1, 0, 0, 0, 0, 1, 1, 0, 1, 1, 1, 0, 1, 0, 1, 1, 1, 1, 1, 1, 0, 0, 0, 0, 0, 0, 0, 0, 0, 0, 0, 0, 0, 0, 0, 0, 0, 0, 0, 0, 0, 0, 0, 0, 0, 1, 0, 1, 1, 1, 0, 0, 0, 1, 1, 0, 0, 0, 0, 0, 0, 0, 0, 0, 0, 1, 1, 0, 0, 0, 0, 0, 0, 0, 0, 1, 0, 1, 1, 0, 1, 1, 1, 1, 1, 1]\n",
      "('Accuracy:', '70.83')\n",
      "('MCC:', '0.4204')\n"
     ]
    }
   ],
   "source": [
    "true_labels = [1]*120+[0]*120\n",
    "## SVM with RBF kernel, all summary metrics\n",
    "pred_labels = []\n",
    "for i in range(0,len(true_labels)):\n",
    "    #s = i*6\n",
    "    #e = i*6+6\n",
    "    #r = range(s,e)\n",
    "    pd1_test = pd1_sf_f[pd1_sf_f.index.isin([i])]\n",
    "    pd1_train = pd1_sf_f[pd1_sf_f.index.isin([i])==False]\n",
    "    pd1_test_l = pd1_sf_l[pd1_sf_f.index.isin([i])]\n",
    "    pd1_train_l = pd1_sf_l[pd1_sf_f.index.isin([i])==False]\n",
    "    clf = SVC(kernel=\"rbf\")\n",
    "    clf.fit(pd1_train, pd1_train_l)\n",
    "    pred = clf.predict(pd1_test)\n",
    "    pred_labels.append(pred[0])\n",
    "print(true_labels)\n",
    "print(pred_labels)\n",
    "print(\"Accuracy:\",format(accuracy_score(true_labels,pred_labels)*100,'.2f'))\n",
    "print(\"MCC:\",format(matthews_corrcoef(true_labels,pred_labels),'.4f'))"
   ]
  },
  {
   "cell_type": "code",
   "execution_count": 47,
   "metadata": {
    "collapsed": true
   },
   "outputs": [],
   "source": [
    "true_labels = [1]*40+[0]*40\n",
    "\n",
    "r =[]\n",
    "for i in range(0,40):\n",
    "    s = i*6\n",
    "    e = i*6+3\n",
    "    r.append(s)\n",
    "    r.append(e)\n",
    "pd1_sf_f1 = pd1_sf_f[pd1_sf_f.index.isin(r)]\n",
    "pd1_sf_l1 = pd1_sf_l[pd1_sf_f.index.isin(r)]"
   ]
  },
  {
   "cell_type": "code",
   "execution_count": 48,
   "metadata": {
    "collapsed": false
   },
   "outputs": [
    {
     "name": "stdout",
     "output_type": "stream",
     "text": [
      "[1, 1, 1, 1, 1, 1, 1, 1, 1, 1, 1, 1, 1, 1, 1, 1, 1, 1, 1, 1, 1, 1, 1, 1, 1, 1, 1, 1, 1, 1, 1, 1, 1, 1, 1, 1, 1, 1, 1, 1, 0, 0, 0, 0, 0, 0, 0, 0, 0, 0, 0, 0, 0, 0, 0, 0, 0, 0, 0, 0, 0, 0, 0, 0, 0, 0, 0, 0, 0, 0, 0, 0, 0, 0, 0, 0, 0, 0, 0, 0]\n",
      "[1, 1, 1, 1, 1, 0, 0, 0, 1, 1, 1, 1, 1, 0, 1, 0, 0, 0, 0, 0, 1, 0, 1, 1, 1, 1, 1, 1, 1, 0, 0, 1, 0, 0, 0, 0, 1, 1, 0, 0, 0, 0, 0, 1, 1, 0, 1, 1, 0, 0, 0, 1, 1, 1, 1, 1, 1, 1, 0, 0, 0, 0, 0, 1, 0, 0, 0, 0, 0, 0, 0, 0, 0, 0, 0, 0, 0, 0, 1, 1]\n",
      "('Accuracy:', '60.00')\n",
      "('MCC:', '0.2010')\n"
     ]
    }
   ],
   "source": [
    "# SVM with linear kernel; s-LOO summary metrics 1 and 4\n",
    "pred_labels = []\n",
    "for j in range(0,len(r)):\n",
    "    pd1_test = pd1_sf_f1[pd1_sf_f1.index.isin([r[j]])]\n",
    "    pd1_train = pd1_sf_f1[pd1_sf_f1.index.isin([r[j]])==False]\n",
    "    pd1_test_l = pd1_sf_l1[pd1_sf_f1.index.isin([r[j]])]\n",
    "    pd1_train_l = pd1_sf_l1[pd1_sf_f1.index.isin([r[j]])==False]\n",
    "    clf = SVC(kernel=\"linear\")\n",
    "    clf.fit(pd1_train, pd1_train_l)\n",
    "    pred = clf.predict(pd1_test)\n",
    "    pred_labels.append(pred[0])\n",
    "print(true_labels)\n",
    "print(pred_labels)\n",
    "print(\"Accuracy:\",format(accuracy_score(true_labels,pred_labels)*100,'.2f'))\n",
    "print(\"MCC:\",format(matthews_corrcoef(true_labels,pred_labels),'.4f'))"
   ]
  },
  {
   "cell_type": "code",
   "execution_count": 49,
   "metadata": {
    "collapsed": false
   },
   "outputs": [
    {
     "name": "stdout",
     "output_type": "stream",
     "text": [
      "[1, 1, 1, 1, 1, 1, 1, 1, 1, 1, 1, 1, 1, 1, 1, 1, 1, 1, 1, 1, 1, 1, 1, 1, 1, 1, 1, 1, 1, 1, 1, 1, 1, 1, 1, 1, 1, 1, 1, 1, 0, 0, 0, 0, 0, 0, 0, 0, 0, 0, 0, 0, 0, 0, 0, 0, 0, 0, 0, 0, 0, 0, 0, 0, 0, 0, 0, 0, 0, 0, 0, 0, 0, 0, 0, 0, 0, 0, 0, 0]\n",
      "[1, 1, 1, 1, 0, 0, 0, 1, 1, 0, 1, 1, 1, 0, 0, 0, 0, 0, 0, 0, 0, 0, 1, 1, 1, 1, 1, 1, 1, 1, 0, 1, 0, 0, 0, 0, 1, 1, 0, 0, 1, 0, 0, 1, 1, 1, 1, 1, 0, 0, 1, 1, 1, 1, 1, 1, 1, 1, 0, 0, 0, 0, 0, 0, 0, 0, 1, 1, 0, 1, 0, 1, 0, 1, 0, 1, 0, 1, 1, 1]\n",
      "('Accuracy:', '46.25')\n",
      "('MCC:', '-0.0752')\n"
     ]
    }
   ],
   "source": [
    "# SVM with RBF kernel; s-LOO summary metrics 1 and 4\n",
    "pred_labels = []\n",
    "for j in range(0,len(r)):\n",
    "    pd1_test = pd1_sf_f1[pd1_sf_f1.index.isin([r[j]])]\n",
    "    pd1_train = pd1_sf_f1[pd1_sf_f1.index.isin([r[j]])==False]\n",
    "    pd1_test_l = pd1_sf_l1[pd1_sf_f1.index.isin([r[j]])]\n",
    "    pd1_train_l = pd1_sf_l1[pd1_sf_f1.index.isin([r[j]])==False]\n",
    "    clf = SVC(kernel=\"rbf\")\n",
    "    clf.fit(pd1_train, pd1_train_l)\n",
    "    pred = clf.predict(pd1_test)\n",
    "    pred_labels.append(pred[0])\n",
    "print(true_labels)\n",
    "print(pred_labels)\n",
    "print(\"Accuracy:\",format(accuracy_score(true_labels,pred_labels)*100,'.2f'))\n",
    "print(\"MCC:\",format(matthews_corrcoef(true_labels,pred_labels),'.4f'))"
   ]
  },
  {
   "cell_type": "code",
   "execution_count": 50,
   "metadata": {
    "collapsed": true
   },
   "outputs": [],
   "source": [
    "r =[]\n",
    "for i in range(0,40):\n",
    "    s = i*6+1\n",
    "    e = i*6+4\n",
    "    r.append(s)\n",
    "    r.append(e)\n",
    "pd1_sf_f1 = pd1_sf_f[pd1_sf_f.index.isin(r)]\n",
    "pd1_sf_l1 = pd1_sf_l[pd1_sf_f.index.isin(r)]"
   ]
  },
  {
   "cell_type": "code",
   "execution_count": 51,
   "metadata": {
    "collapsed": false
   },
   "outputs": [
    {
     "name": "stdout",
     "output_type": "stream",
     "text": [
      "[1, 1, 1, 1, 1, 1, 1, 1, 1, 1, 1, 1, 1, 1, 1, 1, 1, 1, 1, 1, 1, 1, 1, 1, 1, 1, 1, 1, 1, 1, 1, 1, 1, 1, 1, 1, 1, 1, 1, 1, 0, 0, 0, 0, 0, 0, 0, 0, 0, 0, 0, 0, 0, 0, 0, 0, 0, 0, 0, 0, 0, 0, 0, 0, 0, 0, 0, 0, 0, 0, 0, 0, 0, 0, 0, 0, 0, 0, 0, 0]\n",
      "[1, 1, 1, 1, 0, 0, 0, 0, 1, 0, 1, 1, 1, 0, 1, 1, 0, 0, 0, 0, 1, 1, 1, 1, 1, 1, 1, 1, 1, 1, 0, 0, 0, 0, 1, 0, 1, 1, 0, 0, 0, 0, 0, 1, 1, 0, 1, 1, 0, 0, 1, 1, 0, 1, 1, 1, 1, 1, 0, 0, 0, 0, 0, 1, 0, 0, 1, 1, 0, 1, 0, 0, 0, 0, 0, 0, 1, 1, 1, 1]\n",
      "('Accuracy:', '55.00')\n",
      "('MCC:', '0.1001')\n"
     ]
    }
   ],
   "source": [
    "# SVM with linear kernel; s-LOO summary metrics 2 and 5\n",
    "pred_labels = []\n",
    "for j in range(0,len(r)):\n",
    "    pd1_test = pd1_sf_f1[pd1_sf_f1.index.isin([r[j]])]\n",
    "    pd1_train = pd1_sf_f1[pd1_sf_f1.index.isin([r[j]])==False]\n",
    "    pd1_test_l = pd1_sf_l1[pd1_sf_f1.index.isin([r[j]])]\n",
    "    pd1_train_l = pd1_sf_l1[pd1_sf_f1.index.isin([r[j]])==False]\n",
    "    clf = SVC(kernel=\"linear\")\n",
    "    clf.fit(pd1_train, pd1_train_l)\n",
    "    pred = clf.predict(pd1_test)\n",
    "    pred_labels.append(pred[0])\n",
    "print(true_labels)\n",
    "print(pred_labels)\n",
    "print(\"Accuracy:\",format(accuracy_score(true_labels,pred_labels)*100,'.2f'))\n",
    "print(\"MCC:\",format(matthews_corrcoef(true_labels,pred_labels),'.4f'))"
   ]
  },
  {
   "cell_type": "code",
   "execution_count": 52,
   "metadata": {
    "collapsed": false
   },
   "outputs": [
    {
     "name": "stdout",
     "output_type": "stream",
     "text": [
      "[1, 1, 1, 1, 1, 1, 1, 1, 1, 1, 1, 1, 1, 1, 1, 1, 1, 1, 1, 1, 1, 1, 1, 1, 1, 1, 1, 1, 1, 1, 1, 1, 1, 1, 1, 1, 1, 1, 1, 1, 0, 0, 0, 0, 0, 0, 0, 0, 0, 0, 0, 0, 0, 0, 0, 0, 0, 0, 0, 0, 0, 0, 0, 0, 0, 0, 0, 0, 0, 0, 0, 0, 0, 0, 0, 0, 0, 0, 0, 0]\n",
      "[1, 1, 1, 1, 0, 0, 0, 0, 1, 0, 1, 1, 1, 0, 1, 0, 1, 1, 0, 0, 1, 0, 1, 1, 0, 1, 1, 1, 1, 1, 0, 0, 0, 1, 1, 0, 1, 1, 0, 0, 1, 1, 1, 1, 1, 1, 1, 1, 0, 1, 1, 1, 1, 1, 1, 1, 1, 1, 0, 1, 0, 0, 0, 0, 0, 0, 1, 1, 1, 1, 0, 1, 0, 1, 1, 1, 1, 1, 1, 1]\n",
      "('Accuracy:', '41.25')\n",
      "('MCC:', '-0.1850')\n"
     ]
    }
   ],
   "source": [
    "# SVM with RBF kernel; s-LOO summary metrics 2 and 5\n",
    "pred_labels = []\n",
    "for j in range(0,len(r)):\n",
    "    pd1_test = pd1_sf_f1[pd1_sf_f1.index.isin([r[j]])]\n",
    "    pd1_train = pd1_sf_f1[pd1_sf_f1.index.isin([r[j]])==False]\n",
    "    pd1_test_l = pd1_sf_l1[pd1_sf_f1.index.isin([r[j]])]\n",
    "    pd1_train_l = pd1_sf_l1[pd1_sf_f1.index.isin([r[j]])==False]\n",
    "    clf = SVC(kernel=\"rbf\")\n",
    "    clf.fit(pd1_train, pd1_train_l)\n",
    "    pred = clf.predict(pd1_test)\n",
    "    pred_labels.append(pred[0])\n",
    "print(true_labels)\n",
    "print(pred_labels)\n",
    "print(\"Accuracy:\",format(accuracy_score(true_labels,pred_labels)*100,'.2f'))\n",
    "print(\"MCC:\",format(matthews_corrcoef(true_labels,pred_labels),'.4f'))"
   ]
  },
  {
   "cell_type": "code",
   "execution_count": 53,
   "metadata": {
    "collapsed": true
   },
   "outputs": [],
   "source": [
    "r =[]\n",
    "for i in range(0,40):\n",
    "    s = i*6+2\n",
    "    e = i*6+5\n",
    "    r.append(s)\n",
    "    r.append(e)\n",
    "pd1_sf_f1 = pd1_sf_f[pd1_sf_f.index.isin(r)]\n",
    "pd1_sf_l1 = pd1_sf_l[pd1_sf_f.index.isin(r)]"
   ]
  },
  {
   "cell_type": "code",
   "execution_count": 54,
   "metadata": {
    "collapsed": false
   },
   "outputs": [
    {
     "name": "stdout",
     "output_type": "stream",
     "text": [
      "[1, 1, 1, 1, 1, 1, 1, 1, 1, 1, 1, 1, 1, 1, 1, 1, 1, 1, 1, 1, 1, 1, 1, 1, 1, 1, 1, 1, 1, 1, 1, 1, 1, 1, 1, 1, 1, 1, 1, 1, 0, 0, 0, 0, 0, 0, 0, 0, 0, 0, 0, 0, 0, 0, 0, 0, 0, 0, 0, 0, 0, 0, 0, 0, 0, 0, 0, 0, 0, 0, 0, 0, 0, 0, 0, 0, 0, 0, 0, 0]\n",
      "[1, 1, 1, 1, 1, 0, 0, 0, 1, 1, 1, 1, 1, 1, 1, 0, 0, 1, 0, 0, 1, 1, 1, 1, 1, 1, 1, 1, 1, 1, 0, 0, 0, 1, 1, 1, 1, 0, 0, 0, 0, 1, 0, 1, 1, 0, 1, 1, 0, 0, 1, 0, 0, 0, 0, 0, 1, 1, 0, 0, 0, 1, 0, 0, 0, 0, 0, 0, 1, 1, 0, 0, 0, 0, 0, 0, 0, 0, 1, 1]\n",
      "('Accuracy:', '67.50')\n",
      "('MCC:', '0.3500')\n"
     ]
    }
   ],
   "source": [
    "# SVM with linear kernel; s-LOO summary metrics 3 and 6\n",
    "pred_labels = []\n",
    "for j in range(0,len(r)):\n",
    "    pd1_test = pd1_sf_f1[pd1_sf_f1.index.isin([r[j]])]\n",
    "    pd1_train = pd1_sf_f1[pd1_sf_f1.index.isin([r[j]])==False]\n",
    "    pd1_test_l = pd1_sf_l1[pd1_sf_f1.index.isin([r[j]])]\n",
    "    pd1_train_l = pd1_sf_l1[pd1_sf_f1.index.isin([r[j]])==False]\n",
    "    clf = SVC(kernel=\"linear\")\n",
    "    clf.fit(pd1_train, pd1_train_l)\n",
    "    pred = clf.predict(pd1_test)\n",
    "    pred_labels.append(pred[0])\n",
    "print(true_labels)\n",
    "print(pred_labels)\n",
    "print(\"Accuracy:\",format(accuracy_score(true_labels,pred_labels)*100,'.2f'))\n",
    "print(\"MCC:\",format(matthews_corrcoef(true_labels,pred_labels),'.4f'))"
   ]
  },
  {
   "cell_type": "code",
   "execution_count": 55,
   "metadata": {
    "collapsed": false
   },
   "outputs": [
    {
     "name": "stdout",
     "output_type": "stream",
     "text": [
      "[1, 1, 1, 1, 1, 1, 1, 1, 1, 1, 1, 1, 1, 1, 1, 1, 1, 1, 1, 1, 1, 1, 1, 1, 1, 1, 1, 1, 1, 1, 1, 1, 1, 1, 1, 1, 1, 1, 1, 1, 0, 0, 0, 0, 0, 0, 0, 0, 0, 0, 0, 0, 0, 0, 0, 0, 0, 0, 0, 0, 0, 0, 0, 0, 0, 0, 0, 0, 0, 0, 0, 0, 0, 0, 0, 0, 0, 0, 0, 0]\n",
      "[0, 1, 1, 1, 1, 0, 0, 0, 1, 1, 1, 1, 1, 1, 0, 1, 0, 1, 0, 0, 0, 1, 1, 1, 0, 1, 1, 1, 0, 1, 0, 1, 0, 1, 1, 0, 1, 1, 0, 0, 1, 1, 0, 0, 1, 1, 1, 1, 0, 0, 1, 1, 1, 1, 1, 0, 1, 1, 0, 0, 0, 0, 0, 0, 0, 0, 1, 1, 0, 1, 0, 0, 0, 1, 0, 0, 0, 1, 1, 1]\n",
      "('Accuracy:', '55.00')\n",
      "('MCC:', '0.1005')\n"
     ]
    }
   ],
   "source": [
    "# SVM with RBF kernel; s-LOO summary metrics 3 and 6\n",
    "pred_labels = []\n",
    "for j in range(0,len(r)):\n",
    "    pd1_test = pd1_sf_f1[pd1_sf_f1.index.isin([r[j]])]\n",
    "    pd1_train = pd1_sf_f1[pd1_sf_f1.index.isin([r[j]])==False]\n",
    "    pd1_test_l = pd1_sf_l1[pd1_sf_f1.index.isin([r[j]])]\n",
    "    pd1_train_l = pd1_sf_l1[pd1_sf_f1.index.isin([r[j]])==False]\n",
    "    clf = SVC(kernel=\"rbf\")\n",
    "    clf.fit(pd1_train, pd1_train_l)\n",
    "    pred = clf.predict(pd1_test)\n",
    "    pred_labels.append(pred[0])\n",
    "print(true_labels)\n",
    "print(pred_labels)\n",
    "print(\"Accuracy:\",format(accuracy_score(true_labels,pred_labels)*100,'.2f'))\n",
    "print(\"MCC:\",format(matthews_corrcoef(true_labels,pred_labels),'.4f'))"
   ]
  },
  {
   "cell_type": "markdown",
   "metadata": {},
   "source": [
    "Similar to what Sakar et al. reported the SVM with linear kernel produced better classification than SVM with RBF kernel. In addition, s-LOO worked better than LOSO. However, again I found that using all summary metrics gives the highest accuracy and MCC value, followed by using trimmed mean and interquartile range and then mean and standard deviation."
   ]
  },
  {
   "cell_type": "code",
   "execution_count": 57,
   "metadata": {
    "collapsed": false
   },
   "outputs": [],
   "source": [
    "from sklearn.feature_selection import RFECV\n",
    "from sklearn.cross_validation import StratifiedKFold"
   ]
  },
  {
   "cell_type": "code",
   "execution_count": 72,
   "metadata": {
    "collapsed": false
   },
   "outputs": [
    {
     "name": "stdout",
     "output_type": "stream",
     "text": [
      "Optimal number of features : 10\n"
     ]
    }
   ],
   "source": [
    "# Create the RFE object and compute a cross-validated score.\n",
    "svc = SVC(kernel=\"linear\")\n",
    "# The \"accuracy\" scoring is proportional to the number of correct\n",
    "# classifications\n",
    "rfecv = RFECV(estimator=svc, step=1, cv=StratifiedKFold(pd1_labels, 2),\n",
    "              scoring='accuracy')\n",
    "rfecv.fit(pd1_features, pd1_labels)\n",
    "\n",
    "print(\"Optimal number of features : %d\" % rfecv.n_features_)\n"
   ]
  },
  {
   "cell_type": "code",
   "execution_count": 73,
   "metadata": {
    "collapsed": false
   },
   "outputs": [
    {
     "data": {
      "image/png": "[encoded data removed]",
      "text/plain": [
       "<matplotlib.figure.Figure at 0x1f982e10>"
      ]
     },
     "metadata": {},
     "output_type": "display_data"
    }
   ],
   "source": [
    "# Plot number of features VS. cross-validation scores\n",
    "plt.figure()\n",
    "plt.xlabel(\"Number of features selected\")\n",
    "plt.ylabel(\"Cross validation score (nb of correct classifications)\")\n",
    "plt.plot(range(1, len(rfecv.grid_scores_) + 1), rfecv.grid_scores_)\n",
    "plt.show()\n"
   ]
  },
  {
   "cell_type": "code",
   "execution_count": 74,
   "metadata": {
    "collapsed": false
   },
   "outputs": [
    {
     "name": "stdout",
     "output_type": "stream",
     "text": [
      "[16  1 15  3  9  1  1 12 17  1  5  1  1 14  2  7 11  6  1 10  1  1  8  1 13\n",
      "  4]\n"
     ]
    }
   ],
   "source": [
    "print(rfecv.ranking_)"
   ]
  },
  {
   "cell_type": "code",
   "execution_count": 68,
   "metadata": {
    "collapsed": false
   },
   "outputs": [
    {
     "name": "stdout",
     "output_type": "stream",
     "text": [
      "Optimal number of features : 5\n"
     ]
    }
   ],
   "source": [
    "# Create the RFE object and compute a cross-validated score.\n",
    "svc1 = SVC(kernel=\"linear\")\n",
    "# The \"accuracy\" scoring is proportional to the number of correct\n",
    "# classifications\n",
    "rfecv1 = RFECV(estimator=svc1, step=1, cv=StratifiedKFold(pd1_sf_l, 2),\n",
    "              scoring='accuracy')\n",
    "rfecv1.fit(pd1_sf_f, pd1_sf_l)\n",
    "\n",
    "print(\"Optimal number of features : %d\" % rfecv1.n_features_)\n"
   ]
  },
  {
   "cell_type": "code",
   "execution_count": 70,
   "metadata": {
    "collapsed": false
   },
   "outputs": [
    {
     "data": {
      "image/png": "[encoded data removed]",
      "text/plain": [
       "<matplotlib.figure.Figure at 0x1f2e88d0>"
      ]
     },
     "metadata": {},
     "output_type": "display_data"
    }
   ],
   "source": [
    "# Plot number of features VS. cross-validation scores\n",
    "plt.figure()\n",
    "plt.xlabel(\"Number of features selected\")\n",
    "plt.ylabel(\"Cross validation score (nb of correct classifications)\")\n",
    "plt.plot(range(1, len(rfecv1.grid_scores_) + 1), rfecv1.grid_scores_)\n",
    "plt.show()\n"
   ]
  },
  {
   "cell_type": "code",
   "execution_count": 71,
   "metadata": {
    "collapsed": false
   },
   "outputs": [
    {
     "name": "stdout",
     "output_type": "stream",
     "text": [
      "[14  1 20 22 18  1 16 19 11  8 21  2 17  9 12 15  5 10  6 13  1  4  7  3  1\n",
      "  1]\n"
     ]
    }
   ],
   "source": [
    "print(rfecv1.ranking_)"
   ]
  },
  {
   "cell_type": "code",
   "execution_count": 81,
   "metadata": {
    "collapsed": false
   },
   "outputs": [
    {
     "name": "stdout",
     "output_type": "stream",
     "text": [
      "[False  True False False False  True  True False False  True False  True\n",
      "  True False False False False False  True False  True  True False  True\n",
      " False False]\n"
     ]
    }
   ],
   "source": [
    "test1 = rfecv.ranking_ == 1\n",
    "print(test1)"
   ]
  },
  {
   "cell_type": "code",
   "execution_count": 91,
   "metadata": {
    "collapsed": false
   },
   "outputs": [
    {
     "name": "stdout",
     "output_type": "stream",
     "text": [
      "[False  True False False False  True False False False False False False\n",
      " False False False False False False False False  True False False False\n",
      "  True  True]\n"
     ]
    }
   ],
   "source": [
    "test2 = rfecv1.ranking_ == 1\n",
    "print(test2)"
   ]
  },
  {
   "cell_type": "code",
   "execution_count": 85,
   "metadata": {
    "collapsed": false
   },
   "outputs": [],
   "source": [
    "pd1_feat1 = pd1_features.iloc[:,test1]"
   ]
  },
  {
   "cell_type": "code",
   "execution_count": 86,
   "metadata": {
    "collapsed": false
   },
   "outputs": [
    {
     "data": {
      "text/html": [
       "<div>\n",
       "<table border=\"1\" class=\"dataframe\">\n",
       "  <thead>\n",
       "    <tr style=\"text-align: right;\">\n",
       "      <th></th>\n",
       "      <th>d2</th>\n",
       "      <th>d6</th>\n",
       "      <th>d7</th>\n",
       "      <th>d10</th>\n",
       "      <th>d12</th>\n",
       "      <th>d13</th>\n",
       "      <th>d19</th>\n",
       "      <th>d21</th>\n",
       "      <th>d22</th>\n",
       "      <th>d24</th>\n",
       "    </tr>\n",
       "  </thead>\n",
       "  <tbody>\n",
       "    <tr>\n",
       "      <th>0</th>\n",
       "      <td>-0.753234</td>\n",
       "      <td>-0.840833</td>\n",
       "      <td>-0.990060</td>\n",
       "      <td>-0.899786</td>\n",
       "      <td>0.698779</td>\n",
       "      <td>-0.742070</td>\n",
       "      <td>-0.389168</td>\n",
       "      <td>0.354918</td>\n",
       "      <td>-0.256961</td>\n",
       "      <td>-1.319784</td>\n",
       "    </tr>\n",
       "    <tr>\n",
       "      <th>1</th>\n",
       "      <td>-1.246545</td>\n",
       "      <td>-1.293860</td>\n",
       "      <td>-1.316195</td>\n",
       "      <td>-0.834629</td>\n",
       "      <td>1.228245</td>\n",
       "      <td>-1.088163</td>\n",
       "      <td>-0.003052</td>\n",
       "      <td>0.421844</td>\n",
       "      <td>-0.728068</td>\n",
       "      <td>-1.212658</td>\n",
       "    </tr>\n",
       "    <tr>\n",
       "      <th>2</th>\n",
       "      <td>-0.905149</td>\n",
       "      <td>-0.770219</td>\n",
       "      <td>-0.761527</td>\n",
       "      <td>-0.775788</td>\n",
       "      <td>0.764151</td>\n",
       "      <td>-0.802440</td>\n",
       "      <td>-0.192807</td>\n",
       "      <td>8.841230</td>\n",
       "      <td>-0.253749</td>\n",
       "      <td>-0.811758</td>\n",
       "    </tr>\n",
       "    <tr>\n",
       "      <th>3</th>\n",
       "      <td>-0.446896</td>\n",
       "      <td>0.109059</td>\n",
       "      <td>0.185932</td>\n",
       "      <td>0.758553</td>\n",
       "      <td>0.645074</td>\n",
       "      <td>-0.723125</td>\n",
       "      <td>-0.120502</td>\n",
       "      <td>-0.093492</td>\n",
       "      <td>-0.872702</td>\n",
       "      <td>-1.319784</td>\n",
       "    </tr>\n",
       "    <tr>\n",
       "      <th>4</th>\n",
       "      <td>-0.032605</td>\n",
       "      <td>-0.698138</td>\n",
       "      <td>-0.368736</td>\n",
       "      <td>0.101002</td>\n",
       "      <td>0.127100</td>\n",
       "      <td>0.036041</td>\n",
       "      <td>-0.079923</td>\n",
       "      <td>0.053747</td>\n",
       "      <td>-0.954174</td>\n",
       "      <td>-0.452955</td>\n",
       "    </tr>\n",
       "  </tbody>\n",
       "</table>\n",
       "</div>"
      ],
      "text/plain": [
       "         d2        d6        d7       d10       d12       d13       d19  \\\n",
       "0 -0.753234 -0.840833 -0.990060 -0.899786  0.698779 -0.742070 -0.389168   \n",
       "1 -1.246545 -1.293860 -1.316195 -0.834629  1.228245 -1.088163 -0.003052   \n",
       "2 -0.905149 -0.770219 -0.761527 -0.775788  0.764151 -0.802440 -0.192807   \n",
       "3 -0.446896  0.109059  0.185932  0.758553  0.645074 -0.723125 -0.120502   \n",
       "4 -0.032605 -0.698138 -0.368736  0.101002  0.127100  0.036041 -0.079923   \n",
       "\n",
       "        d21       d22       d24  \n",
       "0  0.354918 -0.256961 -1.319784  \n",
       "1  0.421844 -0.728068 -1.212658  \n",
       "2  8.841230 -0.253749 -0.811758  \n",
       "3 -0.093492 -0.872702 -1.319784  \n",
       "4  0.053747 -0.954174 -0.452955  "
      ]
     },
     "execution_count": 86,
     "metadata": {},
     "output_type": "execute_result"
    }
   ],
   "source": [
    "pd1_feat1.head()"
   ]
  },
  {
   "cell_type": "code",
   "execution_count": 90,
   "metadata": {
    "collapsed": false
   },
   "outputs": [
    {
     "name": "stdout",
     "output_type": "stream",
     "text": [
      "[1, 1, 1, 1, 1, 1, 1, 1, 1, 1, 1, 1, 1, 1, 1, 1, 1, 1, 1, 1, 0, 0, 0, 0, 0, 0, 0, 0, 0, 0, 0, 0, 0, 0, 0, 0, 0, 0, 0, 0]\n",
      "[1, 1, 0, 0, 0, 0, 1, 0, 0, 0, 1, 1, 1, 1, 1, 0, 0, 0, 1, 0, 1, 0, 1, 0, 0, 1, 1, 0, 1, 0, 0, 0, 0, 1, 1, 0, 0, 0, 0, 1]\n",
      "('Accuracy:', '52.50')\n",
      "('MCC:', '0.0506')\n"
     ]
    }
   ],
   "source": [
    "true_labels = [1]*20+[0]*20\n",
    "#print(true_labels)\n",
    "## K-nearest neighbour with k=5\n",
    "pred_labels = []\n",
    "for i in range(0,40):\n",
    "    s = i*26\n",
    "    e = i*26+26\n",
    "    r = range(s,e)\n",
    "    pd1_test = pd1_feat1[pd1_feat1.index.isin(r)]\n",
    "    pd1_train = pd1_feat1[pd1_feat1.index.isin(r)==False]\n",
    "    pd1_test_l = pd1_labels[pd1_feat1.index.isin(r)]\n",
    "    pd1_train_l = pd1_labels[pd1_feat1.index.isin(r)==False]\n",
    "    clf = neighbors.KNeighborsClassifier(7, weights='uniform')\n",
    "    clf.fit(pd1_train, pd1_train_l)\n",
    "    pred = clf.predict(pd1_test)\n",
    "    if(sum(pred)>13):\n",
    "        pred_labels.append(1)\n",
    "    else:\n",
    "        pred_labels.append(0)\n",
    "print(true_labels)\n",
    "print(pred_labels)\n",
    "print(\"Accuracy:\",format(accuracy_score(true_labels,pred_labels)*100,'.2f'))\n",
    "print(\"MCC:\",format(matthews_corrcoef(true_labels,pred_labels),'.4f'))"
   ]
  },
  {
   "cell_type": "code",
   "execution_count": 92,
   "metadata": {
    "collapsed": false
   },
   "outputs": [
    {
     "data": {
      "text/html": [
       "<div>\n",
       "<table border=\"1\" class=\"dataframe\">\n",
       "  <thead>\n",
       "    <tr style=\"text-align: right;\">\n",
       "      <th></th>\n",
       "      <th>d2</th>\n",
       "      <th>d6</th>\n",
       "      <th>d21</th>\n",
       "      <th>d25</th>\n",
       "      <th>d26</th>\n",
       "    </tr>\n",
       "  </thead>\n",
       "  <tbody>\n",
       "    <tr>\n",
       "      <th>0</th>\n",
       "      <td>-0.524940</td>\n",
       "      <td>-0.434702</td>\n",
       "      <td>0.424419</td>\n",
       "      <td>-0.250096</td>\n",
       "      <td>-0.365661</td>\n",
       "    </tr>\n",
       "    <tr>\n",
       "      <th>1</th>\n",
       "      <td>-0.587957</td>\n",
       "      <td>-0.525639</td>\n",
       "      <td>-0.049989</td>\n",
       "      <td>-0.393008</td>\n",
       "      <td>-0.809993</td>\n",
       "    </tr>\n",
       "    <tr>\n",
       "      <th>2</th>\n",
       "      <td>-0.567582</td>\n",
       "      <td>-0.448936</td>\n",
       "      <td>0.052074</td>\n",
       "      <td>-0.362044</td>\n",
       "      <td>-0.499415</td>\n",
       "    </tr>\n",
       "    <tr>\n",
       "      <th>3</th>\n",
       "      <td>0.424184</td>\n",
       "      <td>0.490906</td>\n",
       "      <td>1.754059</td>\n",
       "      <td>0.569142</td>\n",
       "      <td>0.633545</td>\n",
       "    </tr>\n",
       "    <tr>\n",
       "      <th>4</th>\n",
       "      <td>0.303281</td>\n",
       "      <td>0.400195</td>\n",
       "      <td>0.767123</td>\n",
       "      <td>0.452555</td>\n",
       "      <td>0.518575</td>\n",
       "    </tr>\n",
       "  </tbody>\n",
       "</table>\n",
       "</div>"
      ],
      "text/plain": [
       "         d2        d6       d21       d25       d26\n",
       "0 -0.524940 -0.434702  0.424419 -0.250096 -0.365661\n",
       "1 -0.587957 -0.525639 -0.049989 -0.393008 -0.809993\n",
       "2 -0.567582 -0.448936  0.052074 -0.362044 -0.499415\n",
       "3  0.424184  0.490906  1.754059  0.569142  0.633545\n",
       "4  0.303281  0.400195  0.767123  0.452555  0.518575"
      ]
     },
     "execution_count": 92,
     "metadata": {},
     "output_type": "execute_result"
    }
   ],
   "source": [
    "pd1_sf_fea = pd1_sf_f.iloc[:,test2]\n",
    "pd1_sf_fea.head()"
   ]
  },
  {
   "cell_type": "code",
   "execution_count": 93,
   "metadata": {
    "collapsed": false
   },
   "outputs": [
    {
     "name": "stdout",
     "output_type": "stream",
     "text": [
      "[1, 1, 1, 1, 1, 1, 1, 1, 1, 1, 1, 1, 1, 1, 1, 1, 1, 1, 1, 1, 1, 1, 1, 1, 1, 1, 1, 1, 1, 1, 1, 1, 1, 1, 1, 1, 1, 1, 1, 1, 1, 1, 1, 1, 1, 1, 1, 1, 1, 1, 1, 1, 1, 1, 1, 1, 1, 1, 1, 1, 1, 1, 1, 1, 1, 1, 1, 1, 1, 1, 1, 1, 1, 1, 1, 1, 1, 1, 1, 1, 1, 1, 1, 1, 1, 1, 1, 1, 1, 1, 1, 1, 1, 1, 1, 1, 1, 1, 1, 1, 1, 1, 1, 1, 1, 1, 1, 1, 1, 1, 1, 1, 1, 1, 1, 1, 1, 1, 1, 1, 0, 0, 0, 0, 0, 0, 0, 0, 0, 0, 0, 0, 0, 0, 0, 0, 0, 0, 0, 0, 0, 0, 0, 0, 0, 0, 0, 0, 0, 0, 0, 0, 0, 0, 0, 0, 0, 0, 0, 0, 0, 0, 0, 0, 0, 0, 0, 0, 0, 0, 0, 0, 0, 0, 0, 0, 0, 0, 0, 0, 0, 0, 0, 0, 0, 0, 0, 0, 0, 0, 0, 0, 0, 0, 0, 0, 0, 0, 0, 0, 0, 0, 0, 0, 0, 0, 0, 0, 0, 0, 0, 0, 0, 0, 0, 0, 0, 0, 0, 0, 0, 0, 0, 0, 0, 0, 0, 0, 0, 0, 0, 0, 0, 0, 0, 0, 0, 0, 0, 0]\n",
      "[1, 1, 1, 1, 0, 0, 1, 1, 1, 1, 1, 1, 1, 1, 1, 0, 0, 0, 0, 0, 0, 0, 0, 0, 1, 1, 1, 1, 1, 1, 1, 1, 1, 1, 0, 0, 0, 1, 0, 1, 1, 1, 0, 1, 0, 1, 0, 0, 0, 0, 1, 0, 0, 1, 1, 1, 1, 0, 0, 0, 0, 1, 0, 0, 0, 1, 1, 1, 1, 1, 1, 1, 1, 0, 1, 1, 1, 1, 1, 0, 0, 1, 1, 0, 1, 1, 1, 0, 0, 1, 0, 0, 0, 0, 1, 0, 1, 1, 1, 1, 0, 0, 1, 1, 1, 0, 1, 0, 1, 1, 1, 1, 1, 0, 1, 1, 1, 0, 1, 0, 0, 1, 0, 0, 0, 1, 0, 0, 0, 0, 0, 1, 0, 0, 0, 0, 0, 0, 1, 1, 1, 1, 1, 0, 0, 0, 0, 0, 0, 0, 0, 0, 0, 0, 0, 0, 0, 0, 0, 0, 0, 1, 1, 1, 1, 0, 0, 0, 0, 1, 1, 1, 0, 1, 0, 0, 0, 0, 0, 0, 0, 0, 0, 0, 0, 0, 0, 0, 0, 1, 0, 1, 0, 0, 0, 0, 0, 0, 1, 0, 0, 0, 0, 0, 0, 0, 0, 0, 1, 1, 0, 0, 0, 1, 1, 1, 0, 0, 0, 1, 1, 1, 0, 0, 0, 0, 0, 1, 0, 1, 0, 1, 0, 1, 0, 0, 0, 1, 1, 1]\n",
      "('Accuracy:', '65.83')\n",
      "('MCC:', '0.3188')\n"
     ]
    }
   ],
   "source": [
    "true_labels = [1]*120+[0]*120\n",
    "## K-nearest neighbour with k=1; s-LOO all summary metrics\n",
    "pred_labels = []\n",
    "for i in range(0,len(true_labels)):\n",
    "    #s = i*6\n",
    "    #e = i*6+6\n",
    "    #r = range(s,e)\n",
    "    pd1_test = pd1_sf_fea[pd1_sf_fea.index.isin([i])]\n",
    "    pd1_train = pd1_sf_fea[pd1_sf_fea.index.isin([i])==False]\n",
    "    pd1_test_l = pd1_sf_l[pd1_sf_fea.index.isin([i])]\n",
    "    pd1_train_l = pd1_sf_l[pd1_sf_fea.index.isin([i])==False]\n",
    "    clf = neighbors.KNeighborsClassifier(1, weights='uniform')\n",
    "    clf.fit(pd1_train, pd1_train_l)\n",
    "    pred = clf.predict(pd1_test)\n",
    "    pred_labels.append(pred[0])\n",
    "print(true_labels)\n",
    "print(pred_labels)\n",
    "print(\"Accuracy:\",format(accuracy_score(true_labels,pred_labels)*100,'.2f'))\n",
    "print(\"MCC:\",format(matthews_corrcoef(true_labels,pred_labels),'.4f'))"
   ]
  },
  {
   "cell_type": "code",
   "execution_count": null,
   "metadata": {
    "collapsed": true
   },
   "outputs": [],
   "source": []
  }
 ],
 "metadata": {
  "kernelspec": {
   "display_name": "Python 2",
   "language": "python",
   "name": "python2"
  },
  "language_info": {
   "codemirror_mode": {
    "name": "ipython",
    "version": 2
   },
   "file_extension": ".py",
   "mimetype": "text/x-python",
   "name": "python",
   "nbconvert_exporter": "python",
   "pygments_lexer": "ipython2",
   "version": "2.7.10"
  }
 },
 "nbformat": 4,
 "nbformat_minor": 0
}
