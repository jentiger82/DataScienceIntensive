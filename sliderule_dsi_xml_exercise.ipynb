{
 "cells": [
  {
   "cell_type": "markdown",
   "metadata": {},
   "source": [
    "# XML example and exercise\n",
    "****\n",
    "+ study examples of accessing nodes in XML tree structure  \n",
    "+ work on exercise to be completed and submitted\n",
    "****\n",
    "+ reference: https://docs.python.org/2.7/library/xml.etree.elementtree.html\n",
    "+ data source: http://www.dbis.informatik.uni-goettingen.de/Mondial\n",
    "****"
   ]
  },
  {
   "cell_type": "code",
   "execution_count": 2,
   "metadata": {
    "collapsed": true
   },
   "outputs": [],
   "source": [
    "from xml.etree import ElementTree as ET"
   ]
  },
  {
   "cell_type": "markdown",
   "metadata": {},
   "source": [
    "## XML example\n",
    "\n",
    "+ for details about tree traversal and iterators, see https://docs.python.org/2.7/library/xml.etree.elementtree.html"
   ]
  },
  {
   "cell_type": "code",
   "execution_count": 3,
   "metadata": {
    "collapsed": true
   },
   "outputs": [],
   "source": [
    "document_tree = ET.parse( './data/mondial_database_less.xml' )"
   ]
  },
  {
   "cell_type": "code",
   "execution_count": 4,
   "metadata": {
    "collapsed": false
   },
   "outputs": [
    {
     "name": "stdout",
     "output_type": "stream",
     "text": [
      "Albania\n",
      "Greece\n",
      "Macedonia\n",
      "Serbia\n",
      "Montenegro\n",
      "Kosovo\n",
      "Andorra\n"
     ]
    }
   ],
   "source": [
    "# print names of all countries\n",
    "for child in document_tree.getroot():\n",
    "    print child.find('name').text"
   ]
  },
  {
   "cell_type": "code",
   "execution_count": 5,
   "metadata": {
    "collapsed": false
   },
   "outputs": [
    {
     "name": "stdout",
     "output_type": "stream",
     "text": [
      "* Albania: Tirana, Shkodër, Durrës, Vlorë, Elbasan, Korçë\n",
      "* Greece: Komotini, Kavala, Athina, Peiraias, Peristeri, Acharnes, Patra, Kozani, Kerkyra, Ioannina, Thessaloniki, Iraklio, Chania, Ermoupoli, Rhodes, Tripoli, Lamia, Chalkida, Larissa, Volos, Mytilini, Karyes\n",
      "* Macedonia: Skopje, Kumanovo\n",
      "* Serbia: Beograd, Novi Sad, Niš\n",
      "* Montenegro: Podgorica\n",
      "* Kosovo: Prishtine\n",
      "* Andorra: Andorra la Vella\n"
     ]
    }
   ],
   "source": [
    "# print names of all countries and their cities\n",
    "for element in document_tree.iterfind('country'):\n",
    "    print '* ' + element.find('name').text + ':',\n",
    "    capitals_string = ''\n",
    "    for subelement in element.getiterator('city'):\n",
    "        capitals_string += subelement.find('name').text + ', '\n",
    "    print capitals_string[:-2]"
   ]
  },
  {
   "cell_type": "markdown",
   "metadata": {},
   "source": [
    "****\n",
    "## XML exercise\n",
    "\n",
    "Using data in 'data/mondial_database.xml', the examples above, and refering to https://docs.python.org/2.7/library/xml.etree.elementtree.html, find\n",
    "\n",
    "1. 10 countries with the lowest infant mortality rates\n",
    "2. 10 cities with the largest population\n",
    "3. 10 ethnic groups with the largest overall populations (sum of best/latest estimates over all countries)\n",
    "4. name and country of a) longest river, b) largest lake and c) airport at highest elevation"
   ]
  },
  {
   "cell_type": "code",
   "execution_count": 6,
   "metadata": {
    "collapsed": false
   },
   "outputs": [],
   "source": [
    "document = ET.parse( './data/mondial_database.xml' )\n",
    "\n"
   ]
  },
  {
   "cell_type": "code",
   "execution_count": 7,
   "metadata": {
    "collapsed": false
   },
   "outputs": [
    {
     "name": "stdout",
     "output_type": "stream",
     "text": [
      "('Monaco', 1.81)\n",
      "('Japan', 2.13)\n",
      "('Bermuda', 2.48)\n",
      "('Norway', 2.48)\n",
      "('Singapore', 2.53)\n",
      "('Sweden', 2.6)\n",
      "('Czech Republic', 2.63)\n",
      "('Hong Kong', 2.73)\n",
      "('Macao', 3.13)\n",
      "('Iceland', 3.15)\n"
     ]
    }
   ],
   "source": [
    "# 10 countries with the lowest infant mortality rates\n",
    "import operator\n",
    "root = document.getroot()\n",
    "c_inf_mort = {}\n",
    "for child in root.iterfind('country'):\n",
    "    for tmp in child:\n",
    "        if tmp.tag == 'name':\n",
    "            c = tmp.text\n",
    "        if tmp.tag == 'infant_mortality':\n",
    "            c_inf_mort[c] = float(tmp.text)\n",
    "            \n",
    "c_i_m_s = sorted(c_inf_mort.items(), key=operator.itemgetter(1))\n",
    "for i in range(10):\n",
    "    print c_i_m_s[i]"
   ]
  },
  {
   "cell_type": "code",
   "execution_count": 8,
   "metadata": {
    "collapsed": false
   },
   "outputs": [
    {
     "name": "stdout",
     "output_type": "stream",
     "text": [
      "('Shanghai', 22315474)\n",
      "('Istanbul', 13710512)\n",
      "('Mumbai', 12442373)\n",
      "('Moscow', 11979529)\n",
      "('Beijing', 11716620)\n",
      "(u'S\\xe3o Paulo', 11152344)\n",
      "('Tianjin', 11090314)\n",
      "('Guangzhou', 11071424)\n",
      "('Delhi', 11034555)\n",
      "('Shenzhen', 10358381)\n"
     ]
    }
   ],
   "source": [
    "# 10 cities with the largest population\n",
    "city_pop = {}\n",
    "for child in root.iter('city'):\n",
    "    for sub in child:\n",
    "        if sub.tag == 'name':\n",
    "            city = sub.text\n",
    "        if sub.tag == 'population':\n",
    "            city_pop[city] = int(sub.text)\n",
    "ci_pop = sorted(city_pop.items(), key=operator.itemgetter(1))\n",
    "ci_pop.reverse()\n",
    "for i in range(10):\n",
    "    print ci_pop[i]"
   ]
  },
  {
   "cell_type": "code",
   "execution_count": 9,
   "metadata": {
    "collapsed": false
   },
   "outputs": [
    {
     "name": "stdout",
     "output_type": "stream",
     "text": [
      "('Han Chinese', 1245058800.0)\n",
      "('Indo-Aryan', 871815583.4399999)\n",
      "('European', 494872219.7195999)\n",
      "('African', 318325120.36899996)\n",
      "('Dravidian', 302713744.25)\n",
      "('Mestizo', 157734354.93699998)\n",
      "('Bengali', 146776916.72)\n",
      "('Russian', 131856996.077)\n",
      "('Japanese', 126534212.00000001)\n",
      "('Malay', 121993550.374)\n"
     ]
    }
   ],
   "source": [
    "# 10 ethnic groups with the largest overall population (sum of latest estimates over each country)\n",
    "ethnic_group = {}\n",
    "for child in root.iterfind('country'):\n",
    "    for tmp in child:\n",
    "        if tmp.tag == 'name':\n",
    "            c = tmp.text\n",
    "        if tmp.tag == 'population':\n",
    "            pop = float(tmp.text)\n",
    "        if tmp.tag == 'ethnicgroup':\n",
    "            group = tmp.text\n",
    "            gr_pop = (float(tmp.get('percentage'))/100)*pop\n",
    "            if group in ethnic_group:\n",
    "                ethnic_group[group] = ethnic_group[group]+gr_pop\n",
    "            else:\n",
    "                ethnic_group[group] = gr_pop\n",
    "eth_gr = sorted(ethnic_group.items(), key=operator.itemgetter(1))\n",
    "eth_gr.reverse()\n",
    "for i in range(10):\n",
    "    print eth_gr[i]"
   ]
  },
  {
   "cell_type": "code",
   "execution_count": 24,
   "metadata": {
    "collapsed": false
   },
   "outputs": [
    {
     "name": "stdout",
     "output_type": "stream",
     "text": [
      "Amazonas CO BR PE 6448.0\n",
      "Caspian Sea R AZ KAZ IR TM 386400.0\n",
      "El Alto Intl BOL 4063\n"
     ]
    }
   ],
   "source": [
    "# Name and country of a) longest river, b) largest lake and c) airport at highest elevation\n",
    "\n",
    "river_l = {}\n",
    "river_c = {}\n",
    "lake_a = {}\n",
    "lake_c = {}\n",
    "airport_e = {}\n",
    "airport_c = {}\n",
    "for child in root.iterfind('river'):\n",
    "    for grchild in child:\n",
    "        if grchild.tag == 'name':\n",
    "            ri = grchild.text\n",
    "        if grchild.tag == 'length':\n",
    "            le = float(grchild.text)\n",
    "            river_l[ri] = le\n",
    "            river_c[ri] = child.get('country')\n",
    "ri_l_s = sorted(river_l.items(), key=operator.itemgetter(1))\n",
    "print ri_l_s[-1][0], river_c[ri_l_s[-1][0]], ri_l_s[-1][1]\n",
    "for child in root.iterfind('lake'):\n",
    "    for grchild in child:\n",
    "        if grchild.tag == 'name':\n",
    "            la = grchild.text\n",
    "        if grchild.tag == 'area':\n",
    "            ar = float(grchild.text)\n",
    "            lake_a[la] = ar\n",
    "            lake_c[la] = child.get('country')\n",
    "la_l_s = sorted(lake_a.items(), key=operator.itemgetter(1))\n",
    "print la_l_s[-1][0], lake_c[la_l_s[-1][0]], la_l_s[-1][1]\n",
    "for child in root.iterfind('airport'):\n",
    "    for grchild in child:\n",
    "        if grchild.tag == 'name':\n",
    "            ap = grchild.text\n",
    "        if grchild.tag == 'elevation':\n",
    "            try:\n",
    "                int(grchild.text)\n",
    "            except:\n",
    "                next\n",
    "            else:\n",
    "                el = int(grchild.text)\n",
    "                airport_e[ap] = el\n",
    "                airport_c[ap] = child.get('country')\n",
    "ap_l_s = sorted(airport_e.items(), key=operator.itemgetter(1))\n",
    "print ap_l_s[-1][0], airport_c[ap_l_s[-1][0]], ap_l_s[-1][1]\n"
   ]
  },
  {
   "cell_type": "code",
   "execution_count": null,
   "metadata": {
    "collapsed": true
   },
   "outputs": [],
   "source": []
  },
  {
   "cell_type": "code",
   "execution_count": null,
   "metadata": {
    "collapsed": true
   },
   "outputs": [],
   "source": []
  },
  {
   "cell_type": "code",
   "execution_count": null,
   "metadata": {
    "collapsed": true
   },
   "outputs": [],
   "source": []
  },
  {
   "cell_type": "code",
   "execution_count": null,
   "metadata": {
    "collapsed": true
   },
   "outputs": [],
   "source": []
  },
  {
   "cell_type": "code",
   "execution_count": null,
   "metadata": {
    "collapsed": true
   },
   "outputs": [],
   "source": []
  },
  {
   "cell_type": "code",
   "execution_count": null,
   "metadata": {
    "collapsed": true
   },
   "outputs": [],
   "source": []
  }
 ],
 "metadata": {
  "kernelspec": {
   "display_name": "Python 2",
   "language": "python",
   "name": "python2"
  },
  "language_info": {
   "codemirror_mode": {
    "name": "ipython",
    "version": 2
   },
   "file_extension": ".py",
   "mimetype": "text/x-python",
   "name": "python",
   "nbconvert_exporter": "python",
   "pygments_lexer": "ipython2",
   "version": "2.7.10"
  }
 },
 "nbformat": 4,
 "nbformat_minor": 0
}
