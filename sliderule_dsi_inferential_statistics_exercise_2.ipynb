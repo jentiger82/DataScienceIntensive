{
 "cells": [
  {
   "cell_type": "markdown",
   "metadata": {},
   "source": [
    "\n",
    "### Examining racial discrimination in the US job market\n",
    "\n",
    "#### Background\n",
    "Racial discrimination continues to be pervasive in cultures throughout the world. Researchers examined the level of racial discrimination in the United States labor market by randomly assigning identical résumés black-sounding or white-sounding names and observing the impact on requests for interviews from employers.\n",
    "\n",
    "#### Data\n",
    "In the dataset provided, each row represents a resume. The 'race' column has two values, 'b' and 'w', indicating black-sounding and white-sounding. The column 'call' has two values, 1 and 0, indicating whether the resume received a call from employers or not.\n",
    "\n",
    "Note that the 'b' and 'w' values in race are assigned randomly to the resumes.\n",
    "\n",
    "#### Exercise\n",
    "You will perform a statistical analysis to establish whether race has a significant impact on the rate of callbacks for resumes.\n",
    "\n",
    "Answer the following questions **in this notebook below and submit to your Github account**. \n",
    "\n",
    "   1. What test is appropriate for this problem? Does CLT apply?\n",
    "   2. What are the null and alternate hypotheses?\n",
    "   3. Compute margin of error, confidence interval, and p-value.\n",
    "   4. Discuss statistical significance.\n",
    "\n",
    "You can include written notes in notebook cells using Markdown: \n",
    "   - In the control panel at the top, choose Cell > Cell Type > Markdown\n",
    "   - Markdown syntax: http://nestacms.com/docs/creating-content/markdown-cheat-sheet\n",
    "\n",
    "\n",
    "#### Resources\n",
    "+ Experiment information and data source: http://www.povertyactionlab.org/evaluation/discrimination-job-market-united-states\n",
    "+ Scipy statistical methods: http://docs.scipy.org/doc/scipy/reference/stats.html \n",
    "+ Markdown syntax: http://nestacms.com/docs/creating-content/markdown-cheat-sheet\n",
    "\n",
    "****"
   ]
  },
  {
   "cell_type": "code",
   "execution_count": 1,
   "metadata": {
    "collapsed": true
   },
   "outputs": [],
   "source": [
    "import pandas as pd\n",
    "import numpy as np\n",
    "from scipy import stats"
   ]
  },
  {
   "cell_type": "code",
   "execution_count": 2,
   "metadata": {
    "collapsed": false
   },
   "outputs": [],
   "source": [
    "data = pd.io.stata.read_stata('data/us_job_market_discrimination.dta')"
   ]
  },
  {
   "cell_type": "code",
   "execution_count": 3,
   "metadata": {
    "collapsed": false
   },
   "outputs": [
    {
     "data": {
      "text/plain": [
       "157.0"
      ]
     },
     "execution_count": 3,
     "metadata": {},
     "output_type": "execute_result"
    }
   ],
   "source": [
    "# number of callbacks for black-sounding names\n",
    "sum(data[data.race=='b'].call)"
   ]
  },
  {
   "cell_type": "code",
   "execution_count": 4,
   "metadata": {
    "collapsed": false
   },
   "outputs": [
    {
     "data": {
      "text/plain": [
       "235.0"
      ]
     },
     "execution_count": 4,
     "metadata": {},
     "output_type": "execute_result"
    }
   ],
   "source": [
    "# number of callbacks for white-sounding names\n",
    "sum(data[data.race=='w'].call)"
   ]
  },
  {
   "cell_type": "code",
   "execution_count": 6,
   "metadata": {
    "collapsed": false
   },
   "outputs": [
    {
     "data": {
      "text/plain": [
       "2435"
      ]
     },
     "execution_count": 6,
     "metadata": {},
     "output_type": "execute_result"
    }
   ],
   "source": [
    "# number of black-sounding names\n",
    "len(data[data.race=='b'].race)"
   ]
  },
  {
   "cell_type": "code",
   "execution_count": 7,
   "metadata": {
    "collapsed": false
   },
   "outputs": [
    {
     "data": {
      "text/plain": [
       "2435"
      ]
     },
     "execution_count": 7,
     "metadata": {},
     "output_type": "execute_result"
    }
   ],
   "source": [
    "# number of white-sounding names\n",
    "len(data[data.race=='w'].race)"
   ]
  },
  {
   "cell_type": "code",
   "execution_count": 16,
   "metadata": {
    "collapsed": false
   },
   "outputs": [
    {
     "name": "stdout",
     "output_type": "stream",
     "text": [
      "('Proportions, black - ', 0.064, ', white - ', 0.097)\n",
      "('Pooled proportion: ', 0.08)\n",
      "('Successes/Failures: ', 195.99999999999997, 2239.0, 195.99999999999997, 2239.0)\n",
      "('Standard error: ', 0.007796894036170457)\n",
      "('Point estimate: ', -0.032)\n",
      "('Z-score: ', -4.1084121524343464)\n",
      "('p-value: ', 3.9838868375774439e-05)\n"
     ]
    }
   ],
   "source": [
    "# proportion of callbacks for black-sounding or white-sounding names\n",
    "data_b = data[data.race=='b']\n",
    "data_w = data[data.race=='w']\n",
    "p_b = sum(data_b.call)/len(data_b.race)\n",
    "p_w = sum(data_w.call)/len(data_w.race)\n",
    "print(\"Proportions, black - \",round(p_b,3),\", white - \",round(p_w,3))\n",
    "p_pool = (sum(data_b.call)+sum(data_w.call))/(len(data_b.race)+len(data_w.race))\n",
    "print(\"Pooled proportion: \", round(p_pool,3))\n",
    "\n",
    "#Calculate Failures/Successes\n",
    "s_b = len(data_b.race)*p_pool\n",
    "f_b = len(data_b.race)*(1-p_pool)\n",
    "s_w = len(data_w.race)*p_pool\n",
    "f_w = len(data_w.race)*(1-p_pool)\n",
    "print(\"Successes/Failures: \",s_b,f_b,s_w,f_w)\n",
    "\n",
    "#Calculate standard error:\n",
    "import math\n",
    "se = math.sqrt(((p_pool*(1-p_pool))/len(data_b.race))+((p_pool*(1-p_pool))/len(data_w.race)))\n",
    "print(\"Standard error: \",se)\n",
    "\n",
    "# Point estimate:\n",
    "po_es = p_b - p_w\n",
    "print(\"Point estimate: \",round(po_es,3))\n",
    "\n",
    "# Z-score:\n",
    "z = (po_es-0)/se\n",
    "print(\"Z-score: \", z)\n",
    "\n",
    "from scipy import stats\n",
    "# get p-value for Z-score\n",
    "pval = 2*(1-stats.norm.cdf(abs(z)))\n",
    "print(\"p-value: \",pval)"
   ]
  },
  {
   "cell_type": "markdown",
   "metadata": {},
   "source": [
    "I used hypothesis testing to determine if the proportion to be called back depends on race. The null hypothesis is that the proportion of callbacks for black-sounding names is the same as the one for white-sounding names. The alternative hypothesis is that the proportion of callbacks is different for black-sounding and white-sounding names. The data sets are independently sampled for both within as well as between groups. In addition, the number of successes and failures for both groups is greater than 10. This means we can apply the CLT. According to the applied hypothesis test p-value (<0.0001) the null hypothesis has to be rejected. "
   ]
  },
  {
   "cell_type": "code",
   "execution_count": null,
   "metadata": {
    "collapsed": true
   },
   "outputs": [],
   "source": []
  }
 ],
 "metadata": {
  "kernelspec": {
   "display_name": "Python 2",
   "language": "python",
   "name": "python2"
  },
  "language_info": {
   "codemirror_mode": {
    "name": "ipython",
    "version": 2
   },
   "file_extension": ".py",
   "mimetype": "text/x-python",
   "name": "python",
   "nbconvert_exporter": "python",
   "pygments_lexer": "ipython2",
   "version": "2.7.10"
  }
 },
 "nbformat": 4,
 "nbformat_minor": 0
}
