{
 "cells": [
  {
   "cell_type": "markdown",
   "metadata": {},
   "source": [
    "# My Datastory - Predicting Parkinson's disease using Speech Data\n",
    "\n"
   ]
  },
  {
   "cell_type": "markdown",
   "metadata": {},
   "source": [
    "Parkinson's disease (PD) is a progressive, incurable neurodegenerative disorder of the central nervous system that causes partial or full loss in motor reflexes, speech, behavior, mental processing, and other important functions. After Alzheimer's disease, PD is the second most common neurodegenerative disease. In general, PD occurs in one out of every hundred people over 65 years of age. Currently, there are only symptomatic treatments available and monitoring of disease progression requires special testing. The three data sets I will analyse in my Capstone Project were produced in order to determine if PD-associate speech impairments can be used to telediagnose PD or to telemonitor PD progression. PD is associated with speech impairments like dysphonia (defective use of voice), hypophonia (reduced volume), monotone (reduced pitch range), and dysarthia (difficulty with articulation of sounds).  \n",
    "For the datastory, I am focussing on one data set. The data set consists of 26 voice samples for each of the 20 PD patients and 20 healthy individuals selected for this study. In addition, there is an independent validation data set available from 28 additional PD patients with 6 sound recordings each. From each voice sample 26 different time-frequency-based features were extracted and will be used for the prediction. The main data set also includes the Unified Parkinson's Disease Rating Scale (UPDRS) as a measure of PD progression for each subject.  \n",
    "\n",
    "\n",
    "## Visualization and analysis based on single sound recordings\n",
    "\n",
    "First I will explore the main data set based on the individual 26 sound recordings of each subject."
   ]
  },
  {
   "cell_type": "code",
   "execution_count": 1,
   "metadata": {
    "collapsed": true
   },
   "outputs": [],
   "source": [
    "# Load dataset (CSV file) into a Pandas dataframe\n",
    "import pandas as pd\n",
    "pd_s1 = pd.read_csv(\"train_data1.csv\",header=False) "
   ]
  },
  {
   "cell_type": "code",
   "execution_count": 2,
   "metadata": {
    "collapsed": false
   },
   "outputs": [
    {
     "data": {
      "text/html": [
       "<div>\n",
       "<table border=\"1\" class=\"dataframe\">\n",
       "  <thead>\n",
       "    <tr style=\"text-align: right;\">\n",
       "      <th></th>\n",
       "      <th>sample</th>\n",
       "      <th>d1</th>\n",
       "      <th>d2</th>\n",
       "      <th>d3</th>\n",
       "      <th>d4</th>\n",
       "      <th>d5</th>\n",
       "      <th>d6</th>\n",
       "      <th>d7</th>\n",
       "      <th>d8</th>\n",
       "      <th>d9</th>\n",
       "      <th>...</th>\n",
       "      <th>d19</th>\n",
       "      <th>d20</th>\n",
       "      <th>d21</th>\n",
       "      <th>d22</th>\n",
       "      <th>d23</th>\n",
       "      <th>d24</th>\n",
       "      <th>d25</th>\n",
       "      <th>d26</th>\n",
       "      <th>udprs</th>\n",
       "      <th>group</th>\n",
       "    </tr>\n",
       "  </thead>\n",
       "  <tbody>\n",
       "    <tr>\n",
       "      <th>0</th>\n",
       "      <td>1_1</td>\n",
       "      <td>1.488</td>\n",
       "      <td>0.000090</td>\n",
       "      <td>0.900</td>\n",
       "      <td>0.794</td>\n",
       "      <td>2.699</td>\n",
       "      <td>8.334</td>\n",
       "      <td>0.779</td>\n",
       "      <td>4.517</td>\n",
       "      <td>4.609</td>\n",
       "      <td>...</td>\n",
       "      <td>187.576</td>\n",
       "      <td>160</td>\n",
       "      <td>159</td>\n",
       "      <td>0.006065</td>\n",
       "      <td>0.000416</td>\n",
       "      <td>0.000</td>\n",
       "      <td>0</td>\n",
       "      <td>0.000</td>\n",
       "      <td>23</td>\n",
       "      <td>1</td>\n",
       "    </tr>\n",
       "    <tr>\n",
       "      <th>1</th>\n",
       "      <td>1_2</td>\n",
       "      <td>0.728</td>\n",
       "      <td>0.000038</td>\n",
       "      <td>0.353</td>\n",
       "      <td>0.376</td>\n",
       "      <td>1.059</td>\n",
       "      <td>5.864</td>\n",
       "      <td>0.642</td>\n",
       "      <td>2.058</td>\n",
       "      <td>3.180</td>\n",
       "      <td>...</td>\n",
       "      <td>234.505</td>\n",
       "      <td>170</td>\n",
       "      <td>169</td>\n",
       "      <td>0.005181</td>\n",
       "      <td>0.000403</td>\n",
       "      <td>2.247</td>\n",
       "      <td>0</td>\n",
       "      <td>0.000</td>\n",
       "      <td>23</td>\n",
       "      <td>1</td>\n",
       "    </tr>\n",
       "    <tr>\n",
       "      <th>2</th>\n",
       "      <td>1_3</td>\n",
       "      <td>1.220</td>\n",
       "      <td>0.000074</td>\n",
       "      <td>0.732</td>\n",
       "      <td>0.670</td>\n",
       "      <td>2.196</td>\n",
       "      <td>8.719</td>\n",
       "      <td>0.875</td>\n",
       "      <td>4.347</td>\n",
       "      <td>5.166</td>\n",
       "      <td>...</td>\n",
       "      <td>211.442</td>\n",
       "      <td>1431</td>\n",
       "      <td>1427</td>\n",
       "      <td>0.006071</td>\n",
       "      <td>0.000474</td>\n",
       "      <td>10.656</td>\n",
       "      <td>1</td>\n",
       "      <td>0.178</td>\n",
       "      <td>23</td>\n",
       "      <td>1</td>\n",
       "    </tr>\n",
       "    <tr>\n",
       "      <th>3</th>\n",
       "      <td>1_4</td>\n",
       "      <td>2.502</td>\n",
       "      <td>0.000123</td>\n",
       "      <td>1.156</td>\n",
       "      <td>1.634</td>\n",
       "      <td>3.469</td>\n",
       "      <td>13.513</td>\n",
       "      <td>1.273</td>\n",
       "      <td>5.263</td>\n",
       "      <td>8.771</td>\n",
       "      <td>...</td>\n",
       "      <td>220.230</td>\n",
       "      <td>94</td>\n",
       "      <td>92</td>\n",
       "      <td>0.004910</td>\n",
       "      <td>0.000320</td>\n",
       "      <td>0.000</td>\n",
       "      <td>0</td>\n",
       "      <td>0.000</td>\n",
       "      <td>23</td>\n",
       "      <td>1</td>\n",
       "    </tr>\n",
       "    <tr>\n",
       "      <th>4</th>\n",
       "      <td>1_5</td>\n",
       "      <td>3.509</td>\n",
       "      <td>0.000167</td>\n",
       "      <td>1.715</td>\n",
       "      <td>1.539</td>\n",
       "      <td>5.145</td>\n",
       "      <td>9.112</td>\n",
       "      <td>1.040</td>\n",
       "      <td>3.102</td>\n",
       "      <td>4.927</td>\n",
       "      <td>...</td>\n",
       "      <td>225.162</td>\n",
       "      <td>117</td>\n",
       "      <td>114</td>\n",
       "      <td>0.004757</td>\n",
       "      <td>0.000380</td>\n",
       "      <td>18.182</td>\n",
       "      <td>1</td>\n",
       "      <td>13.318</td>\n",
       "      <td>23</td>\n",
       "      <td>1</td>\n",
       "    </tr>\n",
       "  </tbody>\n",
       "</table>\n",
       "<p>5 rows × 29 columns</p>\n",
       "</div>"
      ],
      "text/plain": [
       "  sample     d1        d2     d3     d4     d5      d6     d7     d8     d9  \\\n",
       "0    1_1  1.488  0.000090  0.900  0.794  2.699   8.334  0.779  4.517  4.609   \n",
       "1    1_2  0.728  0.000038  0.353  0.376  1.059   5.864  0.642  2.058  3.180   \n",
       "2    1_3  1.220  0.000074  0.732  0.670  2.196   8.719  0.875  4.347  5.166   \n",
       "3    1_4  2.502  0.000123  1.156  1.634  3.469  13.513  1.273  5.263  8.771   \n",
       "4    1_5  3.509  0.000167  1.715  1.539  5.145   9.112  1.040  3.102  4.927   \n",
       "\n",
       "   ...        d19   d20   d21       d22       d23     d24  d25     d26  udprs  \\\n",
       "0  ...    187.576   160   159  0.006065  0.000416   0.000    0   0.000     23   \n",
       "1  ...    234.505   170   169  0.005181  0.000403   2.247    0   0.000     23   \n",
       "2  ...    211.442  1431  1427  0.006071  0.000474  10.656    1   0.178     23   \n",
       "3  ...    220.230    94    92  0.004910  0.000320   0.000    0   0.000     23   \n",
       "4  ...    225.162   117   114  0.004757  0.000380  18.182    1  13.318     23   \n",
       "\n",
       "   group  \n",
       "0      1  \n",
       "1      1  \n",
       "2      1  \n",
       "3      1  \n",
       "4      1  \n",
       "\n",
       "[5 rows x 29 columns]"
      ]
     },
     "execution_count": 2,
     "metadata": {},
     "output_type": "execute_result"
    }
   ],
   "source": [
    "pd_s1.head()"
   ]
  },
  {
   "cell_type": "markdown",
   "metadata": {},
   "source": [
    "Overview on the the time-frequency-based features extracted from the collected voice samples:\n",
    "Features d1-d5 are frequency parameters based on Jitter, i.e. frequency of voice amplitudes.\n",
    "Features d6-d11 are amplitude (shimmer) based parameters.\n",
    "Features d12-d14 are harmonicity parameters and include autocorrelation, noise-to-harmonic and harmonic-to-noise.\n",
    "Features d15-d19 are parameters describing different elements of pitch.\n",
    "Features d20-d23 are pulse parameters, while features d24-d26 are voice parameters. "
   ]
  },
  {
   "cell_type": "markdown",
   "metadata": {},
   "source": [
    "d1\tJitter (local)  \n",
    "d2\tJitter (local, absolute)  \n",
    "d3\tJitter (RAP)  \n",
    "d4\tJitter (PPQ5)  \n",
    "d5\tJitter (DDP)  \n",
    "d6\tShimmer (local)  \n",
    "d7\tShimmer (local, dB)  \n",
    "d8\tShimmer (APQ3)  \n",
    "d9\tShimmer (APQ5)  \n",
    "d10\tShimmer (APQ11)  \n",
    "d11\tShimmer (DDA)  \n",
    "d12\tAutocorrelation (AC)  \n",
    "d13\tNoise-To-Harmonic (NTH)  \n",
    "d14\tHarmonic-To-Noise (HTN)  \n",
    "d15\tMedian pitch  \n",
    "d16\tMean pitch  \n",
    "d17\tPitch standard deviation  \n",
    "d18\tMinimum pitch  \n",
    "d19\tMaximum pitch  \n",
    "d20\tNumber of pulses  \n",
    "d21\tNumber of periods  \n",
    "d22\tMean period  \n",
    "d23\tPeriod standard deviation  \n",
    "d24\tFraction of locally unvoiced frames  \n",
    "d25\tNumber of voice breaks  \n",
    "d26\tDegree of voice breaks  "
   ]
  },
  {
   "cell_type": "code",
   "execution_count": 3,
   "metadata": {
    "collapsed": false
   },
   "outputs": [],
   "source": [
    "%matplotlib inline\n",
    "import matplotlib\n",
    "import matplotlib.pyplot as plt\n",
    "import numpy as np\n"
   ]
  },
  {
   "cell_type": "code",
   "execution_count": 4,
   "metadata": {
    "collapsed": true
   },
   "outputs": [],
   "source": [
    "# histogram buckets\n",
    "buckets = 15"
   ]
  },
  {
   "cell_type": "code",
   "execution_count": 5,
   "metadata": {
    "collapsed": false
   },
   "outputs": [
    {
     "data": {
      "image/png": "[encoded data removed]",
      "text/plain": [
       "<matplotlib.figure.Figure at 0xba5f4e0>"
      ]
     },
     "metadata": {},
     "output_type": "display_data"
    }
   ],
   "source": [
    "plt.figure()\n",
    "plt.hist(pd_s1.d1, buckets)\n",
    "plt.show()"
   ]
  },
  {
   "cell_type": "code",
   "execution_count": null,
   "metadata": {
    "collapsed": false
   },
   "outputs": [],
   "source": []
  },
  {
   "cell_type": "code",
   "execution_count": 7,
   "metadata": {
    "collapsed": false,
    "scrolled": false
   },
   "outputs": [
    {
     "name": "stdout",
     "output_type": "stream",
     "text": [
      "height has been deprecated.\n",
      "\n",
      "Correlation matrix\n",
      "           d1        d2        d3        d4        d5        d6        d7        d8        d9       d10       d11       d12       d13       d14       d15       d16       d17       d18       d19       d20       d21       d22       d23       d24       d25       d26\n",
      "d1   1.000000  0.889940  0.946344  0.924905  0.946338  0.544712  0.551880  0.491476  0.514330  0.505801  0.491483 -0.718577  0.720482 -0.677573 -0.046446  0.037729  0.387651 -0.162519  0.191052 -0.223167 -0.250024 -0.023610  0.555272  0.481804  0.418010  0.422858\n",
      "d2   0.889940  1.000000  0.824403  0.819394  0.824429  0.516369  0.505565  0.468352  0.480974  0.493508  0.468363 -0.652035  0.648741 -0.629389 -0.439502 -0.381075  0.130593 -0.486747 -0.166437 -0.429986 -0.446427  0.396293  0.533016  0.405698  0.310373  0.306027\n",
      "d3   0.946344  0.824403  1.000000  0.949773  0.999999  0.556443  0.564861  0.516614  0.526401  0.505554  0.516622 -0.654195  0.657798 -0.620029 -0.003074  0.066455  0.318081 -0.079181  0.188452 -0.143817 -0.166165 -0.060646  0.425524  0.404540  0.381308  0.380787\n",
      "d4   0.924905  0.819394  0.949773  1.000000  0.949755  0.548966  0.565340  0.491509  0.528545  0.528502  0.491518 -0.653558  0.657697 -0.617965 -0.018211  0.043960  0.312845 -0.103741  0.171332 -0.141342 -0.160726 -0.036659  0.426282  0.379781  0.365448  0.352761\n",
      "d5   0.946338  0.824429  0.999999  0.949755  1.000000  0.556427  0.564830  0.516606  0.526394  0.505533  0.516613 -0.654156  0.657762 -0.619988 -0.003108  0.066422  0.318077 -0.079226  0.188462 -0.143773 -0.166120 -0.060609  0.425553  0.404493  0.381303  0.380775\n",
      "d6   0.544712  0.516369  0.556443  0.548966  0.556427  1.000000  0.967407  0.906915  0.917079  0.768041  0.906919 -0.734963  0.708273 -0.777092 -0.130332 -0.045008  0.227258 -0.123973  0.089427 -0.226739 -0.254839  0.061504  0.364536  0.421846  0.287111  0.313150\n",
      "d7   0.551880  0.505565  0.564861  0.565340  0.564830  0.967407  1.000000  0.851213  0.875463  0.758382  0.851213 -0.738062  0.715959 -0.763769 -0.098935 -0.009550  0.249076 -0.099296  0.116535 -0.196349 -0.224371  0.026542  0.368380  0.409980  0.299439  0.320277\n",
      "d8   0.491476  0.468352  0.516614  0.491509  0.516606  0.906915  0.851213  1.000000  0.887832  0.634505  1.000000 -0.654897  0.620633 -0.718592 -0.110939 -0.042493  0.176258 -0.100185  0.065558 -0.205286 -0.230200  0.058887  0.296962  0.376719  0.240487  0.274515\n",
      "d9   0.514330  0.480974  0.526401  0.528545  0.526394  0.917079  0.875463  0.887832  1.000000  0.739080  0.887826 -0.687254  0.656883 -0.744598 -0.092712 -0.025745  0.225535 -0.095578  0.087650 -0.197517 -0.220879  0.041692  0.334220  0.378049  0.251156  0.271422\n",
      "d10  0.505801  0.493508  0.505554  0.528502  0.505533  0.768041  0.758382  0.634505  0.739080  1.000000  0.634514 -0.578175  0.564194 -0.607978 -0.131399 -0.071833  0.211563 -0.150177  0.051712 -0.170119 -0.186999  0.083304  0.331784  0.301535  0.253382  0.246239\n",
      "d11  0.491483  0.468363  0.516622  0.491518  0.516613  0.906919  0.851213  1.000000  0.887826  0.634514  1.000000 -0.654903  0.620636 -0.718595 -0.110953 -0.042505  0.176258 -0.100208  0.065550 -0.205284 -0.230198  0.058898  0.296974  0.376708  0.240497  0.274522\n",
      "d12 -0.718577 -0.652035 -0.654195 -0.653558 -0.654156 -0.734963 -0.738062 -0.654897 -0.687254 -0.578175 -0.654903  1.000000 -0.991966  0.970284  0.105366 -0.009964 -0.366622  0.163888 -0.183193  0.295243  0.332213 -0.013996 -0.525123 -0.589949 -0.446314 -0.471926\n",
      "d13  0.720482  0.648741  0.657798  0.657697  0.657762  0.708273  0.715959  0.620633  0.656883  0.564194  0.620636 -0.991966  1.000000 -0.939690 -0.095183  0.018451  0.368062 -0.160036  0.191521 -0.273671 -0.310427  0.004330  0.521509  0.574341  0.453842  0.470736\n",
      "d14 -0.677573 -0.629389 -0.620029 -0.617965 -0.619988 -0.777092 -0.763769 -0.718592 -0.744598 -0.607978 -0.718595  0.970284 -0.939690  1.000000  0.130203  0.016451 -0.338802  0.167288 -0.152480  0.325800  0.361682 -0.041376 -0.502716 -0.597542 -0.416236 -0.458761\n",
      "d15 -0.046446 -0.439502 -0.003074 -0.018211 -0.003108 -0.130332 -0.098935 -0.110939 -0.092712 -0.131399 -0.110953  0.105366 -0.095183  0.130203  1.000000  0.937197  0.375481  0.831176  0.689679  0.455543  0.446737 -0.950736 -0.196632  0.024362  0.021495  0.062999\n",
      "d16  0.037729 -0.381075  0.066455  0.043960  0.066422 -0.045008 -0.009550 -0.042493 -0.025745 -0.071833 -0.042505 -0.009964  0.018451  0.016451  0.937197  1.000000  0.538425  0.798216  0.843590  0.460981  0.438186 -0.995764 -0.034899  0.097417  0.126308  0.158667\n",
      "d17  0.387651  0.130593  0.318081  0.312845  0.318077  0.227258  0.249076  0.176258  0.225535  0.211563  0.176258 -0.366622  0.368062 -0.338802  0.375481  0.538425  1.000000  0.104876  0.796370  0.211617  0.178041 -0.510977  0.732243  0.316366  0.493454  0.488276\n",
      "d18 -0.162519 -0.486747 -0.079181 -0.103741 -0.079226 -0.123973 -0.099296 -0.100185 -0.095578 -0.150177 -0.100208  0.163888 -0.160036  0.167288  0.831176  0.798216  0.104876  1.000000  0.536227  0.317202  0.315097 -0.813096 -0.442719 -0.030906 -0.143902 -0.070892\n",
      "d19  0.191052 -0.166437  0.188452  0.171332  0.188462  0.089427  0.116535  0.065558  0.087650  0.051712  0.065550 -0.183193  0.191521 -0.152480  0.689679  0.843590  0.796370  0.536227  1.000000  0.420021  0.384400 -0.820457  0.330667  0.193811  0.353613  0.353977\n",
      "d20 -0.223167 -0.429986 -0.143817 -0.141342 -0.143773 -0.226739 -0.196349 -0.205286 -0.197517 -0.170119 -0.205284  0.295243 -0.273671  0.325800  0.455543  0.460981  0.211617  0.317202  0.420021  1.000000  0.996474 -0.466187 -0.117808 -0.391988  0.235623  0.100698\n",
      "d21 -0.250024 -0.446427 -0.166165 -0.160726 -0.166120 -0.254839 -0.224371 -0.230200 -0.220879 -0.186999 -0.230198  0.332213 -0.310427  0.361682  0.446737  0.438186  0.178041  0.315097  0.384400  0.996474  1.000000 -0.447093 -0.148884 -0.418814  0.202820  0.068122\n",
      "d22 -0.023610  0.396293 -0.060646 -0.036659 -0.060609  0.061504  0.026542  0.058887  0.041692  0.083304  0.058898 -0.013996  0.004330 -0.041376 -0.950736 -0.995764 -0.510977 -0.813096 -0.820457 -0.466187 -0.447093  1.000000  0.069995 -0.085696 -0.111889 -0.145399\n",
      "d23  0.555272  0.533016  0.425524  0.426282  0.425553  0.364536  0.368380  0.296962  0.334220  0.331784  0.296974 -0.525123  0.521509 -0.502716 -0.196632 -0.034899  0.732243 -0.442719  0.330667 -0.117808 -0.148884  0.069995  1.000000  0.376606  0.483373  0.468492\n",
      "d24  0.481804  0.405698  0.404540  0.379781  0.404493  0.421846  0.409980  0.376719  0.378049  0.301535  0.376708 -0.589949  0.574341 -0.597542  0.024362  0.097417  0.316366 -0.030906  0.193811 -0.391988 -0.418814 -0.085696  0.376606  1.000000  0.399053  0.516416\n",
      "d25  0.418010  0.310373  0.381308  0.365448  0.381303  0.287111  0.299439  0.240487  0.251156  0.253382  0.240497 -0.446314  0.453842 -0.416236  0.021495  0.126308  0.493454 -0.143902  0.353613  0.235623  0.202820 -0.111889  0.483373  0.399053  1.000000  0.899013\n",
      "d26  0.422858  0.306027  0.380787  0.352761  0.380775  0.313150  0.320277  0.274515  0.271422  0.246239  0.274522 -0.471926  0.470736 -0.458761  0.062999  0.158667  0.488276 -0.070892  0.353977  0.100698  0.068122 -0.145399  0.468492  0.516416  0.899013  1.000000\n"
     ]
    }
   ],
   "source": [
    "#Identify relationship between variables by calculating correlations between each feature\n",
    "pd.set_option('display.height', 1000)\n",
    "pd.set_option('display.max_rows', 500)\n",
    "pd.set_option('display.max_columns', 500)\n",
    "pd.set_option('display.width', 1000)\n",
    "v_f = pd_s1.iloc[0:,1:27]\n",
    "corr_df = v_f.corr(method=\"spearman\")\n",
    "print(\"Correlation matrix\")\n",
    "print(corr_df.head(26))"
   ]
  },
  {
   "cell_type": "code",
   "execution_count": 8,
   "metadata": {
    "collapsed": false
   },
   "outputs": [
    {
     "name": "stdout",
     "output_type": "stream",
     "text": [
      "HEATMAP\n"
     ]
    },
    {
     "data": {
      "image/png": "[encoded data removed]",
      "text/plain": [
       "<matplotlib.figure.Figure at 0x18019a58>"
      ]
     },
     "metadata": {},
     "output_type": "display_data"
    }
   ],
   "source": [
    "#Create heatmap of correlation values calculated for each pair of features\n",
    "import seaborn\n",
    "print(\"HEATMAP\")\n",
    "# Create a mask to display only the lower triangle of the matrix (since it's mirrored around its \n",
    "# top-left to bottom-right diagonal).\n",
    "mask = np.zeros_like(corr_df)\n",
    "mask[np.triu_indices_from(mask)] = True\n",
    "# Create the heatmap using seaborn library. \n",
    "# List if colormaps (parameter 'cmap') is available here: http://matplotlib.org/examples/color/colormaps_reference.html\n",
    "seaborn.heatmap(corr_df, cmap='RdYlGn_r', vmax=1.0, vmin=-1.0 , mask = mask, linewidths=2.5)\n",
    " \n",
    "# Show the plot we reorient the labels for each column and row to make them easier to read.\n",
    "plt.yticks(rotation=0) \n",
    "plt.xticks(rotation=90) \n",
    "plt.show()"
   ]
  },
  {
   "cell_type": "markdown",
   "metadata": {
    "collapsed": false
   },
   "source": [
    "The frequency parameters are highly correlated with each other as well as with d13 (noise-to-harmonic) and moderately correlated with the amplitude parameters (d6 to d11) as well as the voicing parameters d24 to d26 and with the pulse parameter d23 (standard deviation of period). The amplitude parameters d6 to d11 show a similar correlation pattern. The harmonicity parameters autocorrelation (d12) and harmonic-to-noise (d14) show a moderate to strong negative correlation with the frequency, amplitude and voicing parameters as well as with feature d13 (noise-to-harmonic) and d23. In contrast, autocorrelation and harmonic-to-noise values are strongly correlated. This is also the case for the two pitch parameters median and mean pitch, for features d20 (number of pulses) and d21 (number of periods) as well as for the number and degree of voice breaks (d25 and d26, respectively). There is also a high correlation between pitch parameters except between the pitch standard deviation and the minimum pitch. In addition there is a moderate to strong negative correlation between the pitch parameters and the mean period (d22)."
   ]
  },
  {
   "cell_type": "code",
   "execution_count": 9,
   "metadata": {
    "collapsed": false
   },
   "outputs": [
    {
     "data": {
      "text/plain": [
       "<matplotlib.axes._subplots.AxesSubplot at 0xba5f2b0>"
      ]
     },
     "execution_count": 9,
     "metadata": {},
     "output_type": "execute_result"
    },
    {
     "data": {
      "image/png": "[encoded data removed]",
      "text/plain": [
       "<matplotlib.figure.Figure at 0xc02f9e8>"
      ]
     },
     "metadata": {},
     "output_type": "display_data"
    }
   ],
   "source": [
    "d1 = pd_s1.d1\n",
    "d1[10:500].plot(kind=\"hist\")\n",
    "#plt.hist(d2)\n"
   ]
  },
  {
   "cell_type": "code",
   "execution_count": null,
   "metadata": {
    "collapsed": false
   },
   "outputs": [],
   "source": [
    "\n"
   ]
  },
  {
   "cell_type": "code",
   "execution_count": null,
   "metadata": {
    "collapsed": false
   },
   "outputs": [],
   "source": []
  },
  {
   "cell_type": "code",
   "execution_count": null,
   "metadata": {
    "collapsed": true
   },
   "outputs": [],
   "source": []
  }
 ],
 "metadata": {
  "kernelspec": {
   "display_name": "Python 2",
   "language": "python",
   "name": "python2"
  },
  "language_info": {
   "codemirror_mode": {
    "name": "ipython",
    "version": 2
   },
   "file_extension": ".py",
   "mimetype": "text/x-python",
   "name": "python",
   "nbconvert_exporter": "python",
   "pygments_lexer": "ipython2",
   "version": "2.7.10"
  }
 },
 "nbformat": 4,
 "nbformat_minor": 0
}
