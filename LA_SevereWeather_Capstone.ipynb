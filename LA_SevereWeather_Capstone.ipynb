{
 "cells": [
  {
   "cell_type": "code",
   "execution_count": 1,
   "metadata": {
    "collapsed": true
   },
   "outputs": [],
   "source": [
    "#Load txt file with information about the gage sites\n",
    "import csv\n",
    "gageSite = open(\"160921_GageSites_LA.txt\",\"r\")\n",
    "csvReader = csv.reader(gageSite, delimiter=' ')"
   ]
  },
  {
   "cell_type": "code",
   "execution_count": 2,
   "metadata": {
    "collapsed": false
   },
   "outputs": [],
   "source": [
    "siteList = []\n",
    "\n",
    "for line in csvReader:\n",
    "    if line[-1]==\"LA\":\n",
    "        siteID = line[5]\n",
    "        place = line[-2][:-1]\n",
    "        pl = line[-3]\n",
    "        if pl != \"near\" and pl != \"at\" and pl != \"nr\" and pl != \"of\" and pl != \"NR\" and pl != \"AT\":\n",
    "            place = ' '.join([pl, place])\n",
    "        siteList.append([siteID,place])"
   ]
  },
  {
   "cell_type": "code",
   "execution_count": 3,
   "metadata": {
    "collapsed": false
   },
   "outputs": [],
   "source": [
    "import pandas as pd\n",
    "%matplotlib inline\n",
    "import matplotlib\n",
    "import matplotlib.pyplot as plt\n",
    "import numpy as np"
   ]
  },
  {
   "cell_type": "code",
   "execution_count": 4,
   "metadata": {
    "collapsed": false
   },
   "outputs": [
    {
     "data": {
      "text/html": [
       "<div>\n",
       "<table border=\"1\" class=\"dataframe\">\n",
       "  <thead>\n",
       "    <tr style=\"text-align: right;\">\n",
       "      <th></th>\n",
       "      <th>ID</th>\n",
       "      <th>City</th>\n",
       "    </tr>\n",
       "  </thead>\n",
       "  <tbody>\n",
       "    <tr>\n",
       "      <th>0</th>\n",
       "      <td>02489500</td>\n",
       "      <td>Bogalusa</td>\n",
       "    </tr>\n",
       "    <tr>\n",
       "      <th>1</th>\n",
       "      <td>02491500</td>\n",
       "      <td>Franklinton</td>\n",
       "    </tr>\n",
       "    <tr>\n",
       "      <th>2</th>\n",
       "      <td>02492000</td>\n",
       "      <td>Bush</td>\n",
       "    </tr>\n",
       "    <tr>\n",
       "      <th>3</th>\n",
       "      <td>02492600</td>\n",
       "      <td>Pearl River</td>\n",
       "    </tr>\n",
       "    <tr>\n",
       "      <th>4</th>\n",
       "      <td>07344450</td>\n",
       "      <td>Greenwood</td>\n",
       "    </tr>\n",
       "  </tbody>\n",
       "</table>\n",
       "</div>"
      ],
      "text/plain": [
       "         ID         City\n",
       "0  02489500     Bogalusa\n",
       "1  02491500  Franklinton\n",
       "2  02492000         Bush\n",
       "3  02492600  Pearl River\n",
       "4  07344450    Greenwood"
      ]
     },
     "execution_count": 4,
     "metadata": {},
     "output_type": "execute_result"
    }
   ],
   "source": [
    "#the following dataframe will be used later to identify the parish in which the gage is found\n",
    "gages = pd.DataFrame(siteList,columns=['ID','City'])\n",
    "gages.head()"
   ]
  },
  {
   "cell_type": "code",
   "execution_count": 38,
   "metadata": {
    "collapsed": false
   },
   "outputs": [
    {
     "data": {
      "text/html": [
       "<div>\n",
       "<table border=\"1\" class=\"dataframe\">\n",
       "  <thead>\n",
       "    <tr style=\"text-align: right;\">\n",
       "      <th></th>\n",
       "      <th>ID</th>\n",
       "      <th>Date</th>\n",
       "      <th>MeanHeight</th>\n",
       "    </tr>\n",
       "  </thead>\n",
       "  <tbody>\n",
       "    <tr>\n",
       "      <th>0</th>\n",
       "      <td>02489500</td>\n",
       "      <td>1970-10-01</td>\n",
       "      <td>6.57</td>\n",
       "    </tr>\n",
       "    <tr>\n",
       "      <th>1</th>\n",
       "      <td>02489500</td>\n",
       "      <td>1970-10-02</td>\n",
       "      <td>6.46</td>\n",
       "    </tr>\n",
       "    <tr>\n",
       "      <th>2</th>\n",
       "      <td>02489500</td>\n",
       "      <td>1970-10-03</td>\n",
       "      <td>6.20</td>\n",
       "    </tr>\n",
       "    <tr>\n",
       "      <th>3</th>\n",
       "      <td>02489500</td>\n",
       "      <td>1970-10-04</td>\n",
       "      <td>5.97</td>\n",
       "    </tr>\n",
       "    <tr>\n",
       "      <th>4</th>\n",
       "      <td>02489500</td>\n",
       "      <td>1970-10-05</td>\n",
       "      <td>5.82</td>\n",
       "    </tr>\n",
       "  </tbody>\n",
       "</table>\n",
       "</div>"
      ],
      "text/plain": [
       "         ID        Date MeanHeight\n",
       "0  02489500  1970-10-01       6.57\n",
       "1  02489500  1970-10-02       6.46\n",
       "2  02489500  1970-10-03       6.20\n",
       "3  02489500  1970-10-04       5.97\n",
       "4  02489500  1970-10-05       5.82"
      ]
     },
     "execution_count": 38,
     "metadata": {},
     "output_type": "execute_result"
    }
   ],
   "source": [
    "#Parsing the file with the daily gage height for all sites in Louisiana (LA)\n",
    "gageMeanHeight = []\n",
    "#gageHeight = open(\"Test.txt\",\"r\")\n",
    "gageHeight = open(\"160921_DailyWaterData_LAbyCounty.txt\",\"r\")\n",
    "csvR = csv.reader(gageHeight, delimiter=\"\\t\")\n",
    "for line in csvR:\n",
    "    if \"#\" not in line[0] and \"agency_cd\" in line[0]:\n",
    "        siteNo_I = line.index(\"site_no\")\n",
    "        date_I = line.index(\"datetime\")\n",
    "        tmp = next((s for s in line if \"00003\" in s), None)\n",
    "        #print tmp\n",
    "        meanH_I = line.index(tmp)\n",
    "        csvR.next()\n",
    "    elif \"#\" not in line[0]:\n",
    "        gageMeanHeight.append([line[siteNo_I], line[date_I], line[meanH_I]])\n",
    "#print gageMeanHeight\n",
    "\n",
    "gageMH = pd.DataFrame(gageMeanHeight,columns=['ID','Date','MeanHeight'])\n",
    "gageMH.head()\n",
    "\n",
    "\n"
   ]
  },
  {
   "cell_type": "code",
   "execution_count": 39,
   "metadata": {
    "collapsed": false
   },
   "outputs": [
    {
     "name": "stdout",
     "output_type": "stream",
     "text": [
      "1026350\n"
     ]
    }
   ],
   "source": [
    "print len(gageMH.index)"
   ]
  },
  {
   "cell_type": "code",
   "execution_count": null,
   "metadata": {
    "collapsed": true
   },
   "outputs": [],
   "source": []
  }
 ],
 "metadata": {
  "anaconda-cloud": {},
  "kernelspec": {
   "display_name": "Python [Root]",
   "language": "python",
   "name": "Python [Root]"
  },
  "language_info": {
   "codemirror_mode": {
    "name": "ipython",
    "version": 2
   },
   "file_extension": ".py",
   "mimetype": "text/x-python",
   "name": "python",
   "nbconvert_exporter": "python",
   "pygments_lexer": "ipython2",
   "version": "2.7.12"
  }
 },
 "nbformat": 4,
 "nbformat_minor": 0
}
